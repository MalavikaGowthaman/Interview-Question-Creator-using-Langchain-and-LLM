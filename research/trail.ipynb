{
 "cells": [
  {
   "cell_type": "markdown",
   "metadata": {},
   "source": [
    "Import Lib necessary to load openai api key"
   ]
  },
  {
   "cell_type": "code",
   "execution_count": 1,
   "metadata": {},
   "outputs": [],
   "source": [
    "import os\n",
    "from dotenv import load_dotenv"
   ]
  },
  {
   "cell_type": "markdown",
   "metadata": {},
   "source": [
    "Load API key"
   ]
  },
  {
   "cell_type": "code",
   "execution_count": 2,
   "metadata": {},
   "outputs": [],
   "source": [
    "load_dotenv()\n",
    "OPENAI_API_KEY= os.getenv(\"OPENAI_API_KEY\")\n",
    "# OPENAI_API_KEY"
   ]
  },
  {
   "cell_type": "code",
   "execution_count": 3,
   "metadata": {},
   "outputs": [],
   "source": [
    "os.environ[\"OPENAI_API_KEY\"] = OPENAI_API_KEY"
   ]
  },
  {
   "cell_type": "markdown",
   "metadata": {},
   "source": [
    "Import Lib needed for loading data here pdf data so needed pdf packages"
   ]
  },
  {
   "cell_type": "code",
   "execution_count": 4,
   "metadata": {},
   "outputs": [],
   "source": [
    "from langchain.document_loaders import PyPDFLoader"
   ]
  },
  {
   "cell_type": "code",
   "execution_count": 5,
   "metadata": {},
   "outputs": [
    {
     "data": {
      "text/plain": [
       "'d:\\\\HOPE\\\\Gen AI\\\\Langchain\\\\Interview-Question-Creator-using-Langchain-and-LLM\\\\research'"
      ]
     },
     "execution_count": 5,
     "metadata": {},
     "output_type": "execute_result"
    }
   ],
   "source": [
    "%pwd"
   ]
  },
  {
   "cell_type": "code",
   "execution_count": 6,
   "metadata": {},
   "outputs": [
    {
     "name": "stdout",
     "output_type": "stream",
     "text": [
      "d:\\HOPE\\Gen AI\\Langchain\\Interview-Question-Creator-using-Langchain-and-LLM\n"
     ]
    }
   ],
   "source": [
    "%cd .."
   ]
  },
  {
   "cell_type": "code",
   "execution_count": 7,
   "metadata": {},
   "outputs": [
    {
     "data": {
      "text/plain": [
       "'d:\\\\HOPE\\\\Gen AI\\\\Langchain\\\\Interview-Question-Creator-using-Langchain-and-LLM'"
      ]
     },
     "execution_count": 7,
     "metadata": {},
     "output_type": "execute_result"
    }
   ],
   "source": [
    "%pwd"
   ]
  },
  {
   "cell_type": "markdown",
   "metadata": {},
   "source": [
    "Set the file path"
   ]
  },
  {
   "cell_type": "code",
   "execution_count": 8,
   "metadata": {},
   "outputs": [],
   "source": [
    "file_path = \"data/Heart.pdf\""
   ]
  },
  {
   "cell_type": "markdown",
   "metadata": {},
   "source": [
    "Load the pdf file which is present in filepath"
   ]
  },
  {
   "cell_type": "code",
   "execution_count": 9,
   "metadata": {},
   "outputs": [],
   "source": [
    "loader = PyPDFLoader(file_path)\n",
    "data = loader.load()"
   ]
  },
  {
   "cell_type": "code",
   "execution_count": 10,
   "metadata": {},
   "outputs": [
    {
     "data": {
      "text/plain": [
       "[Document(metadata={'source': 'data/Heart.pdf', 'page': 0}, page_content='See discussions, stats, and author profiles for this publication at: https://www.researchgate.net/publication/381309747\\nHeart Disease Prediction using Machine Learning Method -A Review Article\\nArticle · June 2024\\nCITATIONS\\n0\\nREADS\\n325\\n2 authors, including:\\nRajni Bhalla\\nLovely Professional University\\n28 PUBLICATIONS\\xa0\\xa0\\xa0111 CITATIONS\\xa0\\xa0\\xa0\\nSEE PROFILE\\nAll content following this page was uploaded by Rajni Bhalla on 11 June 2024.\\nThe user has requested enhancement of the downloaded file.'),\n",
       " Document(metadata={'source': 'data/Heart.pdf', 'page': 1}, page_content=\"72 \\n \\nHeart Disease Prediction using Machine Learning Method – A \\nReview Article \\n \\nSreekumari S 1, Rajni Bhalla 1 and Geetha Ganesan 2 \\n \\n1 Lovely Professional University, Phagwara, Punjab, India \\n2 Jain (Deemed-to-be) University, Bengaluru, India \\n \\n \\nAbstract \\nThis abstract focuses on the significance of heart disease as the leading cause of disability in \\nthe human body, primarily stemming from the reduction or blockage of coronary arteries. \\nCoronary Artery Disease (CAD) emerges as the most prevalent form of heart di sease, often \\nremaining asymptomatic until symptoms of a heart attack or heart failure arise. This paper aims \\nto explore various machine learning techniques utilized in heart disease prediction, supporting \\nthe medical field in expedient diagnosis. The availability of vast amounts of patient information \\nonline presents an opportunity for effective utilization. Accurate diagnosis of heart disease is \\nof utmost importance, as incorrect predictions can have severe consequences on individuals' \\nlives. Numerous regr ession and classification Machine Learning Algorithms are available, \\nincluding K Nearest Neighbor Algorithm (KNN), Support Vector Machine (SVM), Neural \\nNetwork, Logistic Regression (LR), Decision Tree (DT), and Random Forest (RF) \\nClassification. Previous research indicates that SVM and Random Forest methods often exhibit \\nhigher levels of accuracy compared to other approaches. This paper provides a comprehensive \\ndiscussion of commonly employed machine learning algorithms in the field of heart disease \\nprediction. \\n \\nKeywords  1 \\nCoronary Artery Disease, Early Prediction, Regression and Classification, Machine Learning. \\n1. Introduction \\nCongestive heart failure is the main root of dysfunction in anatomy.  It is affected by the \\nreduction/blockage of coronary arteries. Coronary Artery Disease (CAD) is the most common  type of \\nCongestive heart failure. Common signs of Heart attack are Chest pain, body discomfort, and breath \\nshortness. Common symptoms of Arrhythmia are fluttering feelings in the chest or in common we can \\nquote it as “Palpitation.” Whereas common symptom of Heart failure is Breath shortness, Fatigue, or \\nswelling on the Leg, feet, ankles, neck veins, or even in the abdomen. Other than these there are other \\nmedical conditions and life cycles that can make people at high risk for heart disease like, Diabetes, \\nObesity, an Unbalanced diet, Physical incapacity or inactivity, and excessive usage of alcohol. \\n \\nThe current method of using an angiogram to identify heart disea ses has few risks to be overruled. \\nThey include allergic reactions to the dye used to see the coronary arteries, bleeding at the site  where \\nthe catheter is placed, and the usage of dye can even cause damage to the kidney. So, we recommend \\nthe usage of non-invasive methods. Predicting heart disease is extremely critical. Because one error in \\nprediction can lead to the death of the person. If a patient has diseases such as kidney failure or diabetes, \\nthen they must experience a higher risk after an angiogram. Some of such risks are: \\n \\n• May be allergic to anesthesia and contrast dye. \\n \\nCVMLH 2023: Workshop on Computer Vision and Machine Learning for Healthcare, May 20 – 21, 2023, Chennai, India. \\nEMAIL: sreekumari.sreelesh@gmail.com (Sreekumari S) \\nORCID: 0000-0002-0207-4738 (Sreekumari S) \\n \\n©️  2023 Copyright for this paper by its authors. \\nUse permitted under Creative Commons License Attribution 4.0 International (CC BY 4.0).  \\n \\nCEUR Workshop Proceedings (CEUR-WS.org) \\n \\nCEUR\\nWorkshop\\nProceedings\\nceur-ws.org\\nISSN 1613-0073\"),\n",
       " Document(metadata={'source': 'data/Heart.pdf', 'page': 2}, page_content='73 \\n \\n• Bleeding at the insertion point of the catheter. \\n• Blood clots or injury to an artery or vein. \\n \\nThese kinds of people must take contrast medicine before 24 hours to check whether they are allergic \\nor not. All human beings do not possess higher pain tolerance. Those who are having low pain tolerance \\ncannot undergo an angiogram because of the high-risk factors. In such cases, we must use non-invasive \\nmethods to predict heart diseases. Heart diseases are of diverse types. They are: \\n \\n• Coronary Artery disease (CAD) \\n• Heart Arrhythmias \\n• Heart failure \\n• Heart valve disease \\n• Stroke etc. \\n \\nTo predict heart disease with the best accuracy prediction algorithm should be the  right one . \\nOtherwise, the prediction will go wrong which leads to the death of a person. Here, we have summarized \\nrecent activities in which we can find distinct predictive analytics. \\n \\nSince heart disease datasets are easily available online, data collection becomes remarkably simple. \\nThere is a lack of knowledge of data. That will be achieved after processing the data. This  should be \\nperformed by collecting the proper data after avoiding inappropriate data.  Then find out the missing \\ndata and remove all the duplicates. This step is called data preprocessing. After this split the dataset into \\ntwo such as the training set and testing set. Then apply different classification and regression algorithms \\nto predict whether a person has a chance of any heart  disease. From the accuracy, choose the best \\npredictive method. Fig-1 depicts the predictive method. \\n \\n \\nFigure 1: Predictive Model \\n2. Supervised Machine Learning Algorithms \\nIn supervised machine learning, training data is provided to the machine which works as a supervisor \\nthat teaches the machines to predict the output accurately. In this method, labeled  data is provided to \\ntrain the model and the model learns about distinct types of data. After the training process, the model \\nis evaluated based on test data which is a subset of the training set and then it starts predicting the output. \\nSupervised learning can again be divided into two. They are Regression and Classification. (Fig-2). The \\nfollowing are different machine learning   algorithms. \\n \\n'),\n",
       " Document(metadata={'source': 'data/Heart.pdf', 'page': 3}, page_content='74 \\n \\n. \\nFigure 2: Categories of Supervised Learning \\n2.1. Logistic Regression \\nIt is one of the most significant machine learning algorithms because it can provide probabilities and \\nclassify new data by using discrete and continuous datasets. The first step is to extract the dependent \\nand independent variables. Then splitting of the dataset and feature scaling is performed. The outcome \\nmust be of a categorical or discrete value. \\n2.2. K- nearest neighbor algorithm \\nThis supervised learning algorithm stores all the given data and based on the similarity it classifies \\na new data point. It is also known as the “Lazy- Learner Algorithm.” Because it acts on the dataset \\nduring classification instead of learning from the training dataset. It can be used for both Regression \\nand Classification. But typically used for Classification problems. It will be more effective if the training \\ndata is large. \\n2.3. Support Vector Machine \\nThis is a well-liked supervised learning algorithm. In this plot, each data is a point in n- dimension \\nspace with each value of feature being a particular  coordinate value. Then classification is performed \\nafter finding the hyper-plane which is also known as the best decision boundary. \\n2.4. Artificial Neural Network \\nIt is a special type of machine-learning algorithm that is used  to model the human brain. ANN is \\ncapable of learning from the data, and it provides results as classification or prediction such as neurons \\nin our nervous system  learning from past data. ANNs are non -linear statistical models that show \\ncomplex relationships between inputs and outputs. The three important layers are the input layer, hidden \\nlayers, and output layer. The hidden layer may be single or multiple. In this model, different parameters \\naffect the performance of the model. The output is dependent on this data. The input layer communicates \\nwith the hidden layer and the activated neurons will continue passing until it reaches the output layer. \\n2.5. Decision Trees \\nIt is a type of supervised machine learning algorithm, in which the data set is always split based on \\na defined constraint. Decision nodes and leaves are the two results that can be derived from the decision \\ntree. \\n'),\n",
       " Document(metadata={'source': 'data/Heart.pdf', 'page': 4}, page_content='75 \\n \\n2.6. Random Forest Classification (RFC):  \\nRFC is based on the concept of combo learning, which means a process of solving a complex \\nproblem to an improved and more accurate level of performance of the model by combining the \\nmultiple classifiers. \\n \\nSince this rev iew paper is about machine learning techniques, we have gone through different \\nmachine learning algorithms. There are ample methods used in heart disease prediction  other than \\nmachine learning. They are deep learning, Data mining, IoT tools, etc. \\n3. Literature Review \\n \\nE. K. Oikonomou et al.  [1], they have given a clear idea about Artificial intelligence,  Machine \\nlearning, big data, and different prediction methods like supervised and unsupervised  methods. CT \\n(Cardiac Computed Tomography) imaging is the best way to predict  Cardio Artery Disease (CAD), \\nwhich will mitigate the complexity of doctors to predict CAD by using images, and it will be helpful \\nfor the patients to identify the disease faster.  Predictions are performed using Regression analysis and \\nClassification methods. Regression analysis is performed on the image using  a deep neural network \\n(DNN) algorithm or Support vector machines or decision trees. They have given a good explanation of \\nRadiomics. For image processing, detection, and segmentation they have used CCTA (Coronary CT \\nAngiography) scans and Machine Learning (ML) Algorithms. They stated that it can predict many risks \\nwhich are not possible with humans. They concluded by explaining the limitations and stating that this \\nwork has offered a lot to the patients as well as doctors. \\n \\nLi Bin et al. [2] tried to establish a disease pre-alert model within the 3 Year gap for hypertension \\npatients. To achieve public data analysis through AI technologies  they have used spark data analysis \\nfor hypertension patients. Using data mining, unbalanced data is converted to usable form using the Z-\\nscore standard. Stroke, Heart failure, and Renal Failure symptoms viz. 3 group predictions ascertain the \\npre-alert risk warning using a data mining algorithm. AI technologies used in this model are Logistic \\nRegression ( LR), Support  Vector Machine (SVM), and Naive Bayes Algorithm ( NB). For feature \\nselection, they have used the Chi-Square test. In this, they have used three types of datasets. They are \\nStroke, Heart failure, and Renal Failure. But they perform classification on two datasets viz. Stroke and \\nHeart failure. The algorithms used were Naïve Bayes, SVM , and Logistic regression. The stroke data \\nset shows an accuracy of more than .75, while classification results on the heart failure dataset show an \\naccuracy of more than .85. Logistic regression is superior to Naïve Bayes and SVM. They have shown \\nthe Receiver Operating Characteristic curve as well (ROC). They have used SVM -RFE for feature \\nselection, which is not suitable for choosing the most suitable feature subset. For getting better results \\nneed to use a different algorithm for comparing and analyzing in the next research because SVM-RFE \\ncannot evaluate various feature selection algorithms. \\n \\nS Manish et al. [3] they have given a brief description of the technologies used for the study. They \\nhave stated that this is the first paper that uses Optimally Time-Frequency Concentrated (OTFC) even-\\nlength biorthogonal wavelet filter bank (BWFB) for automatically detecting CAD. The Fuzzy Entropy \\n(FE) and log Energy (LogE) features were extracted from various subbands of the filter. They used Raw \\nECG data from twenty males and twenty females and CAD ECG from Six females and one male. Then \\nsignals were classified using Gaussian Support Machine Classifier (GSVM). They have stated that this \\nstudy shows high accuracy compared with other methods and while others are using thirty features for \\nclassification, they use only twelve features. \\n \\nA Moloud et al.  [4] proposed a data mining method for CAD analysis.  Data manipulation and \\nnormalization were performed first. Then they selected features using GA and PSO algorithms. 10-fold \\ncross-validation was performed on subsets. For classification purposes in the prelims test, they used ten '),\n",
       " Document(metadata={'source': 'data/Heart.pdf', 'page': 5}, page_content='76 \\n \\nalgorithms. Among them, the best three SVM classifiers were selected for the final. They are nu-SVC, \\nnu-SVM, and Linear SVM. To optimize data, they used two optimization methods. Then they generated \\na confusion matrix for evaluating results. They have selected fitness functions. It has shown an accuracy \\nof 93.08% based on the confusion matrix. They concluded by saying that instead of normalization other \\npreprocessing approaches should be used in the future. \\n \\nR Silvia et al. [5] The objective of this review article is to describe the contemporary state of artificial \\nintelligence in clinical practice. In this paper, they have explained very well about Artificial Intelligence \\nand different subfields of Artificial intelligence like Machine learning, and deep learning and their \\nsubfields. They have given proper descriptions of new emerging  communication and information \\ntechnologies like Mobile health and IOT. These are subfields  of E-health. And explained applications \\nin cardiovascular imaging as well. Echocardiography, Magnetic resonance Imaging, Cardiac computed \\ntomography, and Electrocardiography are different applications in Cardiovascular Imaging. \\n \\nJohnson et al. [6] have done a study about how AI and ML relate to statistics and why cardiology \\nneeds AI. They have explained in detail how to choose the best algorithm for feature selection. Through \\nthis paper , we can easily understand  different supervised Machine Learning algorithms used in \\nCardiovascular disease prediction like Logistic Regression, Regularized Regression, Tree-Based \\nmethods, Bootstrap, and Support Vector Machine. For explaining these they have given proper \\nexamples. In Unsupervised Machine learning, they have given a brief description of Neural networks \\nand Deep Learning methods. The two most common forms of DL are CNN and RNN and explained the \\nmajor disadvantage of deep learning. They have concluded by stating to use this study as a decision tool \\nfor medical practitioners. \\n \\nAcharya et al. [7] explained invasive and non-invasive techniques used in CAD detection. They have \\nused Gaussian Mixture Model (GMM) Classifier for this purpose. Non-linear parameters are extracted \\nfrom echocardiography images. They have taken four hundred normal images of thirty normal subjects \\nand Four hundred CAD images of  thirty affected subjects. They have noticed the ischemic changes. \\nTwelve lead electrocardiogram images were checked for wall motion abnormality. The training set and \\ntest set are there. An expert physician can mark the image collected as belonging to a normal or CAD-\\naffected person. Then different classifiers are used to extract the features. A total of 559 features are \\nextracted from each  image. T -test was used for statisti cal analysis. If p<.01 or.05, the feature is \\nmeasured as very perceptive. A three-fold stratified cross-validation technique is used for developing \\nand testing the classifiers. In this , they have used six classifiers. They are DT, FS, GMM, RBPNN, \\nKNN, and NBC. Then the heart index is calculated which is a combination of nine distinctive features. \\nThe heat index for normal is 2.52± 0.07 and for CAD 2.86± 0.11.  They have stated that this can be \\ntransformed into software, can be implemented on any device,  and concluded that this shows  100% \\naccuracy. \\n \\nS E Golovenkin et al. [8] tried to improve prediction by using the voting method of three competing \\nsystems and by eliminating sparse data columns. In this study,  the prediction was performed using \\nMatlab2016 System, the Neural Network Toolbox module. In Artificial Neural Network, there was one \\ninput layer and two hidden layers. All layers are interconnected, and the output layer predicts the results. \\nThe voting method is used in this. The “Sliding- Window” method was used to increase the efficiency \\nof the learning process. Standard indicators  are Accuracy, Sensitivity , and specificity. They ha ve \\neliminated sparse set input data columns.  They have also stated that the use of 3 Neural Networks \\nincreases accuracy by 1.2%. \\n \\nBabaoglu et al.  [9] used Principle Component Analysis (PCA) which is a   method of identifying \\npatterns in data  and expressing them by highlighting differences and  similarities. They have taken a \\ndataset of 480 patients after excluding patients with some problems. They have used a Support Vector \\nMachine for classification and regression tasks.  The assessments are implem ented in Matlab 7.0 \\napplication using the LIBSVM package. The SVM method for twenty-three features shows less \\naccuracy. So, using the PCA method, features were reduced to eighteen. Then it shows an accuracy of \\n79.17%. They have concluded by stating that, P CA reduced dataset using the SVM method increases '),\n",
       " Document(metadata={'source': 'data/Heart.pdf', 'page': 6}, page_content='77 \\n \\nthe diagnostic accuracy rate, decreases the sum  of the training and test time , and training error in the \\nassessment of EST (Exercise Stress test) in the determination of CAD with SVM method. \\n \\nZong Chen et al. [10] tried to provide the recent adaptive image -based classification techniques. \\nThey have explained diverse types of heart diseases. They have compared the prediction methods used \\nin different studies. The first step is image registration which can be performed on a raw image database \\nand de-noising processing should be done. The feature is extracted from the image. They have used two \\ndifferent training models. They are Naive - Bayes Classification and SVM. They have concluded by \\nstating that SVM is more accurate than Naïve Bayes Classification. The database needs to be updated \\nwith more descriptions of patients. \\n \\nM M Ali et al. [11] used the Kaggle dataset. They have done a comparison study and developed their \\nexperimental model. They have applied six classification algorithms to compare the accuracy of the \\nbest performer and statistical variables by using a ten-fold cross-validation method. The six classifiers \\nwere KNN, Random Forest, Decision Tree, AdaboostM1(ABM1), Logistic Regression, and Multilayer \\nPerception (MLP). They have  listed the five most crucial features based on feature importance and \\ncorrelation value. In this study compared to other classifiers RF shows 100% accuracy. KNN and MLP \\nfailed to generate feature importance scores or coefficient values. But this method has one limitation,  \\nthis data model is not enough to address all the issues. \\n \\nYazdani A et al.  [12] used WARM (Weighted Associative Rule Mining) to predict  heart disease. \\nThey have compared the efficiency of earlier models that used the WARM method to predict heart \\ndisease. In this model , weights are assigned to identify the  best features mined. Feature values are \\nevaluated. For Eg: Feature values for sex are Male and Female. After that calculate the total weight for \\nthe feature. Then applied WARM using the Apriori algorithm. Of thirteen features, eight significant \\nfeatures were identified. Finally, the confidence score is generated. This model shows a 98% confidence \\nscore which is better than the earlier studies. \\n \\nSumit S et al. [ 13] proposed this study to create a deep learning neural network  heart disease \\nprediction model by using a new optimization technique called Talos Hyperparameter. They have used \\nUCI Heart Disease Dataset. They applied different learning algorithms like Logistic regression, KNN, \\nSVM, Naïve Bayes, and Hyperparameter optimization (Talos). Talos follows POD (Prepare, Optimize, \\nand Deploy) process workflow. Reporting and evaluation are the last process after POD. Talos method \\nshows an accuracy of 90.78% which is better compared to other learning methods. \\n     \\nBharati R et al. [14] conducted this study to compare the performance of both Machine learning as \\nwell as deep learning methods. They have considered a public dataset. In this , they compared both \\nmachine learning as well as deep learning methods.  In pre-processing the data, checked the distribution \\nof data, skewness of data, stats of normal distribution data, feature selection , and checking for \\nduplicates. after that proposed machine learning classifiers as well as deep learning classifiers. Then \\nthey evaluated the process and concluded by stating that dataset size need s to be increased and more \\noptimization and normalization techniques need to be used. \\n \\nIshaq A et al. [15] conducted this study for comparing different machine learning techniques to select \\nthe most suitable method for heart disease survival prediction. The dataset used was UCI Repository. \\nThen applied RF to employ feature ranking. Classified the data into training and testing sets. They \\napplied one oversampling method called SMOTE (Synthetic Minority Oversampling Technique) to deal \\nwith imbalanced data in medicine. Performance evaluation matrices were Accuracy, Precision, Recall, \\nand F-Score.  Among 9 classifiers, they got more accuracy for RF, and it was .8889. With SMOTE, it \\nshows 10% more accuracy. Extra Tree Classifier (ETC) shows an accuracy of .9262.  Here RF produces \\nConstant approximation, ETC produces multi-linear approximation. \\n \\nRajni Bhalla et al. [16] presents a detailed examination of the effectiveness and performance of both \\nproposed and existing methodologies for classification task. The study aims to compare and evaluate \\nthe advantages and limitations of different methodologies for collectin g and analyzing data for '),\n",
       " Document(metadata={'source': 'data/Heart.pdf', 'page': 7}, page_content='78 \\n \\nstructured data. By conducting a comparative analysis, the paper provides valuable insights for \\nresearchers and practitioners seeking to optimize their methodologies for classification tasks and for \\ndata that is in a structured format. \\n \\nAbdel-Basset M et al. [17] proposed this study to develop an IoT model to detect and monitor heart \\nfailure-infected patients. Achieved from various wearable sensors. They used WBAN or medical sensor \\nnodes. The data extracted from WBAN convey are sent to the mobile application through Bluetooth or \\nZigBee and stored in the cloud server to store, process , and broadcast data. Then N- MCDM model is \\nused to determine the percentage of heart failure disease. If the patient has severe heart failure, then an \\nambulance will be sent to the patient and treatments will be started. This will provide the ratio of heart \\nfailure so that the clinicians can easily decide the type of treatment.  \\n \\nRajni Bhalla et al. [18] presents a novel ensemble -based machine learning mo del that combines \\nmultiple categorical datasets to enhance prediction accuracy. The proposed approach consists of three \\nmain components: dataset alignment, model training, and prediction aggregation. The dataset alignment \\nphase focuses on mapping categoric al variables across different datasets, ensuring consistency and \\ncompatibility. \\n \\nRajni Bhalla et al. [19] concludes by identifying the current research trends and challenges in \\nsentiment classification using hybrid ensemble -based approaches. It highlights the need for further \\ninvestigation into the combination of diverse classifiers and the integration of deep learning techniques \\nin ensemble frameworks.  The hybrid ensemble approach can be applied to classification dataset like \\nheart disease detection to achieve better accuracy. \\n \\nSivagowry S et al. [20] created a review of the application of data mining in heart disease prediction. \\nIn this, they have compared different data mining algorithms and concluded like heart disease prediction \\nwith data mining will become most successful with a smaller number of attributes, and text mining the \\nmedical data needs to be extended in predicting the health care data. \\n4. Methodology  \\n \\nFigure 3: Methodology \\n'),\n",
       " Document(metadata={'source': 'data/Heart.pdf', 'page': 8}, page_content='79 \\n \\nData collection is the first step. Data can be collected in two ways such as Online data and real-time \\ndata. Then we have to remove noise, missing values, useless values and all. This step is called data \\npreprocessing. Most of the online datasets are already preprocessed. So, we can directly use it without \\npreprocessing. But for real -time data, preprocessing can be done in different ways such as by using \\nmachine learning, deep learning or data mining methods. After this step we will get the data in usable \\nformat. Now, need to split the dataset into Training and Testing set. We can split the dataset in such a \\nway that 70% for training the model and 30% for testing. First train the model with train set. Then select \\nthe most significant feature for improving the prediction accuracy. Now, give test set to the model. It \\nwill predict accordingly. There are different evaluation metrics for checking the efficiency of the model \\nsuch as Precision, Recall, F1-score, confusion matrix and ROC curves etc. (Fig-3 depicts the same). \\n5. Results \\nThere are different regression and classification algorithms used to predict heart disease.  Different \\nmethods are used in different papers, and they have shown the accuracy that they obtained while using \\ndifferent methods. Table 1 shows the comparison of different works. In most of the papers, the different \\nalgorithms used are Naive Bayes, Logistic Regression, ANN, SVM, DT, RF, etc. Among them, ANN \\nand RF show more accuracy. \\n \\nTable 1: Comparison of previous works \\nReference Methodology Dataset Accuracy \\n[1] Support Vector Machine 42 CCTA Sensitivity- 93% \\nSpecificity-95% \\n[2] Naive Bayes SVM (Linear) \\nLogistic Regression \\nStroke Dataset 5257 Heart \\nfailure Dataset 714 \\nOn Stroke Dataset Naive \\nBayes- 0.7662(Accuracy) \\nSVM (Linear)-0.7827 \\nLogistic Regression- \\n0.7820 \\nOn Heart Failure Dataset \\nNaive Bayes- 0.8571 \\nSVM(Linear)-0.8595 \\nLogistic Regression- \\n0.8529 \\n[3] Signals were segmented into \\ntwo seconds (Set A) and five \\nseconds (Set B) duration. \\nThen applied GSVM. \\n1. Signals used are \\ni) Normal ECG database. \\nii) CAD ECG signals. \\nRaw ECG data from twenty \\nmales and twenty females and \\nCAD ECG from  6 females and \\none male. \\nGSVM -99.53% \\n[4] Cross-validation – stratified \\n10-fold. \\nMachine learning- KNN, \\nreglog, GaussNB, LDA, QDA, \\nRandomForest, MLP, SVM (3 \\ntypes, including C -SVC, nu-\\nSVC, and Linear SVM. \\n \\n303 patients annotated with \\nfifty-four factors. (CAD and \\nNormal, with 216 CAD and 87 \\nNormal (non-CAD) patients). \\nnuSVM method with GA  \\nand ACC fitness function  \\ntesting set shows an \\naccuracy of 93.08% \\n[7] Heart Index 400 normal images of 30 \\nsubjects and 400 CAD images \\nThe heart index for normal \\nis 2.52± 0.07 and for CAD. '),\n",
       " Document(metadata={'source': 'data/Heart.pdf', 'page': 9}, page_content='80 \\n \\nof 30 affected subjects using \\nthe Vivid 7 Dimension \\nmodality for GE Health care. \\nThe normal group \\nage range was 20- 45, and the \\nCAD group age range was 35-\\n65.  \\n2.86± 0.11 \\n[8] Voting method \\nEliminated the sparse set \\ninput data columns. \\n1700 patients with \\nMyocardial Infarction. There \\nwere 1065 (62.6%) Men and \\n635(37.4%) \\nWomen. \\nNeural network -95% \\naccuracy for 3 out of 12 \\ndiagnoses with up to 98% \\nspecificity. \\n[11] Supervised machine \\nlearning algorithms \\n1) KNN \\n2) Random Forest \\n3) Decision Tree \\n4) Adaboost M1  \\n5)  Logistic Regression \\n6) Multilayer Perception  \\nKaggle Dataset Random Forest -100% \\naccuracy. \\n[12] Applied WARM  \\n Apriori Algorithm \\n \\nCleveland dataset from UCI \\nMachine Learning \\nRepository. \\nConfidence Score-98% \\n[13] Learning Algorithms \\n     a. Logistic Regression \\n     b. KNN \\n     c. SVM \\n     d. Naïve Bayes \\n     e. Hyper-parameter optimization \\n(Talos) \\n     f. Random Forest Classifier \\nUCI Heart Disease Dataset. \\n \\nTalos-90.78%  \\n[14]  Machine learning classifiers \\n Deep learning pseudocode \\nPublic health dataset. \\n4 Databases \\n1. Cleveland \\n2. Hungary \\n3. Switzerland and  \\n4. Long Beach V \\n \\nMachine learning \\nK neighbors – 84.8%   \\nDeep Learning \\n94.2% \\n[15] 9 Classifiers \\nSynthetic Minority Over Sampling \\ntechnique (SMOTE) \\n \\nUCI RF-.8889 \\nExtra Tree Classifier with \\nSMOTE- .9262 \\n \\n[17] IoT model \\nWBAN sensors \\nN-MCDM model \\nWearable sensors Returns Heart failure \\nratio. \\n6. Conclusion and Future Work \\nIn conclusion, the diagnosis of heart disease remains a paramount concern within our medical \\nsociety. Manual predictions, though rare, can still yield incorrect results due to the need for precise \\nimage assessment. Non -invasive methods provide an alternati ve for individuals concerned about '),\n",
       " Document(metadata={'source': 'data/Heart.pdf', 'page': 10}, page_content='81 \\n \\ntraditional diagnostic approaches, enabling them to take proactive preventive measures. This study \\nhighlights various approaches such as machine learning, deep learning, data mining, and IoT tools for \\npredicting heart dis ease. However, the accuracy of these methods poses challenges, given the high \\nstakes involved in predicting human life. Even models achieving 100% accuracy during testing may \\nencounter failures when applied to real -time data. In this software -driven era, it is crucial to develop \\nrobust and cost -effective solutions that deliver more accurate results. Further comprehensive studies \\nshould be conducted to advance our understanding and achieve better outcomes in this field. \\n7. References \\n[1] Oikonomou E K, Siddique M &  Antoniades C, Artificial Intelligence in Medical Imaging: a \\nradiomic guide to precision phenotyping of Cardiovascular disease, Cardiovascular Research, \\n116(13), 2040-2054. https:// doi:10.1093/cvr/cvaa021. \\n[2] Li, B, Ding S, Song G, Li J, Zhang Q. 2019. Compu ter-Aided Diagnosis and Clinical Trials of \\nCardiovascular Diseases Based on Artificial Intelligence Technologies for Risk -Early Warning \\nModel. J Med Syst 43, 228. https://doi.org/10.1007/s10916-019- 1346-x. \\n[3] Manish Sharma, U. Rajendra Acharya, 2019. A New Method to Identify Coronary Artery Disease \\nwith ECG Signals and Time-Frequency Concentrated Antisymmetric Biorthogonal Wavelet Filter \\nBank, Pattern Recognition Letters. S0167 -8655(19)30121- 7. \\nhttps://doi.org/10.1016/j.patrec.2019.04.014. \\n[4] Abdar M, Ksiazek W , Rajendra Acharya U, Tan R S, Makarenkov V, Plaviak P. 2019.A New \\nMachine Learning Technique for an Accurate Diagnosis of Coronary Artery Disease, Computer \\nMethods, and Programs in Biomedicine. S0169 -2607(18)31458-5. \\nhttps://doi.org/10.1016/j.cmpb.2019.104992. \\n[5] Romiti S, Vinciguerra M, Saade W et al.,2020. \"Artificial Intelligence (AI) and Cardiovascular \\nDiseases: An Unexpected Alliance\", Cardiology Research and Practice, vol. 2020, Article ID \\n4972346, 8 pages. https://doi.org/10.1155/2020/4972346 \\n[6] Johnson, K. W., Torres Soto, J., Glicksberg, B. S., Shameer, K., Miotto, R., Ali, M., ... & Dudley, \\nJ. T. (2018). Artificial intelligence in cardiology. Journal of the American College of \\nCardiology, 71(23), 2668-2679. https://www.jacc.org/doi/abs/10.1016/j.jacc.2018.03.521. \\n[7] Acharya U R, Sree S V, Krishnan M M R, Krishnananda N, Ranjan S, Umesh P & Suri J S, (2013). \\nAutomated classification of patients with coronary artery disease using grayscale features from left \\nventricle echocardiographic images, Computer Methods and Programs in Biomedicine,  Volume \\n112, Issue 3,2013, Pages 624-632. https://doi.org/10.1016/j.cmpb.2013.07.012. \\n[8] Golovenkin S E, Dorrer M G, Nikulina S Y, Orlova Y V, & Pelipeckaya E Y, (2020), Evaluation \\nof the effectiveness of using artificial intelligence to predict the response of the human body to \\ncardiovascular diseases. Journal of Physics: Conference Series, Vo lume 1679. No. 4, \\nhttps://iopscience.iop.org/article/10.1088/1742- 6596/1679/4/042017/meta. \\n[9] Babaoglu I, Findik O & Bayrak M, (2010). Effects of principle component analysis on assessment \\nof coronary artery diseases using support vector machine, Expert Syst ems with Applications, \\nVolume 37, Issue 3, 2010, Pages 2182-2185. https://doi.org/10.1016/j.eswa.2009.07.055. \\n[10] Chen J I Z, &  Hengjinda P. (2021). Early Prediction of Coronary Artery Disease ( CAD) by \\nMachine Learning Method- A Comparative Study, Journal of A rtificial Intelligence and Capsule \\nNetworks, Vol.03/ No.01, Pages: 17-33. https://doi.org/10.36548/jaicn.2021.1.002. \\n[11] M M Ali, B K Paul, Kawsar Ahmed, Francis M B, Julian M W, Q M A Moni, (2021), Heart disease \\nprediction using supervised machine learning al gorithms: Performance analysis and comparison, \\nComputers in Biology and Medicine, Volume 136, \\nhttps://doi.org/10.1016/j.compbiomed.2021.104672. \\n[12] Yazdani A, Varathan K D, Chiam Y K, Malik A W, & Wan Ahmad, W A (2021). A novel approach \\nfor heart disease prediction using strength scores  with significant predictors. BMC Medical \\nInformatics and Decision Making 21(1). https://doi.org/10.1186/s12911-021-01527-5. \\n[13] Sumit Sharma, Mahesh Parmar (2020), Heart Diseases Prediction using Deep Learning  \\nNeural Network Model, International Journal of Innovative Technology and Exploring \\nEngineering (IJITEE), Volume-9, Issue-3. https://doi.org/10.35940/ijitee.C9009.019320. '),\n",
       " Document(metadata={'source': 'data/Heart.pdf', 'page': 11}, page_content='82 \\n \\n[14] Bharti R, Khamparia A, Shabaz M, Dhiman G, Pande S, Singh P. Prediction of Heart Disease \\nUsing a Combination of Machine Learning and Deep Learning. Comput Intell Neurosci. 2021 Jul \\n1; 2021:8387680. doi- 10.1155/2021/8387680. PMID: 34306056; PMCID: PMC8266441. \\n[15] Abid Ishaq, Saima Sadiq, Muhammad Umer, Saleem Ullah, Seyedali Mirjalili, Vaibhav Rupapara, \\nand Michele Nappi, Improving the Prediction of Heart Failure Patients’ Survival Using SMOTE \\nand Effective Data Mining Techniques, IEEE Access, VOLUME 9, 2021, Pages 39707 -39716. \\n[16] Bhalla R, Amandeep. A comparative analysis of application of proposed and the existing \\nmethodologies on a mobile phone survey. In Futurist ic Trends in Networks and Computing \\nTechnologies: Second International Conference, FTNCT 2019, Chandigarh, India, November 22–\\n23, 2019, Revised Selected Papers 2 2020 (pp. 107-115). Springer Singapore. \\n[17] Abdel-Basset, M., Gamal, A., Manogaran, G., Son, L. H. , & Long, H. V. (2019).  A novel group \\ndecision-making model based on neutrosophic sets for heart disease diagnosis. Multimedia Tools \\nand Applications. doi:10.1007/s11042-019-07742-7. \\n[18] Bhalla R, Sharma A, Gupta J. An Ensemble -based Machine Learning Model for  Accurate \\nPredictions using Multiple Categorical Datasets. In2022 Second International Conference on \\nInterdisciplinary Cyber Physical Systems (ICPS) 2022 May 9 (pp. 1-4). IEEE. \\n[19] R. Bhalla, A. Sharma, and G. Ganesan, “A Bibliographic Survey of Sentiment Classification using \\nHybrid Ensemble-based Machine Learning Approaches,” in ceur workshop proceedings, 2022, \\nvol. 3146, pp. 33–38, [Online]. Available: https://ceur-ws.org/Vol-3146/PAPER_04.pdf. \\n[20] Sivagowry, S.; Durairaj, M.; Persia, A. (2013) . - An empirical study on applying data mining \\ntechniques for the analysis and prediction of heart disease., [IEEE 2013 International Conference \\non Information Communication and Embed ded Systems (ICICES 2013) - \\ndoi:10.1109/ICICES.2013.6508204.  \\n \\nView publication stats')]"
      ]
     },
     "execution_count": 10,
     "metadata": {},
     "output_type": "execute_result"
    }
   ],
   "source": [
    "data"
   ]
  },
  {
   "cell_type": "code",
   "execution_count": 11,
   "metadata": {},
   "outputs": [
    {
     "data": {
      "text/plain": [
       "12"
      ]
     },
     "execution_count": 11,
     "metadata": {},
     "output_type": "execute_result"
    }
   ],
   "source": [
    "len(data)"
   ]
  },
  {
   "cell_type": "code",
   "execution_count": 17,
   "metadata": {},
   "outputs": [
    {
     "data": {
      "text/plain": [
       "langchain_core.documents.base.Document"
      ]
     },
     "execution_count": 17,
     "metadata": {},
     "output_type": "execute_result"
    }
   ],
   "source": [
    "type(data[0])"
   ]
  },
  {
   "cell_type": "markdown",
   "metadata": {},
   "source": [
    "chuncking will accept only the string inputs so converting strind to documents"
   ]
  },
  {
   "cell_type": "code",
   "execution_count": 21,
   "metadata": {},
   "outputs": [],
   "source": [
    "question = \"\"\n",
    "for page in data:\n",
    "    question += page.page_content"
   ]
  },
  {
   "cell_type": "code",
   "execution_count": 31,
   "metadata": {},
   "outputs": [
    {
     "name": "stdout",
     "output_type": "stream",
     "text": [
      "See discussions, stats, and author profiles for this publication at: https://www.researchgate.net/publication/381309747\n",
      "Heart Disease Prediction using Machine Learning Method -A Review Article\n",
      "Article · June 2024\n",
      "CITATIONS\n",
      "0\n",
      "READS\n",
      "325\n",
      "2 authors, including:\n",
      "Rajni Bhalla\n",
      "Lovely Professional University\n",
      "28 PUBLICATIONS   111 CITATIONS   \n",
      "SEE PROFILE\n",
      "All content following this page was uploaded by Rajni Bhalla on 11 June 2024.\n",
      "The user has requested enhancement of the downloaded file.72 \n",
      " \n",
      "Heart Disease Prediction using Machine Learning Method – A \n",
      "Review Article \n",
      " \n",
      "Sreekumari S 1, Rajni Bhalla 1 and Geetha Ganesan 2 \n",
      " \n",
      "1 Lovely Professional University, Phagwara, Punjab, India \n",
      "2 Jain (Deemed-to-be) University, Bengaluru, India \n",
      " \n",
      " \n",
      "Abstract \n",
      "This abstract focuses on the significance of heart disease as the leading cause of disability in \n",
      "the human body, primarily stemming from the reduction or blockage of coronary arteries. \n",
      "Coronary Artery Disease (CAD) emerges as the most prevalent form of heart di sease, often \n",
      "remaining asymptomatic until symptoms of a heart attack or heart failure arise. This paper aims \n",
      "to explore various machine learning techniques utilized in heart disease prediction, supporting \n",
      "the medical field in expedient diagnosis. The availability of vast amounts of patient information \n",
      "online presents an opportunity for effective utilization. Accurate diagnosis of heart disease is \n",
      "of utmost importance, as incorrect predictions can have severe consequences on individuals' \n",
      "lives. Numerous regr ession and classification Machine Learning Algorithms are available, \n",
      "including K Nearest Neighbor Algorithm (KNN), Support Vector Machine (SVM), Neural \n",
      "Network, Logistic Regression (LR), Decision Tree (DT), and Random Forest (RF) \n",
      "Classification. Previous research indicates that SVM and Random Forest methods often exhibit \n",
      "higher levels of accuracy compared to other approaches. This paper provides a comprehensive \n",
      "discussion of commonly employed machine learning algorithms in the field of heart disease \n",
      "prediction. \n",
      " \n",
      "Keywords  1 \n",
      "Coronary Artery Disease, Early Prediction, Regression and Classification, Machine Learning. \n",
      "1. Introduction \n",
      "Congestive heart failure is the main root of dysfunction in anatomy.  It is affected by the \n",
      "reduction/blockage of coronary arteries. Coronary Artery Disease (CAD) is the most common  type of \n",
      "Congestive heart failure. Common signs of Heart attack are Chest pain, body discomfort, and breath \n",
      "shortness. Common symptoms of Arrhythmia are fluttering feelings in the chest or in common we can \n",
      "quote it as “Palpitation.” Whereas common symptom of Heart failure is Breath shortness, Fatigue, or \n",
      "swelling on the Leg, feet, ankles, neck veins, or even in the abdomen. Other than these there are other \n",
      "medical conditions and life cycles that can make people at high risk for heart disease like, Diabetes, \n",
      "Obesity, an Unbalanced diet, Physical incapacity or inactivity, and excessive usage of alcohol. \n",
      " \n",
      "The current method of using an angiogram to identify heart disea ses has few risks to be overruled. \n",
      "They include allergic reactions to the dye used to see the coronary arteries, bleeding at the site  where \n",
      "the catheter is placed, and the usage of dye can even cause damage to the kidney. So, we recommend \n",
      "the usage of non-invasive methods. Predicting heart disease is extremely critical. Because one error in \n",
      "prediction can lead to the death of the person. If a patient has diseases such as kidney failure or diabetes, \n",
      "then they must experience a higher risk after an angiogram. Some of such risks are: \n",
      " \n",
      "• May be allergic to anesthesia and contrast dye. \n",
      " \n",
      "CVMLH 2023: Workshop on Computer Vision and Machine Learning for Healthcare, May 20 – 21, 2023, Chennai, India. \n",
      "EMAIL: sreekumari.sreelesh@gmail.com (Sreekumari S) \n",
      "ORCID: 0000-0002-0207-4738 (Sreekumari S) \n",
      " \n",
      "©️  2023 Copyright for this paper by its authors. \n",
      "Use permitted under Creative Commons License Attribution 4.0 International (CC BY 4.0).  \n",
      " \n",
      "CEUR Workshop Proceedings (CEUR-WS.org) \n",
      " \n",
      "CEUR\n",
      "Workshop\n",
      "Proceedings\n",
      "ceur-ws.org\n",
      "ISSN 1613-007373 \n",
      " \n",
      "• Bleeding at the insertion point of the catheter. \n",
      "• Blood clots or injury to an artery or vein. \n",
      " \n",
      "These kinds of people must take contrast medicine before 24 hours to check whether they are allergic \n",
      "or not. All human beings do not possess higher pain tolerance. Those who are having low pain tolerance \n",
      "cannot undergo an angiogram because of the high-risk factors. In such cases, we must use non-invasive \n",
      "methods to predict heart diseases. Heart diseases are of diverse types. They are: \n",
      " \n",
      "• Coronary Artery disease (CAD) \n",
      "• Heart Arrhythmias \n",
      "• Heart failure \n",
      "• Heart valve disease \n",
      "• Stroke etc. \n",
      " \n",
      "To predict heart disease with the best accuracy prediction algorithm should be the  right one . \n",
      "Otherwise, the prediction will go wrong which leads to the death of a person. Here, we have summarized \n",
      "recent activities in which we can find distinct predictive analytics. \n",
      " \n",
      "Since heart disease datasets are easily available online, data collection becomes remarkably simple. \n",
      "There is a lack of knowledge of data. That will be achieved after processing the data. This  should be \n",
      "performed by collecting the proper data after avoiding inappropriate data.  Then find out the missing \n",
      "data and remove all the duplicates. This step is called data preprocessing. After this split the dataset into \n",
      "two such as the training set and testing set. Then apply different classification and regression algorithms \n",
      "to predict whether a person has a chance of any heart  disease. From the accuracy, choose the best \n",
      "predictive method. Fig-1 depicts the predictive method. \n",
      " \n",
      " \n",
      "Figure 1: Predictive Model \n",
      "2. Supervised Machine Learning Algorithms \n",
      "In supervised machine learning, training data is provided to the machine which works as a supervisor \n",
      "that teaches the machines to predict the output accurately. In this method, labeled  data is provided to \n",
      "train the model and the model learns about distinct types of data. After the training process, the model \n",
      "is evaluated based on test data which is a subset of the training set and then it starts predicting the output. \n",
      "Supervised learning can again be divided into two. They are Regression and Classification. (Fig-2). The \n",
      "following are different machine learning   algorithms. \n",
      " \n",
      "74 \n",
      " \n",
      ". \n",
      "Figure 2: Categories of Supervised Learning \n",
      "2.1. Logistic Regression \n",
      "It is one of the most significant machine learning algorithms because it can provide probabilities and \n",
      "classify new data by using discrete and continuous datasets. The first step is to extract the dependent \n",
      "and independent variables. Then splitting of the dataset and feature scaling is performed. The outcome \n",
      "must be of a categorical or discrete value. \n",
      "2.2. K- nearest neighbor algorithm \n",
      "This supervised learning algorithm stores all the given data and based on the similarity it classifies \n",
      "a new data point. It is also known as the “Lazy- Learner Algorithm.” Because it acts on the dataset \n",
      "during classification instead of learning from the training dataset. It can be used for both Regression \n",
      "and Classification. But typically used for Classification problems. It will be more effective if the training \n",
      "data is large. \n",
      "2.3. Support Vector Machine \n",
      "This is a well-liked supervised learning algorithm. In this plot, each data is a point in n- dimension \n",
      "space with each value of feature being a particular  coordinate value. Then classification is performed \n",
      "after finding the hyper-plane which is also known as the best decision boundary. \n",
      "2.4. Artificial Neural Network \n",
      "It is a special type of machine-learning algorithm that is used  to model the human brain. ANN is \n",
      "capable of learning from the data, and it provides results as classification or prediction such as neurons \n",
      "in our nervous system  learning from past data. ANNs are non -linear statistical models that show \n",
      "complex relationships between inputs and outputs. The three important layers are the input layer, hidden \n",
      "layers, and output layer. The hidden layer may be single or multiple. In this model, different parameters \n",
      "affect the performance of the model. The output is dependent on this data. The input layer communicates \n",
      "with the hidden layer and the activated neurons will continue passing until it reaches the output layer. \n",
      "2.5. Decision Trees \n",
      "It is a type of supervised machine learning algorithm, in which the data set is always split based on \n",
      "a defined constraint. Decision nodes and leaves are the two results that can be derived from the decision \n",
      "tree. \n",
      "75 \n",
      " \n",
      "2.6. Random Forest Classification (RFC):  \n",
      "RFC is based on the concept of combo learning, which means a process of solving a complex \n",
      "problem to an improved and more accurate level of performance of the model by combining the \n",
      "multiple classifiers. \n",
      " \n",
      "Since this rev iew paper is about machine learning techniques, we have gone through different \n",
      "machine learning algorithms. There are ample methods used in heart disease prediction  other than \n",
      "machine learning. They are deep learning, Data mining, IoT tools, etc. \n",
      "3. Literature Review \n",
      " \n",
      "E. K. Oikonomou et al.  [1], they have given a clear idea about Artificial intelligence,  Machine \n",
      "learning, big data, and different prediction methods like supervised and unsupervised  methods. CT \n",
      "(Cardiac Computed Tomography) imaging is the best way to predict  Cardio Artery Disease (CAD), \n",
      "which will mitigate the complexity of doctors to predict CAD by using images, and it will be helpful \n",
      "for the patients to identify the disease faster.  Predictions are performed using Regression analysis and \n",
      "Classification methods. Regression analysis is performed on the image using  a deep neural network \n",
      "(DNN) algorithm or Support vector machines or decision trees. They have given a good explanation of \n",
      "Radiomics. For image processing, detection, and segmentation they have used CCTA (Coronary CT \n",
      "Angiography) scans and Machine Learning (ML) Algorithms. They stated that it can predict many risks \n",
      "which are not possible with humans. They concluded by explaining the limitations and stating that this \n",
      "work has offered a lot to the patients as well as doctors. \n",
      " \n",
      "Li Bin et al. [2] tried to establish a disease pre-alert model within the 3 Year gap for hypertension \n",
      "patients. To achieve public data analysis through AI technologies  they have used spark data analysis \n",
      "for hypertension patients. Using data mining, unbalanced data is converted to usable form using the Z-\n",
      "score standard. Stroke, Heart failure, and Renal Failure symptoms viz. 3 group predictions ascertain the \n",
      "pre-alert risk warning using a data mining algorithm. AI technologies used in this model are Logistic \n",
      "Regression ( LR), Support  Vector Machine (SVM), and Naive Bayes Algorithm ( NB). For feature \n",
      "selection, they have used the Chi-Square test. In this, they have used three types of datasets. They are \n",
      "Stroke, Heart failure, and Renal Failure. But they perform classification on two datasets viz. Stroke and \n",
      "Heart failure. The algorithms used were Naïve Bayes, SVM , and Logistic regression. The stroke data \n",
      "set shows an accuracy of more than .75, while classification results on the heart failure dataset show an \n",
      "accuracy of more than .85. Logistic regression is superior to Naïve Bayes and SVM. They have shown \n",
      "the Receiver Operating Characteristic curve as well (ROC). They have used SVM -RFE for feature \n",
      "selection, which is not suitable for choosing the most suitable feature subset. For getting better results \n",
      "need to use a different algorithm for comparing and analyzing in the next research because SVM-RFE \n",
      "cannot evaluate various feature selection algorithms. \n",
      " \n",
      "S Manish et al. [3] they have given a brief description of the technologies used for the study. They \n",
      "have stated that this is the first paper that uses Optimally Time-Frequency Concentrated (OTFC) even-\n",
      "length biorthogonal wavelet filter bank (BWFB) for automatically detecting CAD. The Fuzzy Entropy \n",
      "(FE) and log Energy (LogE) features were extracted from various subbands of the filter. They used Raw \n",
      "ECG data from twenty males and twenty females and CAD ECG from Six females and one male. Then \n",
      "signals were classified using Gaussian Support Machine Classifier (GSVM). They have stated that this \n",
      "study shows high accuracy compared with other methods and while others are using thirty features for \n",
      "classification, they use only twelve features. \n",
      " \n",
      "A Moloud et al.  [4] proposed a data mining method for CAD analysis.  Data manipulation and \n",
      "normalization were performed first. Then they selected features using GA and PSO algorithms. 10-fold \n",
      "cross-validation was performed on subsets. For classification purposes in the prelims test, they used ten 76 \n",
      " \n",
      "algorithms. Among them, the best three SVM classifiers were selected for the final. They are nu-SVC, \n",
      "nu-SVM, and Linear SVM. To optimize data, they used two optimization methods. Then they generated \n",
      "a confusion matrix for evaluating results. They have selected fitness functions. It has shown an accuracy \n",
      "of 93.08% based on the confusion matrix. They concluded by saying that instead of normalization other \n",
      "preprocessing approaches should be used in the future. \n",
      " \n",
      "R Silvia et al. [5] The objective of this review article is to describe the contemporary state of artificial \n",
      "intelligence in clinical practice. In this paper, they have explained very well about Artificial Intelligence \n",
      "and different subfields of Artificial intelligence like Machine learning, and deep learning and their \n",
      "subfields. They have given proper descriptions of new emerging  communication and information \n",
      "technologies like Mobile health and IOT. These are subfields  of E-health. And explained applications \n",
      "in cardiovascular imaging as well. Echocardiography, Magnetic resonance Imaging, Cardiac computed \n",
      "tomography, and Electrocardiography are different applications in Cardiovascular Imaging. \n",
      " \n",
      "Johnson et al. [6] have done a study about how AI and ML relate to statistics and why cardiology \n",
      "needs AI. They have explained in detail how to choose the best algorithm for feature selection. Through \n",
      "this paper , we can easily understand  different supervised Machine Learning algorithms used in \n",
      "Cardiovascular disease prediction like Logistic Regression, Regularized Regression, Tree-Based \n",
      "methods, Bootstrap, and Support Vector Machine. For explaining these they have given proper \n",
      "examples. In Unsupervised Machine learning, they have given a brief description of Neural networks \n",
      "and Deep Learning methods. The two most common forms of DL are CNN and RNN and explained the \n",
      "major disadvantage of deep learning. They have concluded by stating to use this study as a decision tool \n",
      "for medical practitioners. \n",
      " \n",
      "Acharya et al. [7] explained invasive and non-invasive techniques used in CAD detection. They have \n",
      "used Gaussian Mixture Model (GMM) Classifier for this purpose. Non-linear parameters are extracted \n",
      "from echocardiography images. They have taken four hundred normal images of thirty normal subjects \n",
      "and Four hundred CAD images of  thirty affected subjects. They have noticed the ischemic changes. \n",
      "Twelve lead electrocardiogram images were checked for wall motion abnormality. The training set and \n",
      "test set are there. An expert physician can mark the image collected as belonging to a normal or CAD-\n",
      "affected person. Then different classifiers are used to extract the features. A total of 559 features are \n",
      "extracted from each  image. T -test was used for statisti cal analysis. If p<.01 or.05, the feature is \n",
      "measured as very perceptive. A three-fold stratified cross-validation technique is used for developing \n",
      "and testing the classifiers. In this , they have used six classifiers. They are DT, FS, GMM, RBPNN, \n",
      "KNN, and NBC. Then the heart index is calculated which is a combination of nine distinctive features. \n",
      "The heat index for normal is 2.52± 0.07 and for CAD 2.86± 0.11.  They have stated that this can be \n",
      "transformed into software, can be implemented on any device,  and concluded that this shows  100% \n",
      "accuracy. \n",
      " \n",
      "S E Golovenkin et al. [8] tried to improve prediction by using the voting method of three competing \n",
      "systems and by eliminating sparse data columns. In this study,  the prediction was performed using \n",
      "Matlab2016 System, the Neural Network Toolbox module. In Artificial Neural Network, there was one \n",
      "input layer and two hidden layers. All layers are interconnected, and the output layer predicts the results. \n",
      "The voting method is used in this. The “Sliding- Window” method was used to increase the efficiency \n",
      "of the learning process. Standard indicators  are Accuracy, Sensitivity , and specificity. They ha ve \n",
      "eliminated sparse set input data columns.  They have also stated that the use of 3 Neural Networks \n",
      "increases accuracy by 1.2%. \n",
      " \n",
      "Babaoglu et al.  [9] used Principle Component Analysis (PCA) which is a   method of identifying \n",
      "patterns in data  and expressing them by highlighting differences and  similarities. They have taken a \n",
      "dataset of 480 patients after excluding patients with some problems. They have used a Support Vector \n",
      "Machine for classification and regression tasks.  The assessments are implem ented in Matlab 7.0 \n",
      "application using the LIBSVM package. The SVM method for twenty-three features shows less \n",
      "accuracy. So, using the PCA method, features were reduced to eighteen. Then it shows an accuracy of \n",
      "79.17%. They have concluded by stating that, P CA reduced dataset using the SVM method increases 77 \n",
      " \n",
      "the diagnostic accuracy rate, decreases the sum  of the training and test time , and training error in the \n",
      "assessment of EST (Exercise Stress test) in the determination of CAD with SVM method. \n",
      " \n",
      "Zong Chen et al. [10] tried to provide the recent adaptive image -based classification techniques. \n",
      "They have explained diverse types of heart diseases. They have compared the prediction methods used \n",
      "in different studies. The first step is image registration which can be performed on a raw image database \n",
      "and de-noising processing should be done. The feature is extracted from the image. They have used two \n",
      "different training models. They are Naive - Bayes Classification and SVM. They have concluded by \n",
      "stating that SVM is more accurate than Naïve Bayes Classification. The database needs to be updated \n",
      "with more descriptions of patients. \n",
      " \n",
      "M M Ali et al. [11] used the Kaggle dataset. They have done a comparison study and developed their \n",
      "experimental model. They have applied six classification algorithms to compare the accuracy of the \n",
      "best performer and statistical variables by using a ten-fold cross-validation method. The six classifiers \n",
      "were KNN, Random Forest, Decision Tree, AdaboostM1(ABM1), Logistic Regression, and Multilayer \n",
      "Perception (MLP). They have  listed the five most crucial features based on feature importance and \n",
      "correlation value. In this study compared to other classifiers RF shows 100% accuracy. KNN and MLP \n",
      "failed to generate feature importance scores or coefficient values. But this method has one limitation,  \n",
      "this data model is not enough to address all the issues. \n",
      " \n",
      "Yazdani A et al.  [12] used WARM (Weighted Associative Rule Mining) to predict  heart disease. \n",
      "They have compared the efficiency of earlier models that used the WARM method to predict heart \n",
      "disease. In this model , weights are assigned to identify the  best features mined. Feature values are \n",
      "evaluated. For Eg: Feature values for sex are Male and Female. After that calculate the total weight for \n",
      "the feature. Then applied WARM using the Apriori algorithm. Of thirteen features, eight significant \n",
      "features were identified. Finally, the confidence score is generated. This model shows a 98% confidence \n",
      "score which is better than the earlier studies. \n",
      " \n",
      "Sumit S et al. [ 13] proposed this study to create a deep learning neural network  heart disease \n",
      "prediction model by using a new optimization technique called Talos Hyperparameter. They have used \n",
      "UCI Heart Disease Dataset. They applied different learning algorithms like Logistic regression, KNN, \n",
      "SVM, Naïve Bayes, and Hyperparameter optimization (Talos). Talos follows POD (Prepare, Optimize, \n",
      "and Deploy) process workflow. Reporting and evaluation are the last process after POD. Talos method \n",
      "shows an accuracy of 90.78% which is better compared to other learning methods. \n",
      "     \n",
      "Bharati R et al. [14] conducted this study to compare the performance of both Machine learning as \n",
      "well as deep learning methods. They have considered a public dataset. In this , they compared both \n",
      "machine learning as well as deep learning methods.  In pre-processing the data, checked the distribution \n",
      "of data, skewness of data, stats of normal distribution data, feature selection , and checking for \n",
      "duplicates. after that proposed machine learning classifiers as well as deep learning classifiers. Then \n",
      "they evaluated the process and concluded by stating that dataset size need s to be increased and more \n",
      "optimization and normalization techniques need to be used. \n",
      " \n",
      "Ishaq A et al. [15] conducted this study for comparing different machine learning techniques to select \n",
      "the most suitable method for heart disease survival prediction. The dataset used was UCI Repository. \n",
      "Then applied RF to employ feature ranking. Classified the data into training and testing sets. They \n",
      "applied one oversampling method called SMOTE (Synthetic Minority Oversampling Technique) to deal \n",
      "with imbalanced data in medicine. Performance evaluation matrices were Accuracy, Precision, Recall, \n",
      "and F-Score.  Among 9 classifiers, they got more accuracy for RF, and it was .8889. With SMOTE, it \n",
      "shows 10% more accuracy. Extra Tree Classifier (ETC) shows an accuracy of .9262.  Here RF produces \n",
      "Constant approximation, ETC produces multi-linear approximation. \n",
      " \n",
      "Rajni Bhalla et al. [16] presents a detailed examination of the effectiveness and performance of both \n",
      "proposed and existing methodologies for classification task. The study aims to compare and evaluate \n",
      "the advantages and limitations of different methodologies for collectin g and analyzing data for 78 \n",
      " \n",
      "structured data. By conducting a comparative analysis, the paper provides valuable insights for \n",
      "researchers and practitioners seeking to optimize their methodologies for classification tasks and for \n",
      "data that is in a structured format. \n",
      " \n",
      "Abdel-Basset M et al. [17] proposed this study to develop an IoT model to detect and monitor heart \n",
      "failure-infected patients. Achieved from various wearable sensors. They used WBAN or medical sensor \n",
      "nodes. The data extracted from WBAN convey are sent to the mobile application through Bluetooth or \n",
      "ZigBee and stored in the cloud server to store, process , and broadcast data. Then N- MCDM model is \n",
      "used to determine the percentage of heart failure disease. If the patient has severe heart failure, then an \n",
      "ambulance will be sent to the patient and treatments will be started. This will provide the ratio of heart \n",
      "failure so that the clinicians can easily decide the type of treatment.  \n",
      " \n",
      "Rajni Bhalla et al. [18] presents a novel ensemble -based machine learning mo del that combines \n",
      "multiple categorical datasets to enhance prediction accuracy. The proposed approach consists of three \n",
      "main components: dataset alignment, model training, and prediction aggregation. The dataset alignment \n",
      "phase focuses on mapping categoric al variables across different datasets, ensuring consistency and \n",
      "compatibility. \n",
      " \n",
      "Rajni Bhalla et al. [19] concludes by identifying the current research trends and challenges in \n",
      "sentiment classification using hybrid ensemble -based approaches. It highlights the need for further \n",
      "investigation into the combination of diverse classifiers and the integration of deep learning techniques \n",
      "in ensemble frameworks.  The hybrid ensemble approach can be applied to classification dataset like \n",
      "heart disease detection to achieve better accuracy. \n",
      " \n",
      "Sivagowry S et al. [20] created a review of the application of data mining in heart disease prediction. \n",
      "In this, they have compared different data mining algorithms and concluded like heart disease prediction \n",
      "with data mining will become most successful with a smaller number of attributes, and text mining the \n",
      "medical data needs to be extended in predicting the health care data. \n",
      "4. Methodology  \n",
      " \n",
      "Figure 3: Methodology \n",
      "79 \n",
      " \n",
      "Data collection is the first step. Data can be collected in two ways such as Online data and real-time \n",
      "data. Then we have to remove noise, missing values, useless values and all. This step is called data \n",
      "preprocessing. Most of the online datasets are already preprocessed. So, we can directly use it without \n",
      "preprocessing. But for real -time data, preprocessing can be done in different ways such as by using \n",
      "machine learning, deep learning or data mining methods. After this step we will get the data in usable \n",
      "format. Now, need to split the dataset into Training and Testing set. We can split the dataset in such a \n",
      "way that 70% for training the model and 30% for testing. First train the model with train set. Then select \n",
      "the most significant feature for improving the prediction accuracy. Now, give test set to the model. It \n",
      "will predict accordingly. There are different evaluation metrics for checking the efficiency of the model \n",
      "such as Precision, Recall, F1-score, confusion matrix and ROC curves etc. (Fig-3 depicts the same). \n",
      "5. Results \n",
      "There are different regression and classification algorithms used to predict heart disease.  Different \n",
      "methods are used in different papers, and they have shown the accuracy that they obtained while using \n",
      "different methods. Table 1 shows the comparison of different works. In most of the papers, the different \n",
      "algorithms used are Naive Bayes, Logistic Regression, ANN, SVM, DT, RF, etc. Among them, ANN \n",
      "and RF show more accuracy. \n",
      " \n",
      "Table 1: Comparison of previous works \n",
      "Reference Methodology Dataset Accuracy \n",
      "[1] Support Vector Machine 42 CCTA Sensitivity- 93% \n",
      "Specificity-95% \n",
      "[2] Naive Bayes SVM (Linear) \n",
      "Logistic Regression \n",
      "Stroke Dataset 5257 Heart \n",
      "failure Dataset 714 \n",
      "On Stroke Dataset Naive \n",
      "Bayes- 0.7662(Accuracy) \n",
      "SVM (Linear)-0.7827 \n",
      "Logistic Regression- \n",
      "0.7820 \n",
      "On Heart Failure Dataset \n",
      "Naive Bayes- 0.8571 \n",
      "SVM(Linear)-0.8595 \n",
      "Logistic Regression- \n",
      "0.8529 \n",
      "[3] Signals were segmented into \n",
      "two seconds (Set A) and five \n",
      "seconds (Set B) duration. \n",
      "Then applied GSVM. \n",
      "1. Signals used are \n",
      "i) Normal ECG database. \n",
      "ii) CAD ECG signals. \n",
      "Raw ECG data from twenty \n",
      "males and twenty females and \n",
      "CAD ECG from  6 females and \n",
      "one male. \n",
      "GSVM -99.53% \n",
      "[4] Cross-validation – stratified \n",
      "10-fold. \n",
      "Machine learning- KNN, \n",
      "reglog, GaussNB, LDA, QDA, \n",
      "RandomForest, MLP, SVM (3 \n",
      "types, including C -SVC, nu-\n",
      "SVC, and Linear SVM. \n",
      " \n",
      "303 patients annotated with \n",
      "fifty-four factors. (CAD and \n",
      "Normal, with 216 CAD and 87 \n",
      "Normal (non-CAD) patients). \n",
      "nuSVM method with GA  \n",
      "and ACC fitness function  \n",
      "testing set shows an \n",
      "accuracy of 93.08% \n",
      "[7] Heart Index 400 normal images of 30 \n",
      "subjects and 400 CAD images \n",
      "The heart index for normal \n",
      "is 2.52± 0.07 and for CAD. 80 \n",
      " \n",
      "of 30 affected subjects using \n",
      "the Vivid 7 Dimension \n",
      "modality for GE Health care. \n",
      "The normal group \n",
      "age range was 20- 45, and the \n",
      "CAD group age range was 35-\n",
      "65.  \n",
      "2.86± 0.11 \n",
      "[8] Voting method \n",
      "Eliminated the sparse set \n",
      "input data columns. \n",
      "1700 patients with \n",
      "Myocardial Infarction. There \n",
      "were 1065 (62.6%) Men and \n",
      "635(37.4%) \n",
      "Women. \n",
      "Neural network -95% \n",
      "accuracy for 3 out of 12 \n",
      "diagnoses with up to 98% \n",
      "specificity. \n",
      "[11] Supervised machine \n",
      "learning algorithms \n",
      "1) KNN \n",
      "2) Random Forest \n",
      "3) Decision Tree \n",
      "4) Adaboost M1  \n",
      "5)  Logistic Regression \n",
      "6) Multilayer Perception  \n",
      "Kaggle Dataset Random Forest -100% \n",
      "accuracy. \n",
      "[12] Applied WARM  \n",
      " Apriori Algorithm \n",
      " \n",
      "Cleveland dataset from UCI \n",
      "Machine Learning \n",
      "Repository. \n",
      "Confidence Score-98% \n",
      "[13] Learning Algorithms \n",
      "     a. Logistic Regression \n",
      "     b. KNN \n",
      "     c. SVM \n",
      "     d. Naïve Bayes \n",
      "     e. Hyper-parameter optimization \n",
      "(Talos) \n",
      "     f. Random Forest Classifier \n",
      "UCI Heart Disease Dataset. \n",
      " \n",
      "Talos-90.78%  \n",
      "[14]  Machine learning classifiers \n",
      " Deep learning pseudocode \n",
      "Public health dataset. \n",
      "4 Databases \n",
      "1. Cleveland \n",
      "2. Hungary \n",
      "3. Switzerland and  \n",
      "4. Long Beach V \n",
      " \n",
      "Machine learning \n",
      "K neighbors – 84.8%   \n",
      "Deep Learning \n",
      "94.2% \n",
      "[15] 9 Classifiers \n",
      "Synthetic Minority Over Sampling \n",
      "technique (SMOTE) \n",
      " \n",
      "UCI RF-.8889 \n",
      "Extra Tree Classifier with \n",
      "SMOTE- .9262 \n",
      " \n",
      "[17] IoT model \n",
      "WBAN sensors \n",
      "N-MCDM model \n",
      "Wearable sensors Returns Heart failure \n",
      "ratio. \n",
      "6. Conclusion and Future Work \n",
      "In conclusion, the diagnosis of heart disease remains a paramount concern within our medical \n",
      "society. Manual predictions, though rare, can still yield incorrect results due to the need for precise \n",
      "image assessment. Non -invasive methods provide an alternati ve for individuals concerned about 81 \n",
      " \n",
      "traditional diagnostic approaches, enabling them to take proactive preventive measures. This study \n",
      "highlights various approaches such as machine learning, deep learning, data mining, and IoT tools for \n",
      "predicting heart dis ease. However, the accuracy of these methods poses challenges, given the high \n",
      "stakes involved in predicting human life. Even models achieving 100% accuracy during testing may \n",
      "encounter failures when applied to real -time data. In this software -driven era, it is crucial to develop \n",
      "robust and cost -effective solutions that deliver more accurate results. Further comprehensive studies \n",
      "should be conducted to advance our understanding and achieve better outcomes in this field. \n",
      "7. References \n",
      "[1] Oikonomou E K, Siddique M &  Antoniades C, Artificial Intelligence in Medical Imaging: a \n",
      "radiomic guide to precision phenotyping of Cardiovascular disease, Cardiovascular Research, \n",
      "116(13), 2040-2054. https:// doi:10.1093/cvr/cvaa021. \n",
      "[2] Li, B, Ding S, Song G, Li J, Zhang Q. 2019. Compu ter-Aided Diagnosis and Clinical Trials of \n",
      "Cardiovascular Diseases Based on Artificial Intelligence Technologies for Risk -Early Warning \n",
      "Model. J Med Syst 43, 228. https://doi.org/10.1007/s10916-019- 1346-x. \n",
      "[3] Manish Sharma, U. Rajendra Acharya, 2019. A New Method to Identify Coronary Artery Disease \n",
      "with ECG Signals and Time-Frequency Concentrated Antisymmetric Biorthogonal Wavelet Filter \n",
      "Bank, Pattern Recognition Letters. S0167 -8655(19)30121- 7. \n",
      "https://doi.org/10.1016/j.patrec.2019.04.014. \n",
      "[4] Abdar M, Ksiazek W , Rajendra Acharya U, Tan R S, Makarenkov V, Plaviak P. 2019.A New \n",
      "Machine Learning Technique for an Accurate Diagnosis of Coronary Artery Disease, Computer \n",
      "Methods, and Programs in Biomedicine. S0169 -2607(18)31458-5. \n",
      "https://doi.org/10.1016/j.cmpb.2019.104992. \n",
      "[5] Romiti S, Vinciguerra M, Saade W et al.,2020. \"Artificial Intelligence (AI) and Cardiovascular \n",
      "Diseases: An Unexpected Alliance\", Cardiology Research and Practice, vol. 2020, Article ID \n",
      "4972346, 8 pages. https://doi.org/10.1155/2020/4972346 \n",
      "[6] Johnson, K. W., Torres Soto, J., Glicksberg, B. S., Shameer, K., Miotto, R., Ali, M., ... & Dudley, \n",
      "J. T. (2018). Artificial intelligence in cardiology. Journal of the American College of \n",
      "Cardiology, 71(23), 2668-2679. https://www.jacc.org/doi/abs/10.1016/j.jacc.2018.03.521. \n",
      "[7] Acharya U R, Sree S V, Krishnan M M R, Krishnananda N, Ranjan S, Umesh P & Suri J S, (2013). \n",
      "Automated classification of patients with coronary artery disease using grayscale features from left \n",
      "ventricle echocardiographic images, Computer Methods and Programs in Biomedicine,  Volume \n",
      "112, Issue 3,2013, Pages 624-632. https://doi.org/10.1016/j.cmpb.2013.07.012. \n",
      "[8] Golovenkin S E, Dorrer M G, Nikulina S Y, Orlova Y V, & Pelipeckaya E Y, (2020), Evaluation \n",
      "of the effectiveness of using artificial intelligence to predict the response of the human body to \n",
      "cardiovascular diseases. Journal of Physics: Conference Series, Vo lume 1679. No. 4, \n",
      "https://iopscience.iop.org/article/10.1088/1742- 6596/1679/4/042017/meta. \n",
      "[9] Babaoglu I, Findik O & Bayrak M, (2010). Effects of principle component analysis on assessment \n",
      "of coronary artery diseases using support vector machine, Expert Syst ems with Applications, \n",
      "Volume 37, Issue 3, 2010, Pages 2182-2185. https://doi.org/10.1016/j.eswa.2009.07.055. \n",
      "[10] Chen J I Z, &  Hengjinda P. (2021). Early Prediction of Coronary Artery Disease ( CAD) by \n",
      "Machine Learning Method- A Comparative Study, Journal of A rtificial Intelligence and Capsule \n",
      "Networks, Vol.03/ No.01, Pages: 17-33. https://doi.org/10.36548/jaicn.2021.1.002. \n",
      "[11] M M Ali, B K Paul, Kawsar Ahmed, Francis M B, Julian M W, Q M A Moni, (2021), Heart disease \n",
      "prediction using supervised machine learning al gorithms: Performance analysis and comparison, \n",
      "Computers in Biology and Medicine, Volume 136, \n",
      "https://doi.org/10.1016/j.compbiomed.2021.104672. \n",
      "[12] Yazdani A, Varathan K D, Chiam Y K, Malik A W, & Wan Ahmad, W A (2021). A novel approach \n",
      "for heart disease prediction using strength scores  with significant predictors. BMC Medical \n",
      "Informatics and Decision Making 21(1). https://doi.org/10.1186/s12911-021-01527-5. \n",
      "[13] Sumit Sharma, Mahesh Parmar (2020), Heart Diseases Prediction using Deep Learning  \n",
      "Neural Network Model, International Journal of Innovative Technology and Exploring \n",
      "Engineering (IJITEE), Volume-9, Issue-3. https://doi.org/10.35940/ijitee.C9009.019320. 82 \n",
      " \n",
      "[14] Bharti R, Khamparia A, Shabaz M, Dhiman G, Pande S, Singh P. Prediction of Heart Disease \n",
      "Using a Combination of Machine Learning and Deep Learning. Comput Intell Neurosci. 2021 Jul \n",
      "1; 2021:8387680. doi- 10.1155/2021/8387680. PMID: 34306056; PMCID: PMC8266441. \n",
      "[15] Abid Ishaq, Saima Sadiq, Muhammad Umer, Saleem Ullah, Seyedali Mirjalili, Vaibhav Rupapara, \n",
      "and Michele Nappi, Improving the Prediction of Heart Failure Patients’ Survival Using SMOTE \n",
      "and Effective Data Mining Techniques, IEEE Access, VOLUME 9, 2021, Pages 39707 -39716. \n",
      "[16] Bhalla R, Amandeep. A comparative analysis of application of proposed and the existing \n",
      "methodologies on a mobile phone survey. In Futurist ic Trends in Networks and Computing \n",
      "Technologies: Second International Conference, FTNCT 2019, Chandigarh, India, November 22–\n",
      "23, 2019, Revised Selected Papers 2 2020 (pp. 107-115). Springer Singapore. \n",
      "[17] Abdel-Basset, M., Gamal, A., Manogaran, G., Son, L. H. , & Long, H. V. (2019).  A novel group \n",
      "decision-making model based on neutrosophic sets for heart disease diagnosis. Multimedia Tools \n",
      "and Applications. doi:10.1007/s11042-019-07742-7. \n",
      "[18] Bhalla R, Sharma A, Gupta J. An Ensemble -based Machine Learning Model for  Accurate \n",
      "Predictions using Multiple Categorical Datasets. In2022 Second International Conference on \n",
      "Interdisciplinary Cyber Physical Systems (ICPS) 2022 May 9 (pp. 1-4). IEEE. \n",
      "[19] R. Bhalla, A. Sharma, and G. Ganesan, “A Bibliographic Survey of Sentiment Classification using \n",
      "Hybrid Ensemble-based Machine Learning Approaches,” in ceur workshop proceedings, 2022, \n",
      "vol. 3146, pp. 33–38, [Online]. Available: https://ceur-ws.org/Vol-3146/PAPER_04.pdf. \n",
      "[20] Sivagowry, S.; Durairaj, M.; Persia, A. (2013) . - An empirical study on applying data mining \n",
      "techniques for the analysis and prediction of heart disease., [IEEE 2013 International Conference \n",
      "on Information Communication and Embed ded Systems (ICICES 2013) - \n",
      "doi:10.1109/ICICES.2013.6508204.  \n",
      " \n",
      "View publication stats\n"
     ]
    }
   ],
   "source": [
    "print(question)"
   ]
  },
  {
   "cell_type": "code",
   "execution_count": 36,
   "metadata": {},
   "outputs": [
    {
     "data": {
      "text/plain": [
       "str"
      ]
     },
     "execution_count": 36,
     "metadata": {},
     "output_type": "execute_result"
    }
   ],
   "source": [
    "type(question)"
   ]
  },
  {
   "cell_type": "markdown",
   "metadata": {},
   "source": [
    "Chunking \n",
    "\n",
    "- Have various Text splitter - Charactertectsplitter, Recursivetextsplitter\n",
    "\n",
    "- here going to use Token Text Splitter\n",
    "- Why bcoz here we are going to give model (ie) llm model to perform chunking\n",
    "- by using llm model in chunking that model will remember the past context."
   ]
  },
  {
   "cell_type": "markdown",
   "metadata": {},
   "source": [
    "### For Question generator chunking"
   ]
  },
  {
   "cell_type": "code",
   "execution_count": 18,
   "metadata": {},
   "outputs": [],
   "source": [
    "from langchain_text_splitters import TokenTextSplitter"
   ]
  },
  {
   "cell_type": "code",
   "execution_count": 19,
   "metadata": {},
   "outputs": [],
   "source": [
    "splitter_question = TokenTextSplitter(\n",
    "    model_name = \"gpt-3.5-turbo\",\n",
    "    chunk_size = 1000,\n",
    "    chunk_overlap=100\n",
    ")"
   ]
  },
  {
   "cell_type": "code",
   "execution_count": 23,
   "metadata": {},
   "outputs": [],
   "source": [
    "chunk_question_gen = splitter_question.split_text(question)"
   ]
  },
  {
   "cell_type": "code",
   "execution_count": 40,
   "metadata": {},
   "outputs": [
    {
     "data": {
      "text/plain": [
       "[\"See discussions, stats, and author profiles for this publication at: https://www.researchgate.net/publication/381309747\\nHeart Disease Prediction using Machine Learning Method -A Review Article\\nArticle · June 2024\\nCITATIONS\\n0\\nREADS\\n325\\n2 authors, including:\\nRajni Bhalla\\nLovely Professional University\\n28 PUBLICATIONS\\xa0\\xa0\\xa0111 CITATIONS\\xa0\\xa0\\xa0\\nSEE PROFILE\\nAll content following this page was uploaded by Rajni Bhalla on 11 June 2024.\\nThe user has requested enhancement of the downloaded file.72 \\n \\nHeart Disease Prediction using Machine Learning Method – A \\nReview Article \\n \\nSreekumari S 1, Rajni Bhalla 1 and Geetha Ganesan 2 \\n \\n1 Lovely Professional University, Phagwara, Punjab, India \\n2 Jain (Deemed-to-be) University, Bengaluru, India \\n \\n \\nAbstract \\nThis abstract focuses on the significance of heart disease as the leading cause of disability in \\nthe human body, primarily stemming from the reduction or blockage of coronary arteries. \\nCoronary Artery Disease (CAD) emerges as the most prevalent form of heart di sease, often \\nremaining asymptomatic until symptoms of a heart attack or heart failure arise. This paper aims \\nto explore various machine learning techniques utilized in heart disease prediction, supporting \\nthe medical field in expedient diagnosis. The availability of vast amounts of patient information \\nonline presents an opportunity for effective utilization. Accurate diagnosis of heart disease is \\nof utmost importance, as incorrect predictions can have severe consequences on individuals' \\nlives. Numerous regr ession and classification Machine Learning Algorithms are available, \\nincluding K Nearest Neighbor Algorithm (KNN), Support Vector Machine (SVM), Neural \\nNetwork, Logistic Regression (LR), Decision Tree (DT), and Random Forest (RF) \\nClassification. Previous research indicates that SVM and Random Forest methods often exhibit \\nhigher levels of accuracy compared to other approaches. This paper provides a comprehensive \\ndiscussion of commonly employed machine learning algorithms in the field of heart disease \\nprediction. \\n \\nKeywords  1 \\nCoronary Artery Disease, Early Prediction, Regression and Classification, Machine Learning. \\n1. Introduction \\nCongestive heart failure is the main root of dysfunction in anatomy.  It is affected by the \\nreduction/blockage of coronary arteries. Coronary Artery Disease (CAD) is the most common  type of \\nCongestive heart failure. Common signs of Heart attack are Chest pain, body discomfort, and breath \\nshortness. Common symptoms of Arrhythmia are fluttering feelings in the chest or in common we can \\nquote it as “Palpitation.” Whereas common symptom of Heart failure is Breath shortness, Fatigue, or \\nswelling on the Leg, feet, ankles, neck veins, or even in the abdomen. Other than these there are other \\nmedical conditions and life cycles that can make people at high risk for heart disease like, Diabetes, \\nObesity, an Unbalanced diet, Physical incapacity or inactivity, and excessive usage of alcohol. \\n \\nThe current method of using an angiogram to identify heart disea ses has few risks to be overruled. \\nThey include allergic reactions to the dye used to see the coronary arteries, bleeding at the site  where \\nthe catheter is placed, and the usage of dye can even cause damage to the kidney. So, we recommend \\nthe usage of non-invasive methods. Predicting heart disease is extremely critical. Because one error in \\nprediction can lead to the death of the person. If a patient has diseases such as kidney failure or diabetes, \\nthen they must experience a higher risk after an angiogram. Some of such risks are: \\n \\n• May be allergic to anesthesia and contrast dye. \\n \\nCVMLH 2023: Workshop on Computer Vision and Machine Learning for Healthcare, May 20 – 21, 2023, Chennai, India. \\nEMAIL: sreekumari.sreelesh@gmail.com (Sreekumari S) \\nORCID: 0000-0002-0207-4738 (Sreekumari S) \\n \\n©️  2023 Copyright for this paper by its authors. \\nUse permitted under Creative Commons License Attribution 4.0 International (CC BY 4.0).  \\n \\nCEUR Workshop Proceedings (CEUR-WS.org) \\n \\nCEUR\\nWorkshop\\nProceedings\\nceur-ws.org\\nISSN 1613-007373 \\n \\n• Bleeding at the insertion point of the catheter. \\n• Blood clots or injury to an artery or vein. \\n \\nThese kinds of people must take contrast medicine before 24 hours to check whether they are allergic \\nor not. All human beings do not possess higher pain tolerance. Those who are having low pain tolerance \\ncannot undergo an angiogram because of the high\",\n",
       " ' \\n \\nCEUR\\nWorkshop\\nProceedings\\nceur-ws.org\\nISSN 1613-007373 \\n \\n• Bleeding at the insertion point of the catheter. \\n• Blood clots or injury to an artery or vein. \\n \\nThese kinds of people must take contrast medicine before 24 hours to check whether they are allergic \\nor not. All human beings do not possess higher pain tolerance. Those who are having low pain tolerance \\ncannot undergo an angiogram because of the high-risk factors. In such cases, we must use non-invasive \\nmethods to predict heart diseases. Heart diseases are of diverse types. They are: \\n \\n• Coronary Artery disease (CAD) \\n• Heart Arrhythmias \\n• Heart failure \\n• Heart valve disease \\n• Stroke etc. \\n \\nTo predict heart disease with the best accuracy prediction algorithm should be the  right one . \\nOtherwise, the prediction will go wrong which leads to the death of a person. Here, we have summarized \\nrecent activities in which we can find distinct predictive analytics. \\n \\nSince heart disease datasets are easily available online, data collection becomes remarkably simple. \\nThere is a lack of knowledge of data. That will be achieved after processing the data. This  should be \\nperformed by collecting the proper data after avoiding inappropriate data.  Then find out the missing \\ndata and remove all the duplicates. This step is called data preprocessing. After this split the dataset into \\ntwo such as the training set and testing set. Then apply different classification and regression algorithms \\nto predict whether a person has a chance of any heart  disease. From the accuracy, choose the best \\npredictive method. Fig-1 depicts the predictive method. \\n \\n \\nFigure 1: Predictive Model \\n2. Supervised Machine Learning Algorithms \\nIn supervised machine learning, training data is provided to the machine which works as a supervisor \\nthat teaches the machines to predict the output accurately. In this method, labeled  data is provided to \\ntrain the model and the model learns about distinct types of data. After the training process, the model \\nis evaluated based on test data which is a subset of the training set and then it starts predicting the output. \\nSupervised learning can again be divided into two. They are Regression and Classification. (Fig-2). The \\nfollowing are different machine learning   algorithms. \\n \\n74 \\n \\n. \\nFigure 2: Categories of Supervised Learning \\n2.1. Logistic Regression \\nIt is one of the most significant machine learning algorithms because it can provide probabilities and \\nclassify new data by using discrete and continuous datasets. The first step is to extract the dependent \\nand independent variables. Then splitting of the dataset and feature scaling is performed. The outcome \\nmust be of a categorical or discrete value. \\n2.2. K- nearest neighbor algorithm \\nThis supervised learning algorithm stores all the given data and based on the similarity it classifies \\na new data point. It is also known as the “Lazy- Learner Algorithm.” Because it acts on the dataset \\nduring classification instead of learning from the training dataset. It can be used for both Regression \\nand Classification. But typically used for Classification problems. It will be more effective if the training \\ndata is large. \\n2.3. Support Vector Machine \\nThis is a well-liked supervised learning algorithm. In this plot, each data is a point in n- dimension \\nspace with each value of feature being a particular  coordinate value. Then classification is performed \\nafter finding the hyper-plane which is also known as the best decision boundary. \\n2.4. Artificial Neural Network \\nIt is a special type of machine-learning algorithm that is used  to model the human brain. ANN is \\ncapable of learning from the data, and it provides results as classification or prediction such as neurons \\nin our nervous system  learning from past data. ANNs are non -linear statistical models that show \\ncomplex relationships between inputs and outputs. The three important layers are the input layer, hidden \\nlayers, and output layer. The hidden layer may be single or multiple. In this model, different parameters \\naffect the performance of the model. The output is dependent on this data. The input layer communicates \\nwith the hidden layer and the activated neurons will continue passing until it reaches the output layer. \\n2.5. Decision Trees \\nIt is a type of supervised machine learning algorithm, in which the data set is always split based on \\na defined constraint. Decision nodes and leaves are the two results that can be derived from the decision \\ntree. \\n75 \\n \\n2.6. Random Forest Classification (RFC):  \\nRFC is based on the concept of combo learning, which means a process of solving a complex \\nproblem to an improved and more accurate level of performance of the model by combining the \\nmultiple classifiers. \\n \\nSince this rev iew paper is about machine learning techniques, we have gone through different \\nmachine learning algorithms.',\n",
       " ' on \\na defined constraint. Decision nodes and leaves are the two results that can be derived from the decision \\ntree. \\n75 \\n \\n2.6. Random Forest Classification (RFC):  \\nRFC is based on the concept of combo learning, which means a process of solving a complex \\nproblem to an improved and more accurate level of performance of the model by combining the \\nmultiple classifiers. \\n \\nSince this rev iew paper is about machine learning techniques, we have gone through different \\nmachine learning algorithms. There are ample methods used in heart disease prediction  other than \\nmachine learning. They are deep learning, Data mining, IoT tools, etc. \\n3. Literature Review \\n \\nE. K. Oikonomou et al.  [1], they have given a clear idea about Artificial intelligence,  Machine \\nlearning, big data, and different prediction methods like supervised and unsupervised  methods. CT \\n(Cardiac Computed Tomography) imaging is the best way to predict  Cardio Artery Disease (CAD), \\nwhich will mitigate the complexity of doctors to predict CAD by using images, and it will be helpful \\nfor the patients to identify the disease faster.  Predictions are performed using Regression analysis and \\nClassification methods. Regression analysis is performed on the image using  a deep neural network \\n(DNN) algorithm or Support vector machines or decision trees. They have given a good explanation of \\nRadiomics. For image processing, detection, and segmentation they have used CCTA (Coronary CT \\nAngiography) scans and Machine Learning (ML) Algorithms. They stated that it can predict many risks \\nwhich are not possible with humans. They concluded by explaining the limitations and stating that this \\nwork has offered a lot to the patients as well as doctors. \\n \\nLi Bin et al. [2] tried to establish a disease pre-alert model within the 3 Year gap for hypertension \\npatients. To achieve public data analysis through AI technologies  they have used spark data analysis \\nfor hypertension patients. Using data mining, unbalanced data is converted to usable form using the Z-\\nscore standard. Stroke, Heart failure, and Renal Failure symptoms viz. 3 group predictions ascertain the \\npre-alert risk warning using a data mining algorithm. AI technologies used in this model are Logistic \\nRegression ( LR), Support  Vector Machine (SVM), and Naive Bayes Algorithm ( NB). For feature \\nselection, they have used the Chi-Square test. In this, they have used three types of datasets. They are \\nStroke, Heart failure, and Renal Failure. But they perform classification on two datasets viz. Stroke and \\nHeart failure. The algorithms used were Naïve Bayes, SVM , and Logistic regression. The stroke data \\nset shows an accuracy of more than .75, while classification results on the heart failure dataset show an \\naccuracy of more than .85. Logistic regression is superior to Naïve Bayes and SVM. They have shown \\nthe Receiver Operating Characteristic curve as well (ROC). They have used SVM -RFE for feature \\nselection, which is not suitable for choosing the most suitable feature subset. For getting better results \\nneed to use a different algorithm for comparing and analyzing in the next research because SVM-RFE \\ncannot evaluate various feature selection algorithms. \\n \\nS Manish et al. [3] they have given a brief description of the technologies used for the study. They \\nhave stated that this is the first paper that uses Optimally Time-Frequency Concentrated (OTFC) even-\\nlength biorthogonal wavelet filter bank (BWFB) for automatically detecting CAD. The Fuzzy Entropy \\n(FE) and log Energy (LogE) features were extracted from various subbands of the filter. They used Raw \\nECG data from twenty males and twenty females and CAD ECG from Six females and one male. Then \\nsignals were classified using Gaussian Support Machine Classifier (GSVM). They have stated that this \\nstudy shows high accuracy compared with other methods and while others are using thirty features for \\nclassification, they use only twelve features. \\n \\nA Moloud et al.  [4] proposed a data mining method for CAD analysis.  Data manipulation and \\nnormalization were performed first. Then they selected features using GA and PSO algorithms. 10-fold \\ncross-validation was performed on subsets. For classification purposes in the prelims test, they used ten 76 \\n \\nalgorithms. Among them, the best three SVM classifiers were selected for the final. They are nu-SVC, \\nnu-SVM, and Linear SVM. To optimize data, they used two optimization methods. Then they generated \\na confusion matrix for evaluating results. They have selected fitness functions. It has shown an accuracy \\nof 93.08% based on the confusion matrix. They concluded by saying that instead of normalization other \\npreprocessing approaches should be used in the future. \\n \\nR Silvia et al',\n",
       " ' Among them, the best three SVM classifiers were selected for the final. They are nu-SVC, \\nnu-SVM, and Linear SVM. To optimize data, they used two optimization methods. Then they generated \\na confusion matrix for evaluating results. They have selected fitness functions. It has shown an accuracy \\nof 93.08% based on the confusion matrix. They concluded by saying that instead of normalization other \\npreprocessing approaches should be used in the future. \\n \\nR Silvia et al. [5] The objective of this review article is to describe the contemporary state of artificial \\nintelligence in clinical practice. In this paper, they have explained very well about Artificial Intelligence \\nand different subfields of Artificial intelligence like Machine learning, and deep learning and their \\nsubfields. They have given proper descriptions of new emerging  communication and information \\ntechnologies like Mobile health and IOT. These are subfields  of E-health. And explained applications \\nin cardiovascular imaging as well. Echocardiography, Magnetic resonance Imaging, Cardiac computed \\ntomography, and Electrocardiography are different applications in Cardiovascular Imaging. \\n \\nJohnson et al. [6] have done a study about how AI and ML relate to statistics and why cardiology \\nneeds AI. They have explained in detail how to choose the best algorithm for feature selection. Through \\nthis paper , we can easily understand  different supervised Machine Learning algorithms used in \\nCardiovascular disease prediction like Logistic Regression, Regularized Regression, Tree-Based \\nmethods, Bootstrap, and Support Vector Machine. For explaining these they have given proper \\nexamples. In Unsupervised Machine learning, they have given a brief description of Neural networks \\nand Deep Learning methods. The two most common forms of DL are CNN and RNN and explained the \\nmajor disadvantage of deep learning. They have concluded by stating to use this study as a decision tool \\nfor medical practitioners. \\n \\nAcharya et al. [7] explained invasive and non-invasive techniques used in CAD detection. They have \\nused Gaussian Mixture Model (GMM) Classifier for this purpose. Non-linear parameters are extracted \\nfrom echocardiography images. They have taken four hundred normal images of thirty normal subjects \\nand Four hundred CAD images of  thirty affected subjects. They have noticed the ischemic changes. \\nTwelve lead electrocardiogram images were checked for wall motion abnormality. The training set and \\ntest set are there. An expert physician can mark the image collected as belonging to a normal or CAD-\\naffected person. Then different classifiers are used to extract the features. A total of 559 features are \\nextracted from each  image. T -test was used for statisti cal analysis. If p<.01 or.05, the feature is \\nmeasured as very perceptive. A three-fold stratified cross-validation technique is used for developing \\nand testing the classifiers. In this , they have used six classifiers. They are DT, FS, GMM, RBPNN, \\nKNN, and NBC. Then the heart index is calculated which is a combination of nine distinctive features. \\nThe heat index for normal is 2.52± 0.07 and for CAD 2.86± 0.11.  They have stated that this can be \\ntransformed into software, can be implemented on any device,  and concluded that this shows  100% \\naccuracy. \\n \\nS E Golovenkin et al. [8] tried to improve prediction by using the voting method of three competing \\nsystems and by eliminating sparse data columns. In this study,  the prediction was performed using \\nMatlab2016 System, the Neural Network Toolbox module. In Artificial Neural Network, there was one \\ninput layer and two hidden layers. All layers are interconnected, and the output layer predicts the results. \\nThe voting method is used in this. The “Sliding- Window” method was used to increase the efficiency \\nof the learning process. Standard indicators  are Accuracy, Sensitivity , and specificity. They ha ve \\neliminated sparse set input data columns.  They have also stated that the use of 3 Neural Networks \\nincreases accuracy by 1.2%. \\n \\nBabaoglu et al.  [9] used Principle Component Analysis (PCA) which is a   method of identifying \\npatterns in data  and expressing them by highlighting differences and  similarities. They have taken a \\ndataset of 480 patients after excluding patients with some problems. They have used a Support Vector \\nMachine for classification and regression tasks.  The assessments are implem ented in Matlab 7.0 \\napplication using the LIBSVM package. The SVM method for twenty-three features shows less \\naccuracy. So, using the PCA method, features were reduced to eighteen. Then it shows an accuracy of \\n79.17%. They have concluded by stating that, P CA reduced dataset',\n",
       " ' taken a \\ndataset of 480 patients after excluding patients with some problems. They have used a Support Vector \\nMachine for classification and regression tasks.  The assessments are implem ented in Matlab 7.0 \\napplication using the LIBSVM package. The SVM method for twenty-three features shows less \\naccuracy. So, using the PCA method, features were reduced to eighteen. Then it shows an accuracy of \\n79.17%. They have concluded by stating that, P CA reduced dataset using the SVM method increases 77 \\n \\nthe diagnostic accuracy rate, decreases the sum  of the training and test time , and training error in the \\nassessment of EST (Exercise Stress test) in the determination of CAD with SVM method. \\n \\nZong Chen et al. [10] tried to provide the recent adaptive image -based classification techniques. \\nThey have explained diverse types of heart diseases. They have compared the prediction methods used \\nin different studies. The first step is image registration which can be performed on a raw image database \\nand de-noising processing should be done. The feature is extracted from the image. They have used two \\ndifferent training models. They are Naive - Bayes Classification and SVM. They have concluded by \\nstating that SVM is more accurate than Naïve Bayes Classification. The database needs to be updated \\nwith more descriptions of patients. \\n \\nM M Ali et al. [11] used the Kaggle dataset. They have done a comparison study and developed their \\nexperimental model. They have applied six classification algorithms to compare the accuracy of the \\nbest performer and statistical variables by using a ten-fold cross-validation method. The six classifiers \\nwere KNN, Random Forest, Decision Tree, AdaboostM1(ABM1), Logistic Regression, and Multilayer \\nPerception (MLP). They have  listed the five most crucial features based on feature importance and \\ncorrelation value. In this study compared to other classifiers RF shows 100% accuracy. KNN and MLP \\nfailed to generate feature importance scores or coefficient values. But this method has one limitation,  \\nthis data model is not enough to address all the issues. \\n \\nYazdani A et al.  [12] used WARM (Weighted Associative Rule Mining) to predict  heart disease. \\nThey have compared the efficiency of earlier models that used the WARM method to predict heart \\ndisease. In this model , weights are assigned to identify the  best features mined. Feature values are \\nevaluated. For Eg: Feature values for sex are Male and Female. After that calculate the total weight for \\nthe feature. Then applied WARM using the Apriori algorithm. Of thirteen features, eight significant \\nfeatures were identified. Finally, the confidence score is generated. This model shows a 98% confidence \\nscore which is better than the earlier studies. \\n \\nSumit S et al. [ 13] proposed this study to create a deep learning neural network  heart disease \\nprediction model by using a new optimization technique called Talos Hyperparameter. They have used \\nUCI Heart Disease Dataset. They applied different learning algorithms like Logistic regression, KNN, \\nSVM, Naïve Bayes, and Hyperparameter optimization (Talos). Talos follows POD (Prepare, Optimize, \\nand Deploy) process workflow. Reporting and evaluation are the last process after POD. Talos method \\nshows an accuracy of 90.78% which is better compared to other learning methods. \\n     \\nBharati R et al. [14] conducted this study to compare the performance of both Machine learning as \\nwell as deep learning methods. They have considered a public dataset. In this , they compared both \\nmachine learning as well as deep learning methods.  In pre-processing the data, checked the distribution \\nof data, skewness of data, stats of normal distribution data, feature selection , and checking for \\nduplicates. after that proposed machine learning classifiers as well as deep learning classifiers. Then \\nthey evaluated the process and concluded by stating that dataset size need s to be increased and more \\noptimization and normalization techniques need to be used. \\n \\nIshaq A et al. [15] conducted this study for comparing different machine learning techniques to select \\nthe most suitable method for heart disease survival prediction. The dataset used was UCI Repository. \\nThen applied RF to employ feature ranking. Classified the data into training and testing sets. They \\napplied one oversampling method called SMOTE (Synthetic Minority Oversampling Technique) to deal \\nwith imbalanced data in medicine. Performance evaluation matrices were Accuracy, Precision, Recall, \\nand F-Score.  Among 9 classifiers, they got more accuracy for RF, and it was .8889. With SMOTE, it \\nshows 10% more accuracy. Extra Tree Classifier (ETC) shows an accuracy of .9262.  Here',\n",
       " ' training and testing sets. They \\napplied one oversampling method called SMOTE (Synthetic Minority Oversampling Technique) to deal \\nwith imbalanced data in medicine. Performance evaluation matrices were Accuracy, Precision, Recall, \\nand F-Score.  Among 9 classifiers, they got more accuracy for RF, and it was .8889. With SMOTE, it \\nshows 10% more accuracy. Extra Tree Classifier (ETC) shows an accuracy of .9262.  Here RF produces \\nConstant approximation, ETC produces multi-linear approximation. \\n \\nRajni Bhalla et al. [16] presents a detailed examination of the effectiveness and performance of both \\nproposed and existing methodologies for classification task. The study aims to compare and evaluate \\nthe advantages and limitations of different methodologies for collectin g and analyzing data for 78 \\n \\nstructured data. By conducting a comparative analysis, the paper provides valuable insights for \\nresearchers and practitioners seeking to optimize their methodologies for classification tasks and for \\ndata that is in a structured format. \\n \\nAbdel-Basset M et al. [17] proposed this study to develop an IoT model to detect and monitor heart \\nfailure-infected patients. Achieved from various wearable sensors. They used WBAN or medical sensor \\nnodes. The data extracted from WBAN convey are sent to the mobile application through Bluetooth or \\nZigBee and stored in the cloud server to store, process , and broadcast data. Then N- MCDM model is \\nused to determine the percentage of heart failure disease. If the patient has severe heart failure, then an \\nambulance will be sent to the patient and treatments will be started. This will provide the ratio of heart \\nfailure so that the clinicians can easily decide the type of treatment.  \\n \\nRajni Bhalla et al. [18] presents a novel ensemble -based machine learning mo del that combines \\nmultiple categorical datasets to enhance prediction accuracy. The proposed approach consists of three \\nmain components: dataset alignment, model training, and prediction aggregation. The dataset alignment \\nphase focuses on mapping categoric al variables across different datasets, ensuring consistency and \\ncompatibility. \\n \\nRajni Bhalla et al. [19] concludes by identifying the current research trends and challenges in \\nsentiment classification using hybrid ensemble -based approaches. It highlights the need for further \\ninvestigation into the combination of diverse classifiers and the integration of deep learning techniques \\nin ensemble frameworks.  The hybrid ensemble approach can be applied to classification dataset like \\nheart disease detection to achieve better accuracy. \\n \\nSivagowry S et al. [20] created a review of the application of data mining in heart disease prediction. \\nIn this, they have compared different data mining algorithms and concluded like heart disease prediction \\nwith data mining will become most successful with a smaller number of attributes, and text mining the \\nmedical data needs to be extended in predicting the health care data. \\n4. Methodology  \\n \\nFigure 3: Methodology \\n79 \\n \\nData collection is the first step. Data can be collected in two ways such as Online data and real-time \\ndata. Then we have to remove noise, missing values, useless values and all. This step is called data \\npreprocessing. Most of the online datasets are already preprocessed. So, we can directly use it without \\npreprocessing. But for real -time data, preprocessing can be done in different ways such as by using \\nmachine learning, deep learning or data mining methods. After this step we will get the data in usable \\nformat. Now, need to split the dataset into Training and Testing set. We can split the dataset in such a \\nway that 70% for training the model and 30% for testing. First train the model with train set. Then select \\nthe most significant feature for improving the prediction accuracy. Now, give test set to the model. It \\nwill predict accordingly. There are different evaluation metrics for checking the efficiency of the model \\nsuch as Precision, Recall, F1-score, confusion matrix and ROC curves etc. (Fig-3 depicts the same). \\n5. Results \\nThere are different regression and classification algorithms used to predict heart disease.  Different \\nmethods are used in different papers, and they have shown the accuracy that they obtained while using \\ndifferent methods. Table 1 shows the comparison of different works. In most of the papers, the different \\nalgorithms used are Naive Bayes, Logistic Regression, ANN, SVM, DT, RF, etc. Among them, ANN \\nand RF show more accuracy. \\n \\nTable 1: Comparison of previous works \\nReference Methodology Dataset Accuracy \\n[1] Support Vector Machine 42 CCTA Sensitivity- 93% \\nSpecificity-95% \\n[2] Naive Bayes SVM (Linear) \\nLogistic Regression \\nStroke Dataset 5257 Heart \\nfailure Dataset 714 \\nOn Stroke Dataset',\n",
       " ' are Naive Bayes, Logistic Regression, ANN, SVM, DT, RF, etc. Among them, ANN \\nand RF show more accuracy. \\n \\nTable 1: Comparison of previous works \\nReference Methodology Dataset Accuracy \\n[1] Support Vector Machine 42 CCTA Sensitivity- 93% \\nSpecificity-95% \\n[2] Naive Bayes SVM (Linear) \\nLogistic Regression \\nStroke Dataset 5257 Heart \\nfailure Dataset 714 \\nOn Stroke Dataset Naive \\nBayes- 0.7662(Accuracy) \\nSVM (Linear)-0.7827 \\nLogistic Regression- \\n0.7820 \\nOn Heart Failure Dataset \\nNaive Bayes- 0.8571 \\nSVM(Linear)-0.8595 \\nLogistic Regression- \\n0.8529 \\n[3] Signals were segmented into \\ntwo seconds (Set A) and five \\nseconds (Set B) duration. \\nThen applied GSVM. \\n1. Signals used are \\ni) Normal ECG database. \\nii) CAD ECG signals. \\nRaw ECG data from twenty \\nmales and twenty females and \\nCAD ECG from  6 females and \\none male. \\nGSVM -99.53% \\n[4] Cross-validation – stratified \\n10-fold. \\nMachine learning- KNN, \\nreglog, GaussNB, LDA, QDA, \\nRandomForest, MLP, SVM (3 \\ntypes, including C -SVC, nu-\\nSVC, and Linear SVM. \\n \\n303 patients annotated with \\nfifty-four factors. (CAD and \\nNormal, with 216 CAD and 87 \\nNormal (non-CAD) patients). \\nnuSVM method with GA  \\nand ACC fitness function  \\ntesting set shows an \\naccuracy of 93.08% \\n[7] Heart Index 400 normal images of 30 \\nsubjects and 400 CAD images \\nThe heart index for normal \\nis 2.52± 0.07 and for CAD. 80 \\n \\nof 30 affected subjects using \\nthe Vivid 7 Dimension \\nmodality for GE Health care. \\nThe normal group \\nage range was 20- 45, and the \\nCAD group age range was 35-\\n65.  \\n2.86± 0.11 \\n[8] Voting method \\nEliminated the sparse set \\ninput data columns. \\n1700 patients with \\nMyocardial Infarction. There \\nwere 1065 (62.6%) Men and \\n635(37.4%) \\nWomen. \\nNeural network -95% \\naccuracy for 3 out of 12 \\ndiagnoses with up to 98% \\nspecificity. \\n[11] Supervised machine \\nlearning algorithms \\n1) KNN \\n2) Random Forest \\n3) Decision Tree \\n4) Adaboost M1  \\n5)  Logistic Regression \\n6) Multilayer Perception  \\nKaggle Dataset Random Forest -100% \\naccuracy. \\n[12] Applied WARM  \\n Apriori Algorithm \\n \\nCleveland dataset from UCI \\nMachine Learning \\nRepository. \\nConfidence Score-98% \\n[13] Learning Algorithms \\n     a. Logistic Regression \\n     b. KNN \\n     c. SVM \\n     d. Naïve Bayes \\n     e. Hyper-parameter optimization \\n(Talos) \\n     f. Random Forest Classifier \\nUCI Heart Disease Dataset. \\n \\nTalos-90.78%  \\n[14]  Machine learning classifiers \\n Deep learning pseudocode \\nPublic health dataset. \\n4 Databases \\n1. Cleveland \\n2. Hungary \\n3. Switzerland and  \\n4. Long Beach V \\n \\nMachine learning \\nK neighbors – 84.8%   \\nDeep Learning \\n94.2% \\n[15] 9 Classifiers \\nSynthetic Minority Over Sampling \\ntechnique (SMOTE) \\n \\nUCI RF-.8889 \\nExtra Tree Classifier with \\nSMOTE- .9262 \\n \\n[17] IoT model \\nWBAN sensors \\nN-MCDM model \\nWearable sensors Returns Heart failure \\nratio. \\n6. Conclusion and Future Work \\nIn conclusion, the diagnosis of heart disease remains a paramount concern within our medical \\nsociety. Manual predictions, though rare, can still yield incorrect results due to the need for precise \\nimage assessment. Non -invasive methods provide an alternati ve for individuals concerned about 81 \\n \\ntraditional diagnostic approaches, enabling them to take proactive preventive measures. This study \\nhighlights various approaches such as machine learning, deep learning, data mining, and IoT tools for \\npredicting heart dis ease. However, the accuracy of these methods poses challenges, given the high \\nstakes involved in predicting human life. Even models achieving 100% accuracy during testing may \\nencounter failures when applied to real -time data. In this software -',\n",
       " ' provide an alternati ve for individuals concerned about 81 \\n \\ntraditional diagnostic approaches, enabling them to take proactive preventive measures. This study \\nhighlights various approaches such as machine learning, deep learning, data mining, and IoT tools for \\npredicting heart dis ease. However, the accuracy of these methods poses challenges, given the high \\nstakes involved in predicting human life. Even models achieving 100% accuracy during testing may \\nencounter failures when applied to real -time data. In this software -driven era, it is crucial to develop \\nrobust and cost -effective solutions that deliver more accurate results. Further comprehensive studies \\nshould be conducted to advance our understanding and achieve better outcomes in this field. \\n7. References \\n[1] Oikonomou E K, Siddique M &  Antoniades C, Artificial Intelligence in Medical Imaging: a \\nradiomic guide to precision phenotyping of Cardiovascular disease, Cardiovascular Research, \\n116(13), 2040-2054. https:// doi:10.1093/cvr/cvaa021. \\n[2] Li, B, Ding S, Song G, Li J, Zhang Q. 2019. Compu ter-Aided Diagnosis and Clinical Trials of \\nCardiovascular Diseases Based on Artificial Intelligence Technologies for Risk -Early Warning \\nModel. J Med Syst 43, 228. https://doi.org/10.1007/s10916-019- 1346-x. \\n[3] Manish Sharma, U. Rajendra Acharya, 2019. A New Method to Identify Coronary Artery Disease \\nwith ECG Signals and Time-Frequency Concentrated Antisymmetric Biorthogonal Wavelet Filter \\nBank, Pattern Recognition Letters. S0167 -8655(19)30121- 7. \\nhttps://doi.org/10.1016/j.patrec.2019.04.014. \\n[4] Abdar M, Ksiazek W , Rajendra Acharya U, Tan R S, Makarenkov V, Plaviak P. 2019.A New \\nMachine Learning Technique for an Accurate Diagnosis of Coronary Artery Disease, Computer \\nMethods, and Programs in Biomedicine. S0169 -2607(18)31458-5. \\nhttps://doi.org/10.1016/j.cmpb.2019.104992. \\n[5] Romiti S, Vinciguerra M, Saade W et al.,2020. \"Artificial Intelligence (AI) and Cardiovascular \\nDiseases: An Unexpected Alliance\", Cardiology Research and Practice, vol. 2020, Article ID \\n4972346, 8 pages. https://doi.org/10.1155/2020/4972346 \\n[6] Johnson, K. W., Torres Soto, J., Glicksberg, B. S., Shameer, K., Miotto, R., Ali, M., ... & Dudley, \\nJ. T. (2018). Artificial intelligence in cardiology. Journal of the American College of \\nCardiology, 71(23), 2668-2679. https://www.jacc.org/doi/abs/10.1016/j.jacc.2018.03.521. \\n[7] Acharya U R, Sree S V, Krishnan M M R, Krishnananda N, Ranjan S, Umesh P & Suri J S, (2013). \\nAutomated classification of patients with coronary artery disease using grayscale features from left \\nventricle echocardiographic images, Computer Methods and Programs in Biomedicine,  Volume \\n112, Issue 3,2013, Pages 624-632. https://doi.org/10.1016/j.cmpb.2013.07.012. \\n[8] Golovenkin S E, Dorrer M G, Nikulina S Y, Orlova Y V, & Pelipeckaya E Y, (2020), Evaluation \\nof the effectiveness of using artificial intelligence to predict the response of the human body to \\ncardiovascular diseases. Journal of Physics: Conference Series, Vo lume 1679. No. 4, \\nhttps://iopscience.iop.org/article/10.1088/1742- 6596/1679/4/042017/meta. \\n[9] Babaoglu I, Findik O & Bayrak M, (2010). Effects of principle component analysis on assessment \\nof coronary artery diseases using support vector machine, Expert Syst ems with Applications, \\nVolume 37, Issue 3, 2010, Pages 2182-2185. https://doi.org/10.1016/j.eswa.2009.07.055. \\n',\n",
       " '6/1679/4/042017/meta. \\n[9] Babaoglu I, Findik O & Bayrak M, (2010). Effects of principle component analysis on assessment \\nof coronary artery diseases using support vector machine, Expert Syst ems with Applications, \\nVolume 37, Issue 3, 2010, Pages 2182-2185. https://doi.org/10.1016/j.eswa.2009.07.055. \\n[10] Chen J I Z, &  Hengjinda P. (2021). Early Prediction of Coronary Artery Disease ( CAD) by \\nMachine Learning Method- A Comparative Study, Journal of A rtificial Intelligence and Capsule \\nNetworks, Vol.03/ No.01, Pages: 17-33. https://doi.org/10.36548/jaicn.2021.1.002. \\n[11] M M Ali, B K Paul, Kawsar Ahmed, Francis M B, Julian M W, Q M A Moni, (2021), Heart disease \\nprediction using supervised machine learning al gorithms: Performance analysis and comparison, \\nComputers in Biology and Medicine, Volume 136, \\nhttps://doi.org/10.1016/j.compbiomed.2021.104672. \\n[12] Yazdani A, Varathan K D, Chiam Y K, Malik A W, & Wan Ahmad, W A (2021). A novel approach \\nfor heart disease prediction using strength scores  with significant predictors. BMC Medical \\nInformatics and Decision Making 21(1). https://doi.org/10.1186/s12911-021-01527-5. \\n[13] Sumit Sharma, Mahesh Parmar (2020), Heart Diseases Prediction using Deep Learning  \\nNeural Network Model, International Journal of Innovative Technology and Exploring \\nEngineering (IJITEE), Volume-9, Issue-3. https://doi.org/10.35940/ijitee.C9009.019320. 82 \\n \\n[14] Bharti R, Khamparia A, Shabaz M, Dhiman G, Pande S, Singh P. Prediction of Heart Disease \\nUsing a Combination of Machine Learning and Deep Learning. Comput Intell Neurosci. 2021 Jul \\n1; 2021:8387680. doi- 10.1155/2021/8387680. PMID: 34306056; PMCID: PMC8266441. \\n[15] Abid Ishaq, Saima Sadiq, Muhammad Umer, Saleem Ullah, Seyedali Mirjalili, Vaibhav Rupapara, \\nand Michele Nappi, Improving the Prediction of Heart Failure Patients’ Survival Using SMOTE \\nand Effective Data Mining Techniques, IEEE Access, VOLUME 9, 2021, Pages 39707 -39716. \\n[16] Bhalla R, Amandeep. A comparative analysis of application of proposed and the existing \\nmethodologies on a mobile phone survey. In Futurist ic Trends in Networks and Computing \\nTechnologies: Second International Conference, FTNCT 2019, Chandigarh, India, November 22–\\n23, 2019, Revised Selected Papers 2 2020 (pp. 107-115). Springer Singapore. \\n[17] Abdel-Basset, M., Gamal, A., Manogaran, G., Son, L. H. , & Long, H. V. (2019).  A novel group \\ndecision-making model based on neutrosophic sets for heart disease diagnosis. Multimedia Tools \\nand Applications. doi:10.1007/s11042-019-07742-7. \\n[18] Bhalla R, Sharma A, Gupta J. An Ensemble -based Machine Learning Model for  Accurate \\nPredictions using Multiple Categorical Datasets. In2022 Second International Conference on \\nInterdisciplinary Cyber Physical Systems (ICPS) 2022 May 9 (pp. 1-4). IEEE. \\n[19] R. Bhalla, A. Sharma, and G. Ganesan, “A Bibliographic Survey of Sentiment Classification using \\nHybrid Ensemble-based Machine Learning Approaches,” in ceur workshop proceedings, 2022, \\nvol. 3146, pp. 33–38, [Online]. Available: https://ceur-ws.org/Vol-3146/PAPER_04.pdf. \\n[20] Sivagowry, S.; Durairaj, M.; Persia, A. (2013) . - An empirical study on applying data mining \\ntechniques for the analysis and prediction of heart disease., [IEEE 2013 International Conference',\n",
       " 'ur workshop proceedings, 2022, \\nvol. 3146, pp. 33–38, [Online]. Available: https://ceur-ws.org/Vol-3146/PAPER_04.pdf. \\n[20] Sivagowry, S.; Durairaj, M.; Persia, A. (2013) . - An empirical study on applying data mining \\ntechniques for the analysis and prediction of heart disease., [IEEE 2013 International Conference \\non Information Communication and Embed ded Systems (ICICES 2013) - \\ndoi:10.1109/ICICES.2013.6508204.  \\n \\nView publication stats']"
      ]
     },
     "execution_count": 40,
     "metadata": {},
     "output_type": "execute_result"
    }
   ],
   "source": [
    "chunk_question_gen"
   ]
  },
  {
   "cell_type": "code",
   "execution_count": 41,
   "metadata": {},
   "outputs": [
    {
     "data": {
      "text/plain": [
       "10"
      ]
     },
     "execution_count": 41,
     "metadata": {},
     "output_type": "execute_result"
    }
   ],
   "source": [
    "len(chunk_question_gen)"
   ]
  },
  {
   "cell_type": "code",
   "execution_count": 42,
   "metadata": {},
   "outputs": [
    {
     "data": {
      "text/plain": [
       "str"
      ]
     },
     "execution_count": 42,
     "metadata": {},
     "output_type": "execute_result"
    }
   ],
   "source": [
    "type(chunk_question_gen[0])"
   ]
  },
  {
   "cell_type": "code",
   "execution_count": 43,
   "metadata": {},
   "outputs": [
    {
     "data": {
      "text/plain": [
       "list"
      ]
     },
     "execution_count": 43,
     "metadata": {},
     "output_type": "execute_result"
    }
   ],
   "source": [
    "type(chunk_question_gen)"
   ]
  },
  {
   "cell_type": "markdown",
   "metadata": {},
   "source": [
    "Need to convert the above list to documents"
   ]
  },
  {
   "cell_type": "code",
   "execution_count": 44,
   "metadata": {},
   "outputs": [],
   "source": [
    "from langchain.docstore.document import Document"
   ]
  },
  {
   "cell_type": "code",
   "execution_count": 45,
   "metadata": {},
   "outputs": [],
   "source": [
    "doc_ques_gen = [Document(page_content=t) for t in chunk_question_gen]"
   ]
  },
  {
   "cell_type": "code",
   "execution_count": 30,
   "metadata": {},
   "outputs": [
    {
     "data": {
      "text/plain": [
       "[Document(metadata={}, page_content=\"See discussions, stats, and author profiles for this publication at: https://www.researchgate.net/publication/381309747\\nHeart Disease Prediction using Machine Learning Method -A Review Article\\nArticle · June 2024\\nCITATIONS\\n0\\nREADS\\n325\\n2 authors, including:\\nRajni Bhalla\\nLovely Professional University\\n28 PUBLICATIONS\\xa0\\xa0\\xa0111 CITATIONS\\xa0\\xa0\\xa0\\nSEE PROFILE\\nAll content following this page was uploaded by Rajni Bhalla on 11 June 2024.\\nThe user has requested enhancement of the downloaded file.72 \\n \\nHeart Disease Prediction using Machine Learning Method – A \\nReview Article \\n \\nSreekumari S 1, Rajni Bhalla 1 and Geetha Ganesan 2 \\n \\n1 Lovely Professional University, Phagwara, Punjab, India \\n2 Jain (Deemed-to-be) University, Bengaluru, India \\n \\n \\nAbstract \\nThis abstract focuses on the significance of heart disease as the leading cause of disability in \\nthe human body, primarily stemming from the reduction or blockage of coronary arteries. \\nCoronary Artery Disease (CAD) emerges as the most prevalent form of heart di sease, often \\nremaining asymptomatic until symptoms of a heart attack or heart failure arise. This paper aims \\nto explore various machine learning techniques utilized in heart disease prediction, supporting \\nthe medical field in expedient diagnosis. The availability of vast amounts of patient information \\nonline presents an opportunity for effective utilization. Accurate diagnosis of heart disease is \\nof utmost importance, as incorrect predictions can have severe consequences on individuals' \\nlives. Numerous regr ession and classification Machine Learning Algorithms are available, \\nincluding K Nearest Neighbor Algorithm (KNN), Support Vector Machine (SVM), Neural \\nNetwork, Logistic Regression (LR), Decision Tree (DT), and Random Forest (RF) \\nClassification. Previous research indicates that SVM and Random Forest methods often exhibit \\nhigher levels of accuracy compared to other approaches. This paper provides a comprehensive \\ndiscussion of commonly employed machine learning algorithms in the field of heart disease \\nprediction. \\n \\nKeywords  1 \\nCoronary Artery Disease, Early Prediction, Regression and Classification, Machine Learning. \\n1. Introduction \\nCongestive heart failure is the main root of dysfunction in anatomy.  It is affected by the \\nreduction/blockage of coronary arteries. Coronary Artery Disease (CAD) is the most common  type of \\nCongestive heart failure. Common signs of Heart attack are Chest pain, body discomfort, and breath \\nshortness. Common symptoms of Arrhythmia are fluttering feelings in the chest or in common we can \\nquote it as “Palpitation.” Whereas common symptom of Heart failure is Breath shortness, Fatigue, or \\nswelling on the Leg, feet, ankles, neck veins, or even in the abdomen. Other than these there are other \\nmedical conditions and life cycles that can make people at high risk for heart disease like, Diabetes, \\nObesity, an Unbalanced diet, Physical incapacity or inactivity, and excessive usage of alcohol. \\n \\nThe current method of using an angiogram to identify heart disea ses has few risks to be overruled. \\nThey include allergic reactions to the dye used to see the coronary arteries, bleeding at the site  where \\nthe catheter is placed, and the usage of dye can even cause damage to the kidney. So, we recommend \\nthe usage of non-invasive methods. Predicting heart disease is extremely critical. Because one error in \\nprediction can lead to the death of the person. If a patient has diseases such as kidney failure or diabetes, \\nthen they must experience a higher risk after an angiogram. Some of such risks are: \\n \\n• May be allergic to anesthesia and contrast dye. \\n \\nCVMLH 2023: Workshop on Computer Vision and Machine Learning for Healthcare, May 20 – 21, 2023, Chennai, India. \\nEMAIL: sreekumari.sreelesh@gmail.com (Sreekumari S) \\nORCID: 0000-0002-0207-4738 (Sreekumari S) \\n \\n©️  2023 Copyright for this paper by its authors. \\nUse permitted under Creative Commons License Attribution 4.0 International (CC BY 4.0).  \\n \\nCEUR Workshop Proceedings (CEUR-WS.org) \\n \\nCEUR\\nWorkshop\\nProceedings\\nceur-ws.org\\nISSN 1613-007373 \\n \\n• Bleeding at the insertion point of the catheter. \\n• Blood clots or injury to an artery or vein. \\n \\nThese kinds of people must take contrast medicine before 24 hours to check whether they are allergic \\nor not. All human beings do not possess higher pain tolerance. Those who are having low pain tolerance \\ncannot undergo an angiogram because of the high\"),\n",
       " Document(metadata={}, page_content=' \\n \\nCEUR\\nWorkshop\\nProceedings\\nceur-ws.org\\nISSN 1613-007373 \\n \\n• Bleeding at the insertion point of the catheter. \\n• Blood clots or injury to an artery or vein. \\n \\nThese kinds of people must take contrast medicine before 24 hours to check whether they are allergic \\nor not. All human beings do not possess higher pain tolerance. Those who are having low pain tolerance \\ncannot undergo an angiogram because of the high-risk factors. In such cases, we must use non-invasive \\nmethods to predict heart diseases. Heart diseases are of diverse types. They are: \\n \\n• Coronary Artery disease (CAD) \\n• Heart Arrhythmias \\n• Heart failure \\n• Heart valve disease \\n• Stroke etc. \\n \\nTo predict heart disease with the best accuracy prediction algorithm should be the  right one . \\nOtherwise, the prediction will go wrong which leads to the death of a person. Here, we have summarized \\nrecent activities in which we can find distinct predictive analytics. \\n \\nSince heart disease datasets are easily available online, data collection becomes remarkably simple. \\nThere is a lack of knowledge of data. That will be achieved after processing the data. This  should be \\nperformed by collecting the proper data after avoiding inappropriate data.  Then find out the missing \\ndata and remove all the duplicates. This step is called data preprocessing. After this split the dataset into \\ntwo such as the training set and testing set. Then apply different classification and regression algorithms \\nto predict whether a person has a chance of any heart  disease. From the accuracy, choose the best \\npredictive method. Fig-1 depicts the predictive method. \\n \\n \\nFigure 1: Predictive Model \\n2. Supervised Machine Learning Algorithms \\nIn supervised machine learning, training data is provided to the machine which works as a supervisor \\nthat teaches the machines to predict the output accurately. In this method, labeled  data is provided to \\ntrain the model and the model learns about distinct types of data. After the training process, the model \\nis evaluated based on test data which is a subset of the training set and then it starts predicting the output. \\nSupervised learning can again be divided into two. They are Regression and Classification. (Fig-2). The \\nfollowing are different machine learning   algorithms. \\n \\n74 \\n \\n. \\nFigure 2: Categories of Supervised Learning \\n2.1. Logistic Regression \\nIt is one of the most significant machine learning algorithms because it can provide probabilities and \\nclassify new data by using discrete and continuous datasets. The first step is to extract the dependent \\nand independent variables. Then splitting of the dataset and feature scaling is performed. The outcome \\nmust be of a categorical or discrete value. \\n2.2. K- nearest neighbor algorithm \\nThis supervised learning algorithm stores all the given data and based on the similarity it classifies \\na new data point. It is also known as the “Lazy- Learner Algorithm.” Because it acts on the dataset \\nduring classification instead of learning from the training dataset. It can be used for both Regression \\nand Classification. But typically used for Classification problems. It will be more effective if the training \\ndata is large. \\n2.3. Support Vector Machine \\nThis is a well-liked supervised learning algorithm. In this plot, each data is a point in n- dimension \\nspace with each value of feature being a particular  coordinate value. Then classification is performed \\nafter finding the hyper-plane which is also known as the best decision boundary. \\n2.4. Artificial Neural Network \\nIt is a special type of machine-learning algorithm that is used  to model the human brain. ANN is \\ncapable of learning from the data, and it provides results as classification or prediction such as neurons \\nin our nervous system  learning from past data. ANNs are non -linear statistical models that show \\ncomplex relationships between inputs and outputs. The three important layers are the input layer, hidden \\nlayers, and output layer. The hidden layer may be single or multiple. In this model, different parameters \\naffect the performance of the model. The output is dependent on this data. The input layer communicates \\nwith the hidden layer and the activated neurons will continue passing until it reaches the output layer. \\n2.5. Decision Trees \\nIt is a type of supervised machine learning algorithm, in which the data set is always split based on \\na defined constraint. Decision nodes and leaves are the two results that can be derived from the decision \\ntree. \\n75 \\n \\n2.6. Random Forest Classification (RFC):  \\nRFC is based on the concept of combo learning, which means a process of solving a complex \\nproblem to an improved and more accurate level of performance of the model by combining the \\nmultiple classifiers. \\n \\nSince this rev iew paper is about machine learning techniques, we have gone through different \\nmachine learning algorithms.'),\n",
       " Document(metadata={}, page_content=' on \\na defined constraint. Decision nodes and leaves are the two results that can be derived from the decision \\ntree. \\n75 \\n \\n2.6. Random Forest Classification (RFC):  \\nRFC is based on the concept of combo learning, which means a process of solving a complex \\nproblem to an improved and more accurate level of performance of the model by combining the \\nmultiple classifiers. \\n \\nSince this rev iew paper is about machine learning techniques, we have gone through different \\nmachine learning algorithms. There are ample methods used in heart disease prediction  other than \\nmachine learning. They are deep learning, Data mining, IoT tools, etc. \\n3. Literature Review \\n \\nE. K. Oikonomou et al.  [1], they have given a clear idea about Artificial intelligence,  Machine \\nlearning, big data, and different prediction methods like supervised and unsupervised  methods. CT \\n(Cardiac Computed Tomography) imaging is the best way to predict  Cardio Artery Disease (CAD), \\nwhich will mitigate the complexity of doctors to predict CAD by using images, and it will be helpful \\nfor the patients to identify the disease faster.  Predictions are performed using Regression analysis and \\nClassification methods. Regression analysis is performed on the image using  a deep neural network \\n(DNN) algorithm or Support vector machines or decision trees. They have given a good explanation of \\nRadiomics. For image processing, detection, and segmentation they have used CCTA (Coronary CT \\nAngiography) scans and Machine Learning (ML) Algorithms. They stated that it can predict many risks \\nwhich are not possible with humans. They concluded by explaining the limitations and stating that this \\nwork has offered a lot to the patients as well as doctors. \\n \\nLi Bin et al. [2] tried to establish a disease pre-alert model within the 3 Year gap for hypertension \\npatients. To achieve public data analysis through AI technologies  they have used spark data analysis \\nfor hypertension patients. Using data mining, unbalanced data is converted to usable form using the Z-\\nscore standard. Stroke, Heart failure, and Renal Failure symptoms viz. 3 group predictions ascertain the \\npre-alert risk warning using a data mining algorithm. AI technologies used in this model are Logistic \\nRegression ( LR), Support  Vector Machine (SVM), and Naive Bayes Algorithm ( NB). For feature \\nselection, they have used the Chi-Square test. In this, they have used three types of datasets. They are \\nStroke, Heart failure, and Renal Failure. But they perform classification on two datasets viz. Stroke and \\nHeart failure. The algorithms used were Naïve Bayes, SVM , and Logistic regression. The stroke data \\nset shows an accuracy of more than .75, while classification results on the heart failure dataset show an \\naccuracy of more than .85. Logistic regression is superior to Naïve Bayes and SVM. They have shown \\nthe Receiver Operating Characteristic curve as well (ROC). They have used SVM -RFE for feature \\nselection, which is not suitable for choosing the most suitable feature subset. For getting better results \\nneed to use a different algorithm for comparing and analyzing in the next research because SVM-RFE \\ncannot evaluate various feature selection algorithms. \\n \\nS Manish et al. [3] they have given a brief description of the technologies used for the study. They \\nhave stated that this is the first paper that uses Optimally Time-Frequency Concentrated (OTFC) even-\\nlength biorthogonal wavelet filter bank (BWFB) for automatically detecting CAD. The Fuzzy Entropy \\n(FE) and log Energy (LogE) features were extracted from various subbands of the filter. They used Raw \\nECG data from twenty males and twenty females and CAD ECG from Six females and one male. Then \\nsignals were classified using Gaussian Support Machine Classifier (GSVM). They have stated that this \\nstudy shows high accuracy compared with other methods and while others are using thirty features for \\nclassification, they use only twelve features. \\n \\nA Moloud et al.  [4] proposed a data mining method for CAD analysis.  Data manipulation and \\nnormalization were performed first. Then they selected features using GA and PSO algorithms. 10-fold \\ncross-validation was performed on subsets. For classification purposes in the prelims test, they used ten 76 \\n \\nalgorithms. Among them, the best three SVM classifiers were selected for the final. They are nu-SVC, \\nnu-SVM, and Linear SVM. To optimize data, they used two optimization methods. Then they generated \\na confusion matrix for evaluating results. They have selected fitness functions. It has shown an accuracy \\nof 93.08% based on the confusion matrix. They concluded by saying that instead of normalization other \\npreprocessing approaches should be used in the future. \\n \\nR Silvia et al'),\n",
       " Document(metadata={}, page_content=' Among them, the best three SVM classifiers were selected for the final. They are nu-SVC, \\nnu-SVM, and Linear SVM. To optimize data, they used two optimization methods. Then they generated \\na confusion matrix for evaluating results. They have selected fitness functions. It has shown an accuracy \\nof 93.08% based on the confusion matrix. They concluded by saying that instead of normalization other \\npreprocessing approaches should be used in the future. \\n \\nR Silvia et al. [5] The objective of this review article is to describe the contemporary state of artificial \\nintelligence in clinical practice. In this paper, they have explained very well about Artificial Intelligence \\nand different subfields of Artificial intelligence like Machine learning, and deep learning and their \\nsubfields. They have given proper descriptions of new emerging  communication and information \\ntechnologies like Mobile health and IOT. These are subfields  of E-health. And explained applications \\nin cardiovascular imaging as well. Echocardiography, Magnetic resonance Imaging, Cardiac computed \\ntomography, and Electrocardiography are different applications in Cardiovascular Imaging. \\n \\nJohnson et al. [6] have done a study about how AI and ML relate to statistics and why cardiology \\nneeds AI. They have explained in detail how to choose the best algorithm for feature selection. Through \\nthis paper , we can easily understand  different supervised Machine Learning algorithms used in \\nCardiovascular disease prediction like Logistic Regression, Regularized Regression, Tree-Based \\nmethods, Bootstrap, and Support Vector Machine. For explaining these they have given proper \\nexamples. In Unsupervised Machine learning, they have given a brief description of Neural networks \\nand Deep Learning methods. The two most common forms of DL are CNN and RNN and explained the \\nmajor disadvantage of deep learning. They have concluded by stating to use this study as a decision tool \\nfor medical practitioners. \\n \\nAcharya et al. [7] explained invasive and non-invasive techniques used in CAD detection. They have \\nused Gaussian Mixture Model (GMM) Classifier for this purpose. Non-linear parameters are extracted \\nfrom echocardiography images. They have taken four hundred normal images of thirty normal subjects \\nand Four hundred CAD images of  thirty affected subjects. They have noticed the ischemic changes. \\nTwelve lead electrocardiogram images were checked for wall motion abnormality. The training set and \\ntest set are there. An expert physician can mark the image collected as belonging to a normal or CAD-\\naffected person. Then different classifiers are used to extract the features. A total of 559 features are \\nextracted from each  image. T -test was used for statisti cal analysis. If p<.01 or.05, the feature is \\nmeasured as very perceptive. A three-fold stratified cross-validation technique is used for developing \\nand testing the classifiers. In this , they have used six classifiers. They are DT, FS, GMM, RBPNN, \\nKNN, and NBC. Then the heart index is calculated which is a combination of nine distinctive features. \\nThe heat index for normal is 2.52± 0.07 and for CAD 2.86± 0.11.  They have stated that this can be \\ntransformed into software, can be implemented on any device,  and concluded that this shows  100% \\naccuracy. \\n \\nS E Golovenkin et al. [8] tried to improve prediction by using the voting method of three competing \\nsystems and by eliminating sparse data columns. In this study,  the prediction was performed using \\nMatlab2016 System, the Neural Network Toolbox module. In Artificial Neural Network, there was one \\ninput layer and two hidden layers. All layers are interconnected, and the output layer predicts the results. \\nThe voting method is used in this. The “Sliding- Window” method was used to increase the efficiency \\nof the learning process. Standard indicators  are Accuracy, Sensitivity , and specificity. They ha ve \\neliminated sparse set input data columns.  They have also stated that the use of 3 Neural Networks \\nincreases accuracy by 1.2%. \\n \\nBabaoglu et al.  [9] used Principle Component Analysis (PCA) which is a   method of identifying \\npatterns in data  and expressing them by highlighting differences and  similarities. They have taken a \\ndataset of 480 patients after excluding patients with some problems. They have used a Support Vector \\nMachine for classification and regression tasks.  The assessments are implem ented in Matlab 7.0 \\napplication using the LIBSVM package. The SVM method for twenty-three features shows less \\naccuracy. So, using the PCA method, features were reduced to eighteen. Then it shows an accuracy of \\n79.17%. They have concluded by stating that, P CA reduced dataset'),\n",
       " Document(metadata={}, page_content=' taken a \\ndataset of 480 patients after excluding patients with some problems. They have used a Support Vector \\nMachine for classification and regression tasks.  The assessments are implem ented in Matlab 7.0 \\napplication using the LIBSVM package. The SVM method for twenty-three features shows less \\naccuracy. So, using the PCA method, features were reduced to eighteen. Then it shows an accuracy of \\n79.17%. They have concluded by stating that, P CA reduced dataset using the SVM method increases 77 \\n \\nthe diagnostic accuracy rate, decreases the sum  of the training and test time , and training error in the \\nassessment of EST (Exercise Stress test) in the determination of CAD with SVM method. \\n \\nZong Chen et al. [10] tried to provide the recent adaptive image -based classification techniques. \\nThey have explained diverse types of heart diseases. They have compared the prediction methods used \\nin different studies. The first step is image registration which can be performed on a raw image database \\nand de-noising processing should be done. The feature is extracted from the image. They have used two \\ndifferent training models. They are Naive - Bayes Classification and SVM. They have concluded by \\nstating that SVM is more accurate than Naïve Bayes Classification. The database needs to be updated \\nwith more descriptions of patients. \\n \\nM M Ali et al. [11] used the Kaggle dataset. They have done a comparison study and developed their \\nexperimental model. They have applied six classification algorithms to compare the accuracy of the \\nbest performer and statistical variables by using a ten-fold cross-validation method. The six classifiers \\nwere KNN, Random Forest, Decision Tree, AdaboostM1(ABM1), Logistic Regression, and Multilayer \\nPerception (MLP). They have  listed the five most crucial features based on feature importance and \\ncorrelation value. In this study compared to other classifiers RF shows 100% accuracy. KNN and MLP \\nfailed to generate feature importance scores or coefficient values. But this method has one limitation,  \\nthis data model is not enough to address all the issues. \\n \\nYazdani A et al.  [12] used WARM (Weighted Associative Rule Mining) to predict  heart disease. \\nThey have compared the efficiency of earlier models that used the WARM method to predict heart \\ndisease. In this model , weights are assigned to identify the  best features mined. Feature values are \\nevaluated. For Eg: Feature values for sex are Male and Female. After that calculate the total weight for \\nthe feature. Then applied WARM using the Apriori algorithm. Of thirteen features, eight significant \\nfeatures were identified. Finally, the confidence score is generated. This model shows a 98% confidence \\nscore which is better than the earlier studies. \\n \\nSumit S et al. [ 13] proposed this study to create a deep learning neural network  heart disease \\nprediction model by using a new optimization technique called Talos Hyperparameter. They have used \\nUCI Heart Disease Dataset. They applied different learning algorithms like Logistic regression, KNN, \\nSVM, Naïve Bayes, and Hyperparameter optimization (Talos). Talos follows POD (Prepare, Optimize, \\nand Deploy) process workflow. Reporting and evaluation are the last process after POD. Talos method \\nshows an accuracy of 90.78% which is better compared to other learning methods. \\n     \\nBharati R et al. [14] conducted this study to compare the performance of both Machine learning as \\nwell as deep learning methods. They have considered a public dataset. In this , they compared both \\nmachine learning as well as deep learning methods.  In pre-processing the data, checked the distribution \\nof data, skewness of data, stats of normal distribution data, feature selection , and checking for \\nduplicates. after that proposed machine learning classifiers as well as deep learning classifiers. Then \\nthey evaluated the process and concluded by stating that dataset size need s to be increased and more \\noptimization and normalization techniques need to be used. \\n \\nIshaq A et al. [15] conducted this study for comparing different machine learning techniques to select \\nthe most suitable method for heart disease survival prediction. The dataset used was UCI Repository. \\nThen applied RF to employ feature ranking. Classified the data into training and testing sets. They \\napplied one oversampling method called SMOTE (Synthetic Minority Oversampling Technique) to deal \\nwith imbalanced data in medicine. Performance evaluation matrices were Accuracy, Precision, Recall, \\nand F-Score.  Among 9 classifiers, they got more accuracy for RF, and it was .8889. With SMOTE, it \\nshows 10% more accuracy. Extra Tree Classifier (ETC) shows an accuracy of .9262.  Here'),\n",
       " Document(metadata={}, page_content=' training and testing sets. They \\napplied one oversampling method called SMOTE (Synthetic Minority Oversampling Technique) to deal \\nwith imbalanced data in medicine. Performance evaluation matrices were Accuracy, Precision, Recall, \\nand F-Score.  Among 9 classifiers, they got more accuracy for RF, and it was .8889. With SMOTE, it \\nshows 10% more accuracy. Extra Tree Classifier (ETC) shows an accuracy of .9262.  Here RF produces \\nConstant approximation, ETC produces multi-linear approximation. \\n \\nRajni Bhalla et al. [16] presents a detailed examination of the effectiveness and performance of both \\nproposed and existing methodologies for classification task. The study aims to compare and evaluate \\nthe advantages and limitations of different methodologies for collectin g and analyzing data for 78 \\n \\nstructured data. By conducting a comparative analysis, the paper provides valuable insights for \\nresearchers and practitioners seeking to optimize their methodologies for classification tasks and for \\ndata that is in a structured format. \\n \\nAbdel-Basset M et al. [17] proposed this study to develop an IoT model to detect and monitor heart \\nfailure-infected patients. Achieved from various wearable sensors. They used WBAN or medical sensor \\nnodes. The data extracted from WBAN convey are sent to the mobile application through Bluetooth or \\nZigBee and stored in the cloud server to store, process , and broadcast data. Then N- MCDM model is \\nused to determine the percentage of heart failure disease. If the patient has severe heart failure, then an \\nambulance will be sent to the patient and treatments will be started. This will provide the ratio of heart \\nfailure so that the clinicians can easily decide the type of treatment.  \\n \\nRajni Bhalla et al. [18] presents a novel ensemble -based machine learning mo del that combines \\nmultiple categorical datasets to enhance prediction accuracy. The proposed approach consists of three \\nmain components: dataset alignment, model training, and prediction aggregation. The dataset alignment \\nphase focuses on mapping categoric al variables across different datasets, ensuring consistency and \\ncompatibility. \\n \\nRajni Bhalla et al. [19] concludes by identifying the current research trends and challenges in \\nsentiment classification using hybrid ensemble -based approaches. It highlights the need for further \\ninvestigation into the combination of diverse classifiers and the integration of deep learning techniques \\nin ensemble frameworks.  The hybrid ensemble approach can be applied to classification dataset like \\nheart disease detection to achieve better accuracy. \\n \\nSivagowry S et al. [20] created a review of the application of data mining in heart disease prediction. \\nIn this, they have compared different data mining algorithms and concluded like heart disease prediction \\nwith data mining will become most successful with a smaller number of attributes, and text mining the \\nmedical data needs to be extended in predicting the health care data. \\n4. Methodology  \\n \\nFigure 3: Methodology \\n79 \\n \\nData collection is the first step. Data can be collected in two ways such as Online data and real-time \\ndata. Then we have to remove noise, missing values, useless values and all. This step is called data \\npreprocessing. Most of the online datasets are already preprocessed. So, we can directly use it without \\npreprocessing. But for real -time data, preprocessing can be done in different ways such as by using \\nmachine learning, deep learning or data mining methods. After this step we will get the data in usable \\nformat. Now, need to split the dataset into Training and Testing set. We can split the dataset in such a \\nway that 70% for training the model and 30% for testing. First train the model with train set. Then select \\nthe most significant feature for improving the prediction accuracy. Now, give test set to the model. It \\nwill predict accordingly. There are different evaluation metrics for checking the efficiency of the model \\nsuch as Precision, Recall, F1-score, confusion matrix and ROC curves etc. (Fig-3 depicts the same). \\n5. Results \\nThere are different regression and classification algorithms used to predict heart disease.  Different \\nmethods are used in different papers, and they have shown the accuracy that they obtained while using \\ndifferent methods. Table 1 shows the comparison of different works. In most of the papers, the different \\nalgorithms used are Naive Bayes, Logistic Regression, ANN, SVM, DT, RF, etc. Among them, ANN \\nand RF show more accuracy. \\n \\nTable 1: Comparison of previous works \\nReference Methodology Dataset Accuracy \\n[1] Support Vector Machine 42 CCTA Sensitivity- 93% \\nSpecificity-95% \\n[2] Naive Bayes SVM (Linear) \\nLogistic Regression \\nStroke Dataset 5257 Heart \\nfailure Dataset 714 \\nOn Stroke Dataset'),\n",
       " Document(metadata={}, page_content=' are Naive Bayes, Logistic Regression, ANN, SVM, DT, RF, etc. Among them, ANN \\nand RF show more accuracy. \\n \\nTable 1: Comparison of previous works \\nReference Methodology Dataset Accuracy \\n[1] Support Vector Machine 42 CCTA Sensitivity- 93% \\nSpecificity-95% \\n[2] Naive Bayes SVM (Linear) \\nLogistic Regression \\nStroke Dataset 5257 Heart \\nfailure Dataset 714 \\nOn Stroke Dataset Naive \\nBayes- 0.7662(Accuracy) \\nSVM (Linear)-0.7827 \\nLogistic Regression- \\n0.7820 \\nOn Heart Failure Dataset \\nNaive Bayes- 0.8571 \\nSVM(Linear)-0.8595 \\nLogistic Regression- \\n0.8529 \\n[3] Signals were segmented into \\ntwo seconds (Set A) and five \\nseconds (Set B) duration. \\nThen applied GSVM. \\n1. Signals used are \\ni) Normal ECG database. \\nii) CAD ECG signals. \\nRaw ECG data from twenty \\nmales and twenty females and \\nCAD ECG from  6 females and \\none male. \\nGSVM -99.53% \\n[4] Cross-validation – stratified \\n10-fold. \\nMachine learning- KNN, \\nreglog, GaussNB, LDA, QDA, \\nRandomForest, MLP, SVM (3 \\ntypes, including C -SVC, nu-\\nSVC, and Linear SVM. \\n \\n303 patients annotated with \\nfifty-four factors. (CAD and \\nNormal, with 216 CAD and 87 \\nNormal (non-CAD) patients). \\nnuSVM method with GA  \\nand ACC fitness function  \\ntesting set shows an \\naccuracy of 93.08% \\n[7] Heart Index 400 normal images of 30 \\nsubjects and 400 CAD images \\nThe heart index for normal \\nis 2.52± 0.07 and for CAD. 80 \\n \\nof 30 affected subjects using \\nthe Vivid 7 Dimension \\nmodality for GE Health care. \\nThe normal group \\nage range was 20- 45, and the \\nCAD group age range was 35-\\n65.  \\n2.86± 0.11 \\n[8] Voting method \\nEliminated the sparse set \\ninput data columns. \\n1700 patients with \\nMyocardial Infarction. There \\nwere 1065 (62.6%) Men and \\n635(37.4%) \\nWomen. \\nNeural network -95% \\naccuracy for 3 out of 12 \\ndiagnoses with up to 98% \\nspecificity. \\n[11] Supervised machine \\nlearning algorithms \\n1) KNN \\n2) Random Forest \\n3) Decision Tree \\n4) Adaboost M1  \\n5)  Logistic Regression \\n6) Multilayer Perception  \\nKaggle Dataset Random Forest -100% \\naccuracy. \\n[12] Applied WARM  \\n Apriori Algorithm \\n \\nCleveland dataset from UCI \\nMachine Learning \\nRepository. \\nConfidence Score-98% \\n[13] Learning Algorithms \\n     a. Logistic Regression \\n     b. KNN \\n     c. SVM \\n     d. Naïve Bayes \\n     e. Hyper-parameter optimization \\n(Talos) \\n     f. Random Forest Classifier \\nUCI Heart Disease Dataset. \\n \\nTalos-90.78%  \\n[14]  Machine learning classifiers \\n Deep learning pseudocode \\nPublic health dataset. \\n4 Databases \\n1. Cleveland \\n2. Hungary \\n3. Switzerland and  \\n4. Long Beach V \\n \\nMachine learning \\nK neighbors – 84.8%   \\nDeep Learning \\n94.2% \\n[15] 9 Classifiers \\nSynthetic Minority Over Sampling \\ntechnique (SMOTE) \\n \\nUCI RF-.8889 \\nExtra Tree Classifier with \\nSMOTE- .9262 \\n \\n[17] IoT model \\nWBAN sensors \\nN-MCDM model \\nWearable sensors Returns Heart failure \\nratio. \\n6. Conclusion and Future Work \\nIn conclusion, the diagnosis of heart disease remains a paramount concern within our medical \\nsociety. Manual predictions, though rare, can still yield incorrect results due to the need for precise \\nimage assessment. Non -invasive methods provide an alternati ve for individuals concerned about 81 \\n \\ntraditional diagnostic approaches, enabling them to take proactive preventive measures. This study \\nhighlights various approaches such as machine learning, deep learning, data mining, and IoT tools for \\npredicting heart dis ease. However, the accuracy of these methods poses challenges, given the high \\nstakes involved in predicting human life. Even models achieving 100% accuracy during testing may \\nencounter failures when applied to real -time data. In this software -'),\n",
       " Document(metadata={}, page_content=' provide an alternati ve for individuals concerned about 81 \\n \\ntraditional diagnostic approaches, enabling them to take proactive preventive measures. This study \\nhighlights various approaches such as machine learning, deep learning, data mining, and IoT tools for \\npredicting heart dis ease. However, the accuracy of these methods poses challenges, given the high \\nstakes involved in predicting human life. Even models achieving 100% accuracy during testing may \\nencounter failures when applied to real -time data. In this software -driven era, it is crucial to develop \\nrobust and cost -effective solutions that deliver more accurate results. Further comprehensive studies \\nshould be conducted to advance our understanding and achieve better outcomes in this field. \\n7. References \\n[1] Oikonomou E K, Siddique M &  Antoniades C, Artificial Intelligence in Medical Imaging: a \\nradiomic guide to precision phenotyping of Cardiovascular disease, Cardiovascular Research, \\n116(13), 2040-2054. https:// doi:10.1093/cvr/cvaa021. \\n[2] Li, B, Ding S, Song G, Li J, Zhang Q. 2019. Compu ter-Aided Diagnosis and Clinical Trials of \\nCardiovascular Diseases Based on Artificial Intelligence Technologies for Risk -Early Warning \\nModel. J Med Syst 43, 228. https://doi.org/10.1007/s10916-019- 1346-x. \\n[3] Manish Sharma, U. Rajendra Acharya, 2019. A New Method to Identify Coronary Artery Disease \\nwith ECG Signals and Time-Frequency Concentrated Antisymmetric Biorthogonal Wavelet Filter \\nBank, Pattern Recognition Letters. S0167 -8655(19)30121- 7. \\nhttps://doi.org/10.1016/j.patrec.2019.04.014. \\n[4] Abdar M, Ksiazek W , Rajendra Acharya U, Tan R S, Makarenkov V, Plaviak P. 2019.A New \\nMachine Learning Technique for an Accurate Diagnosis of Coronary Artery Disease, Computer \\nMethods, and Programs in Biomedicine. S0169 -2607(18)31458-5. \\nhttps://doi.org/10.1016/j.cmpb.2019.104992. \\n[5] Romiti S, Vinciguerra M, Saade W et al.,2020. \"Artificial Intelligence (AI) and Cardiovascular \\nDiseases: An Unexpected Alliance\", Cardiology Research and Practice, vol. 2020, Article ID \\n4972346, 8 pages. https://doi.org/10.1155/2020/4972346 \\n[6] Johnson, K. W., Torres Soto, J., Glicksberg, B. S., Shameer, K., Miotto, R., Ali, M., ... & Dudley, \\nJ. T. (2018). Artificial intelligence in cardiology. Journal of the American College of \\nCardiology, 71(23), 2668-2679. https://www.jacc.org/doi/abs/10.1016/j.jacc.2018.03.521. \\n[7] Acharya U R, Sree S V, Krishnan M M R, Krishnananda N, Ranjan S, Umesh P & Suri J S, (2013). \\nAutomated classification of patients with coronary artery disease using grayscale features from left \\nventricle echocardiographic images, Computer Methods and Programs in Biomedicine,  Volume \\n112, Issue 3,2013, Pages 624-632. https://doi.org/10.1016/j.cmpb.2013.07.012. \\n[8] Golovenkin S E, Dorrer M G, Nikulina S Y, Orlova Y V, & Pelipeckaya E Y, (2020), Evaluation \\nof the effectiveness of using artificial intelligence to predict the response of the human body to \\ncardiovascular diseases. Journal of Physics: Conference Series, Vo lume 1679. No. 4, \\nhttps://iopscience.iop.org/article/10.1088/1742- 6596/1679/4/042017/meta. \\n[9] Babaoglu I, Findik O & Bayrak M, (2010). Effects of principle component analysis on assessment \\nof coronary artery diseases using support vector machine, Expert Syst ems with Applications, \\nVolume 37, Issue 3, 2010, Pages 2182-2185. https://doi.org/10.1016/j.eswa.2009.07.055. \\n'),\n",
       " Document(metadata={}, page_content='6/1679/4/042017/meta. \\n[9] Babaoglu I, Findik O & Bayrak M, (2010). Effects of principle component analysis on assessment \\nof coronary artery diseases using support vector machine, Expert Syst ems with Applications, \\nVolume 37, Issue 3, 2010, Pages 2182-2185. https://doi.org/10.1016/j.eswa.2009.07.055. \\n[10] Chen J I Z, &  Hengjinda P. (2021). Early Prediction of Coronary Artery Disease ( CAD) by \\nMachine Learning Method- A Comparative Study, Journal of A rtificial Intelligence and Capsule \\nNetworks, Vol.03/ No.01, Pages: 17-33. https://doi.org/10.36548/jaicn.2021.1.002. \\n[11] M M Ali, B K Paul, Kawsar Ahmed, Francis M B, Julian M W, Q M A Moni, (2021), Heart disease \\nprediction using supervised machine learning al gorithms: Performance analysis and comparison, \\nComputers in Biology and Medicine, Volume 136, \\nhttps://doi.org/10.1016/j.compbiomed.2021.104672. \\n[12] Yazdani A, Varathan K D, Chiam Y K, Malik A W, & Wan Ahmad, W A (2021). A novel approach \\nfor heart disease prediction using strength scores  with significant predictors. BMC Medical \\nInformatics and Decision Making 21(1). https://doi.org/10.1186/s12911-021-01527-5. \\n[13] Sumit Sharma, Mahesh Parmar (2020), Heart Diseases Prediction using Deep Learning  \\nNeural Network Model, International Journal of Innovative Technology and Exploring \\nEngineering (IJITEE), Volume-9, Issue-3. https://doi.org/10.35940/ijitee.C9009.019320. 82 \\n \\n[14] Bharti R, Khamparia A, Shabaz M, Dhiman G, Pande S, Singh P. Prediction of Heart Disease \\nUsing a Combination of Machine Learning and Deep Learning. Comput Intell Neurosci. 2021 Jul \\n1; 2021:8387680. doi- 10.1155/2021/8387680. PMID: 34306056; PMCID: PMC8266441. \\n[15] Abid Ishaq, Saima Sadiq, Muhammad Umer, Saleem Ullah, Seyedali Mirjalili, Vaibhav Rupapara, \\nand Michele Nappi, Improving the Prediction of Heart Failure Patients’ Survival Using SMOTE \\nand Effective Data Mining Techniques, IEEE Access, VOLUME 9, 2021, Pages 39707 -39716. \\n[16] Bhalla R, Amandeep. A comparative analysis of application of proposed and the existing \\nmethodologies on a mobile phone survey. In Futurist ic Trends in Networks and Computing \\nTechnologies: Second International Conference, FTNCT 2019, Chandigarh, India, November 22–\\n23, 2019, Revised Selected Papers 2 2020 (pp. 107-115). Springer Singapore. \\n[17] Abdel-Basset, M., Gamal, A., Manogaran, G., Son, L. H. , & Long, H. V. (2019).  A novel group \\ndecision-making model based on neutrosophic sets for heart disease diagnosis. Multimedia Tools \\nand Applications. doi:10.1007/s11042-019-07742-7. \\n[18] Bhalla R, Sharma A, Gupta J. An Ensemble -based Machine Learning Model for  Accurate \\nPredictions using Multiple Categorical Datasets. In2022 Second International Conference on \\nInterdisciplinary Cyber Physical Systems (ICPS) 2022 May 9 (pp. 1-4). IEEE. \\n[19] R. Bhalla, A. Sharma, and G. Ganesan, “A Bibliographic Survey of Sentiment Classification using \\nHybrid Ensemble-based Machine Learning Approaches,” in ceur workshop proceedings, 2022, \\nvol. 3146, pp. 33–38, [Online]. Available: https://ceur-ws.org/Vol-3146/PAPER_04.pdf. \\n[20] Sivagowry, S.; Durairaj, M.; Persia, A. (2013) . - An empirical study on applying data mining \\ntechniques for the analysis and prediction of heart disease., [IEEE 2013 International Conference'),\n",
       " Document(metadata={}, page_content='ur workshop proceedings, 2022, \\nvol. 3146, pp. 33–38, [Online]. Available: https://ceur-ws.org/Vol-3146/PAPER_04.pdf. \\n[20] Sivagowry, S.; Durairaj, M.; Persia, A. (2013) . - An empirical study on applying data mining \\ntechniques for the analysis and prediction of heart disease., [IEEE 2013 International Conference \\non Information Communication and Embed ded Systems (ICICES 2013) - \\ndoi:10.1109/ICICES.2013.6508204.  \\n \\nView publication stats')]"
      ]
     },
     "execution_count": 30,
     "metadata": {},
     "output_type": "execute_result"
    }
   ],
   "source": [
    "doc_ques_gen"
   ]
  },
  {
   "cell_type": "code",
   "execution_count": 48,
   "metadata": {},
   "outputs": [
    {
     "data": {
      "text/plain": [
       "langchain_core.documents.base.Document"
      ]
     },
     "execution_count": 48,
     "metadata": {},
     "output_type": "execute_result"
    }
   ],
   "source": [
    "type(doc_ques_gen[0])"
   ]
  },
  {
   "cell_type": "code",
   "execution_count": 49,
   "metadata": {},
   "outputs": [
    {
     "data": {
      "text/plain": [
       "10"
      ]
     },
     "execution_count": 49,
     "metadata": {},
     "output_type": "execute_result"
    }
   ],
   "source": [
    "len(doc_ques_gen)"
   ]
  },
  {
   "cell_type": "markdown",
   "metadata": {},
   "source": [
    "### Answer Generator Chunking"
   ]
  },
  {
   "cell_type": "markdown",
   "metadata": {},
   "source": [
    "For generating answer from the documents"
   ]
  },
  {
   "cell_type": "code",
   "execution_count": 63,
   "metadata": {},
   "outputs": [],
   "source": [
    "splitter_ans_gen = TokenTextSplitter(\n",
    "    model_name= 'gpt-3.5-turbo',\n",
    "    chunk_size = 1000,\n",
    "    chunk_overlap =100\n",
    ")"
   ]
  },
  {
   "cell_type": "code",
   "execution_count": 64,
   "metadata": {},
   "outputs": [],
   "source": [
    "doc_ans_gen = splitter_ans_gen.split_documents(\n",
    "    doc_ques_gen\n",
    ")"
   ]
  },
  {
   "cell_type": "code",
   "execution_count": 65,
   "metadata": {},
   "outputs": [
    {
     "data": {
      "text/plain": [
       "[Document(metadata={}, page_content=\"See discussions, stats, and author profiles for this publication at: https://www.researchgate.net/publication/381309747\\nHeart Disease Prediction using Machine Learning Method -A Review Article\\nArticle · June 2024\\nCITATIONS\\n0\\nREADS\\n325\\n2 authors, including:\\nRajni Bhalla\\nLovely Professional University\\n28 PUBLICATIONS\\xa0\\xa0\\xa0111 CITATIONS\\xa0\\xa0\\xa0\\nSEE PROFILE\\nAll content following this page was uploaded by Rajni Bhalla on 11 June 2024.\\nThe user has requested enhancement of the downloaded file.72 \\n \\nHeart Disease Prediction using Machine Learning Method – A \\nReview Article \\n \\nSreekumari S 1, Rajni Bhalla 1 and Geetha Ganesan 2 \\n \\n1 Lovely Professional University, Phagwara, Punjab, India \\n2 Jain (Deemed-to-be) University, Bengaluru, India \\n \\n \\nAbstract \\nThis abstract focuses on the significance of heart disease as the leading cause of disability in \\nthe human body, primarily stemming from the reduction or blockage of coronary arteries. \\nCoronary Artery Disease (CAD) emerges as the most prevalent form of heart di sease, often \\nremaining asymptomatic until symptoms of a heart attack or heart failure arise. This paper aims \\nto explore various machine learning techniques utilized in heart disease prediction, supporting \\nthe medical field in expedient diagnosis. The availability of vast amounts of patient information \\nonline presents an opportunity for effective utilization. Accurate diagnosis of heart disease is \\nof utmost importance, as incorrect predictions can have severe consequences on individuals' \\nlives. Numerous regr ession and classification Machine Learning Algorithms are available, \\nincluding K Nearest Neighbor Algorithm (KNN), Support Vector Machine (SVM), Neural \\nNetwork, Logistic Regression (LR), Decision Tree (DT), and Random Forest (RF) \\nClassification. Previous research indicates that SVM and Random Forest methods often exhibit \\nhigher levels of accuracy compared to other approaches. This paper provides a comprehensive \\ndiscussion of commonly employed machine learning algorithms in the field of heart disease \\nprediction. \\n \\nKeywords  1 \\nCoronary Artery Disease, Early Prediction, Regression and Classification, Machine Learning. \\n1. Introduction \\nCongestive heart failure is the main root of dysfunction in anatomy.  It is affected by the \\nreduction/blockage of coronary arteries. Coronary Artery Disease (CAD) is the most common  type of \\nCongestive heart failure. Common signs of Heart attack are Chest pain, body discomfort, and breath \\nshortness. Common symptoms of Arrhythmia are fluttering feelings in the chest or in common we can \\nquote it as “Palpitation.” Whereas common symptom of Heart failure is Breath shortness, Fatigue, or \\nswelling on the Leg, feet, ankles, neck veins, or even in the abdomen. Other than these there are other \\nmedical conditions and life cycles that can make people at high risk for heart disease like, Diabetes, \\nObesity, an Unbalanced diet, Physical incapacity or inactivity, and excessive usage of alcohol. \\n \\nThe current method of using an angiogram to identify heart disea ses has few risks to be overruled. \\nThey include allergic reactions to the dye used to see the coronary arteries, bleeding at the site  where \\nthe catheter is placed, and the usage of dye can even cause damage to the kidney. So, we recommend \\nthe usage of non-invasive methods. Predicting heart disease is extremely critical. Because one error in \\nprediction can lead to the death of the person. If a patient has diseases such as kidney failure or diabetes, \\nthen they must experience a higher risk after an angiogram. Some of such risks are: \\n \\n• May be allergic to anesthesia and contrast dye. \\n \\nCVMLH 2023: Workshop on Computer Vision and Machine Learning for Healthcare, May 20 – 21, 2023, Chennai, India. \\nEMAIL: sreekumari.sreelesh@gmail.com (Sreekumari S) \\nORCID: 0000-0002-0207-4738 (Sreekumari S) \\n \\n©️  2023 Copyright for this paper by its authors. \\nUse permitted under Creative Commons License Attribution 4.0 International (CC BY 4.0).  \\n \\nCEUR Workshop Proceedings (CEUR-WS.org) \\n \\nCEUR\\nWorkshop\\nProceedings\\nceur-ws.org\\nISSN 1613-007373 \\n \\n• Bleeding at the insertion point of the catheter. \\n• Blood clots or injury to an artery or vein. \\n \\nThese kinds of people must take contrast medicine before 24 hours to check whether they are allergic \\nor not. All human beings do not possess higher pain tolerance. Those who are having low pain tolerance \\ncannot undergo an angiogram because of the high\"),\n",
       " Document(metadata={}, page_content=' \\n \\nCEUR\\nWorkshop\\nProceedings\\nceur-ws.org\\nISSN 1613-007373 \\n \\n• Bleeding at the insertion point of the catheter. \\n• Blood clots or injury to an artery or vein. \\n \\nThese kinds of people must take contrast medicine before 24 hours to check whether they are allergic \\nor not. All human beings do not possess higher pain tolerance. Those who are having low pain tolerance \\ncannot undergo an angiogram because of the high-risk factors. In such cases, we must use non-invasive \\nmethods to predict heart diseases. Heart diseases are of diverse types. They are: \\n \\n• Coronary Artery disease (CAD) \\n• Heart Arrhythmias \\n• Heart failure \\n• Heart valve disease \\n• Stroke etc. \\n \\nTo predict heart disease with the best accuracy prediction algorithm should be the  right one . \\nOtherwise, the prediction will go wrong which leads to the death of a person. Here, we have summarized \\nrecent activities in which we can find distinct predictive analytics. \\n \\nSince heart disease datasets are easily available online, data collection becomes remarkably simple. \\nThere is a lack of knowledge of data. That will be achieved after processing the data. This  should be \\nperformed by collecting the proper data after avoiding inappropriate data.  Then find out the missing \\ndata and remove all the duplicates. This step is called data preprocessing. After this split the dataset into \\ntwo such as the training set and testing set. Then apply different classification and regression algorithms \\nto predict whether a person has a chance of any heart  disease. From the accuracy, choose the best \\npredictive method. Fig-1 depicts the predictive method. \\n \\n \\nFigure 1: Predictive Model \\n2. Supervised Machine Learning Algorithms \\nIn supervised machine learning, training data is provided to the machine which works as a supervisor \\nthat teaches the machines to predict the output accurately. In this method, labeled  data is provided to \\ntrain the model and the model learns about distinct types of data. After the training process, the model \\nis evaluated based on test data which is a subset of the training set and then it starts predicting the output. \\nSupervised learning can again be divided into two. They are Regression and Classification. (Fig-2). The \\nfollowing are different machine learning   algorithms. \\n \\n74 \\n \\n. \\nFigure 2: Categories of Supervised Learning \\n2.1. Logistic Regression \\nIt is one of the most significant machine learning algorithms because it can provide probabilities and \\nclassify new data by using discrete and continuous datasets. The first step is to extract the dependent \\nand independent variables. Then splitting of the dataset and feature scaling is performed. The outcome \\nmust be of a categorical or discrete value. \\n2.2. K- nearest neighbor algorithm \\nThis supervised learning algorithm stores all the given data and based on the similarity it classifies \\na new data point. It is also known as the “Lazy- Learner Algorithm.” Because it acts on the dataset \\nduring classification instead of learning from the training dataset. It can be used for both Regression \\nand Classification. But typically used for Classification problems. It will be more effective if the training \\ndata is large. \\n2.3. Support Vector Machine \\nThis is a well-liked supervised learning algorithm. In this plot, each data is a point in n- dimension \\nspace with each value of feature being a particular  coordinate value. Then classification is performed \\nafter finding the hyper-plane which is also known as the best decision boundary. \\n2.4. Artificial Neural Network \\nIt is a special type of machine-learning algorithm that is used  to model the human brain. ANN is \\ncapable of learning from the data, and it provides results as classification or prediction such as neurons \\nin our nervous system  learning from past data. ANNs are non -linear statistical models that show \\ncomplex relationships between inputs and outputs. The three important layers are the input layer, hidden \\nlayers, and output layer. The hidden layer may be single or multiple. In this model, different parameters \\naffect the performance of the model. The output is dependent on this data. The input layer communicates \\nwith the hidden layer and the activated neurons will continue passing until it reaches the output layer. \\n2.5. Decision Trees \\nIt is a type of supervised machine learning algorithm, in which the data set is always split based on \\na defined constraint. Decision nodes and leaves are the two results that can be derived from the decision \\ntree. \\n75 \\n \\n2.6. Random Forest Classification (RFC):  \\nRFC is based on the concept of combo learning, which means a process of solving a complex \\nproblem to an improved and more accurate level of performance of the model by combining the \\nmultiple classifiers. \\n \\nSince this rev iew paper is about machine learning techniques, we have gone through different \\nmachine learning algorithms.'),\n",
       " Document(metadata={}, page_content=' on \\na defined constraint. Decision nodes and leaves are the two results that can be derived from the decision \\ntree. \\n75 \\n \\n2.6. Random Forest Classification (RFC):  \\nRFC is based on the concept of combo learning, which means a process of solving a complex \\nproblem to an improved and more accurate level of performance of the model by combining the \\nmultiple classifiers. \\n \\nSince this rev iew paper is about machine learning techniques, we have gone through different \\nmachine learning algorithms. There are ample methods used in heart disease prediction  other than \\nmachine learning. They are deep learning, Data mining, IoT tools, etc. \\n3. Literature Review \\n \\nE. K. Oikonomou et al.  [1], they have given a clear idea about Artificial intelligence,  Machine \\nlearning, big data, and different prediction methods like supervised and unsupervised  methods. CT \\n(Cardiac Computed Tomography) imaging is the best way to predict  Cardio Artery Disease (CAD), \\nwhich will mitigate the complexity of doctors to predict CAD by using images, and it will be helpful \\nfor the patients to identify the disease faster.  Predictions are performed using Regression analysis and \\nClassification methods. Regression analysis is performed on the image using  a deep neural network \\n(DNN) algorithm or Support vector machines or decision trees. They have given a good explanation of \\nRadiomics. For image processing, detection, and segmentation they have used CCTA (Coronary CT \\nAngiography) scans and Machine Learning (ML) Algorithms. They stated that it can predict many risks \\nwhich are not possible with humans. They concluded by explaining the limitations and stating that this \\nwork has offered a lot to the patients as well as doctors. \\n \\nLi Bin et al. [2] tried to establish a disease pre-alert model within the 3 Year gap for hypertension \\npatients. To achieve public data analysis through AI technologies  they have used spark data analysis \\nfor hypertension patients. Using data mining, unbalanced data is converted to usable form using the Z-\\nscore standard. Stroke, Heart failure, and Renal Failure symptoms viz. 3 group predictions ascertain the \\npre-alert risk warning using a data mining algorithm. AI technologies used in this model are Logistic \\nRegression ( LR), Support  Vector Machine (SVM), and Naive Bayes Algorithm ( NB). For feature \\nselection, they have used the Chi-Square test. In this, they have used three types of datasets. They are \\nStroke, Heart failure, and Renal Failure. But they perform classification on two datasets viz. Stroke and \\nHeart failure. The algorithms used were Naïve Bayes, SVM , and Logistic regression. The stroke data \\nset shows an accuracy of more than .75, while classification results on the heart failure dataset show an \\naccuracy of more than .85. Logistic regression is superior to Naïve Bayes and SVM. They have shown \\nthe Receiver Operating Characteristic curve as well (ROC). They have used SVM -RFE for feature \\nselection, which is not suitable for choosing the most suitable feature subset. For getting better results \\nneed to use a different algorithm for comparing and analyzing in the next research because SVM-RFE \\ncannot evaluate various feature selection algorithms. \\n \\nS Manish et al. [3] they have given a brief description of the technologies used for the study. They \\nhave stated that this is the first paper that uses Optimally Time-Frequency Concentrated (OTFC) even-\\nlength biorthogonal wavelet filter bank (BWFB) for automatically detecting CAD. The Fuzzy Entropy \\n(FE) and log Energy (LogE) features were extracted from various subbands of the filter. They used Raw \\nECG data from twenty males and twenty females and CAD ECG from Six females and one male. Then \\nsignals were classified using Gaussian Support Machine Classifier (GSVM). They have stated that this \\nstudy shows high accuracy compared with other methods and while others are using thirty features for \\nclassification, they use only twelve features. \\n \\nA Moloud et al.  [4] proposed a data mining method for CAD analysis.  Data manipulation and \\nnormalization were performed first. Then they selected features using GA and PSO algorithms. 10-fold \\ncross-validation was performed on subsets. For classification purposes in the prelims test, they used ten 76 \\n \\nalgorithms. Among them, the best three SVM classifiers were selected for the final. They are nu-SVC, \\nnu-SVM, and Linear SVM. To optimize data, they used two optimization methods. Then they generated \\na confusion matrix for evaluating results. They have selected fitness functions. It has shown an accuracy \\nof 93.08% based on the confusion matrix. They concluded by saying that instead of normalization other \\npreprocessing approaches should be used in the future. \\n \\nR Silvia et al'),\n",
       " Document(metadata={}, page_content=' Among them, the best three SVM classifiers were selected for the final. They are nu-SVC, \\nnu-SVM, and Linear SVM. To optimize data, they used two optimization methods. Then they generated \\na confusion matrix for evaluating results. They have selected fitness functions. It has shown an accuracy \\nof 93.08% based on the confusion matrix. They concluded by saying that instead of normalization other \\npreprocessing approaches should be used in the future. \\n \\nR Silvia et al. [5] The objective of this review article is to describe the contemporary state of artificial \\nintelligence in clinical practice. In this paper, they have explained very well about Artificial Intelligence \\nand different subfields of Artificial intelligence like Machine learning, and deep learning and their \\nsubfields. They have given proper descriptions of new emerging  communication and information \\ntechnologies like Mobile health and IOT. These are subfields  of E-health. And explained applications \\nin cardiovascular imaging as well. Echocardiography, Magnetic resonance Imaging, Cardiac computed \\ntomography, and Electrocardiography are different applications in Cardiovascular Imaging. \\n \\nJohnson et al. [6] have done a study about how AI and ML relate to statistics and why cardiology \\nneeds AI. They have explained in detail how to choose the best algorithm for feature selection. Through \\nthis paper , we can easily understand  different supervised Machine Learning algorithms used in \\nCardiovascular disease prediction like Logistic Regression, Regularized Regression, Tree-Based \\nmethods, Bootstrap, and Support Vector Machine. For explaining these they have given proper \\nexamples. In Unsupervised Machine learning, they have given a brief description of Neural networks \\nand Deep Learning methods. The two most common forms of DL are CNN and RNN and explained the \\nmajor disadvantage of deep learning. They have concluded by stating to use this study as a decision tool \\nfor medical practitioners. \\n \\nAcharya et al. [7] explained invasive and non-invasive techniques used in CAD detection. They have \\nused Gaussian Mixture Model (GMM) Classifier for this purpose. Non-linear parameters are extracted \\nfrom echocardiography images. They have taken four hundred normal images of thirty normal subjects \\nand Four hundred CAD images of  thirty affected subjects. They have noticed the ischemic changes. \\nTwelve lead electrocardiogram images were checked for wall motion abnormality. The training set and \\ntest set are there. An expert physician can mark the image collected as belonging to a normal or CAD-\\naffected person. Then different classifiers are used to extract the features. A total of 559 features are \\nextracted from each  image. T -test was used for statisti cal analysis. If p<.01 or.05, the feature is \\nmeasured as very perceptive. A three-fold stratified cross-validation technique is used for developing \\nand testing the classifiers. In this , they have used six classifiers. They are DT, FS, GMM, RBPNN, \\nKNN, and NBC. Then the heart index is calculated which is a combination of nine distinctive features. \\nThe heat index for normal is 2.52± 0.07 and for CAD 2.86± 0.11.  They have stated that this can be \\ntransformed into software, can be implemented on any device,  and concluded that this shows  100% \\naccuracy. \\n \\nS E Golovenkin et al. [8] tried to improve prediction by using the voting method of three competing \\nsystems and by eliminating sparse data columns. In this study,  the prediction was performed using \\nMatlab2016 System, the Neural Network Toolbox module. In Artificial Neural Network, there was one \\ninput layer and two hidden layers. All layers are interconnected, and the output layer predicts the results. \\nThe voting method is used in this. The “Sliding- Window” method was used to increase the efficiency \\nof the learning process. Standard indicators  are Accuracy, Sensitivity , and specificity. They ha ve \\neliminated sparse set input data columns.  They have also stated that the use of 3 Neural Networks \\nincreases accuracy by 1.2%. \\n \\nBabaoglu et al.  [9] used Principle Component Analysis (PCA) which is a   method of identifying \\npatterns in data  and expressing them by highlighting differences and  similarities. They have taken a \\ndataset of 480 patients after excluding patients with some problems. They have used a Support Vector \\nMachine for classification and regression tasks.  The assessments are implem ented in Matlab 7.0 \\napplication using the LIBSVM package. The SVM method for twenty-three features shows less \\naccuracy. So, using the PCA method, features were reduced to eighteen. Then it shows an accuracy of \\n79.17%. They have concluded by stating that, P CA reduced dataset'),\n",
       " Document(metadata={}, page_content=' taken a \\ndataset of 480 patients after excluding patients with some problems. They have used a Support Vector \\nMachine for classification and regression tasks.  The assessments are implem ented in Matlab 7.0 \\napplication using the LIBSVM package. The SVM method for twenty-three features shows less \\naccuracy. So, using the PCA method, features were reduced to eighteen. Then it shows an accuracy of \\n79.17%. They have concluded by stating that, P CA reduced dataset using the SVM method increases 77 \\n \\nthe diagnostic accuracy rate, decreases the sum  of the training and test time , and training error in the \\nassessment of EST (Exercise Stress test) in the determination of CAD with SVM method. \\n \\nZong Chen et al. [10] tried to provide the recent adaptive image -based classification techniques. \\nThey have explained diverse types of heart diseases. They have compared the prediction methods used \\nin different studies. The first step is image registration which can be performed on a raw image database \\nand de-noising processing should be done. The feature is extracted from the image. They have used two \\ndifferent training models. They are Naive - Bayes Classification and SVM. They have concluded by \\nstating that SVM is more accurate than Naïve Bayes Classification. The database needs to be updated \\nwith more descriptions of patients. \\n \\nM M Ali et al. [11] used the Kaggle dataset. They have done a comparison study and developed their \\nexperimental model. They have applied six classification algorithms to compare the accuracy of the \\nbest performer and statistical variables by using a ten-fold cross-validation method. The six classifiers \\nwere KNN, Random Forest, Decision Tree, AdaboostM1(ABM1), Logistic Regression, and Multilayer \\nPerception (MLP). They have  listed the five most crucial features based on feature importance and \\ncorrelation value. In this study compared to other classifiers RF shows 100% accuracy. KNN and MLP \\nfailed to generate feature importance scores or coefficient values. But this method has one limitation,  \\nthis data model is not enough to address all the issues. \\n \\nYazdani A et al.  [12] used WARM (Weighted Associative Rule Mining) to predict  heart disease. \\nThey have compared the efficiency of earlier models that used the WARM method to predict heart \\ndisease. In this model , weights are assigned to identify the  best features mined. Feature values are \\nevaluated. For Eg: Feature values for sex are Male and Female. After that calculate the total weight for \\nthe feature. Then applied WARM using the Apriori algorithm. Of thirteen features, eight significant \\nfeatures were identified. Finally, the confidence score is generated. This model shows a 98% confidence \\nscore which is better than the earlier studies. \\n \\nSumit S et al. [ 13] proposed this study to create a deep learning neural network  heart disease \\nprediction model by using a new optimization technique called Talos Hyperparameter. They have used \\nUCI Heart Disease Dataset. They applied different learning algorithms like Logistic regression, KNN, \\nSVM, Naïve Bayes, and Hyperparameter optimization (Talos). Talos follows POD (Prepare, Optimize, \\nand Deploy) process workflow. Reporting and evaluation are the last process after POD. Talos method \\nshows an accuracy of 90.78% which is better compared to other learning methods. \\n     \\nBharati R et al. [14] conducted this study to compare the performance of both Machine learning as \\nwell as deep learning methods. They have considered a public dataset. In this , they compared both \\nmachine learning as well as deep learning methods.  In pre-processing the data, checked the distribution \\nof data, skewness of data, stats of normal distribution data, feature selection , and checking for \\nduplicates. after that proposed machine learning classifiers as well as deep learning classifiers. Then \\nthey evaluated the process and concluded by stating that dataset size need s to be increased and more \\noptimization and normalization techniques need to be used. \\n \\nIshaq A et al. [15] conducted this study for comparing different machine learning techniques to select \\nthe most suitable method for heart disease survival prediction. The dataset used was UCI Repository. \\nThen applied RF to employ feature ranking. Classified the data into training and testing sets. They \\napplied one oversampling method called SMOTE (Synthetic Minority Oversampling Technique) to deal \\nwith imbalanced data in medicine. Performance evaluation matrices were Accuracy, Precision, Recall, \\nand F-Score.  Among 9 classifiers, they got more accuracy for RF, and it was .8889. With SMOTE, it \\nshows 10% more accuracy. Extra Tree Classifier (ETC) shows an accuracy of .9262.  Here'),\n",
       " Document(metadata={}, page_content=' training and testing sets. They \\napplied one oversampling method called SMOTE (Synthetic Minority Oversampling Technique) to deal \\nwith imbalanced data in medicine. Performance evaluation matrices were Accuracy, Precision, Recall, \\nand F-Score.  Among 9 classifiers, they got more accuracy for RF, and it was .8889. With SMOTE, it \\nshows 10% more accuracy. Extra Tree Classifier (ETC) shows an accuracy of .9262.  Here RF produces \\nConstant approximation, ETC produces multi-linear approximation. \\n \\nRajni Bhalla et al. [16] presents a detailed examination of the effectiveness and performance of both \\nproposed and existing methodologies for classification task. The study aims to compare and evaluate \\nthe advantages and limitations of different methodologies for collectin g and analyzing data for 78 \\n \\nstructured data. By conducting a comparative analysis, the paper provides valuable insights for \\nresearchers and practitioners seeking to optimize their methodologies for classification tasks and for \\ndata that is in a structured format. \\n \\nAbdel-Basset M et al. [17] proposed this study to develop an IoT model to detect and monitor heart \\nfailure-infected patients. Achieved from various wearable sensors. They used WBAN or medical sensor \\nnodes. The data extracted from WBAN convey are sent to the mobile application through Bluetooth or \\nZigBee and stored in the cloud server to store, process , and broadcast data. Then N- MCDM model is \\nused to determine the percentage of heart failure disease. If the patient has severe heart failure, then an \\nambulance will be sent to the patient and treatments will be started. This will provide the ratio of heart \\nfailure so that the clinicians can easily decide the type of treatment.  \\n \\nRajni Bhalla et al. [18] presents a novel ensemble -based machine learning mo del that combines \\nmultiple categorical datasets to enhance prediction accuracy. The proposed approach consists of three \\nmain components: dataset alignment, model training, and prediction aggregation. The dataset alignment \\nphase focuses on mapping categoric al variables across different datasets, ensuring consistency and \\ncompatibility. \\n \\nRajni Bhalla et al. [19] concludes by identifying the current research trends and challenges in \\nsentiment classification using hybrid ensemble -based approaches. It highlights the need for further \\ninvestigation into the combination of diverse classifiers and the integration of deep learning techniques \\nin ensemble frameworks.  The hybrid ensemble approach can be applied to classification dataset like \\nheart disease detection to achieve better accuracy. \\n \\nSivagowry S et al. [20] created a review of the application of data mining in heart disease prediction. \\nIn this, they have compared different data mining algorithms and concluded like heart disease prediction \\nwith data mining will become most successful with a smaller number of attributes, and text mining the \\nmedical data needs to be extended in predicting the health care data. \\n4. Methodology  \\n \\nFigure 3: Methodology \\n79 \\n \\nData collection is the first step. Data can be collected in two ways such as Online data and real-time \\ndata. Then we have to remove noise, missing values, useless values and all. This step is called data \\npreprocessing. Most of the online datasets are already preprocessed. So, we can directly use it without \\npreprocessing. But for real -time data, preprocessing can be done in different ways such as by using \\nmachine learning, deep learning or data mining methods. After this step we will get the data in usable \\nformat. Now, need to split the dataset into Training and Testing set. We can split the dataset in such a \\nway that 70% for training the model and 30% for testing. First train the model with train set. Then select \\nthe most significant feature for improving the prediction accuracy. Now, give test set to the model. It \\nwill predict accordingly. There are different evaluation metrics for checking the efficiency of the model \\nsuch as Precision, Recall, F1-score, confusion matrix and ROC curves etc. (Fig-3 depicts the same). \\n5. Results \\nThere are different regression and classification algorithms used to predict heart disease.  Different \\nmethods are used in different papers, and they have shown the accuracy that they obtained while using \\ndifferent methods. Table 1 shows the comparison of different works. In most of the papers, the different \\nalgorithms used are Naive Bayes, Logistic Regression, ANN, SVM, DT, RF, etc. Among them, ANN \\nand RF show more accuracy. \\n \\nTable 1: Comparison of previous works \\nReference Methodology Dataset Accuracy \\n[1] Support Vector Machine 42 CCTA Sensitivity- 93% \\nSpecificity-95% \\n[2] Naive Bayes SVM (Linear) \\nLogistic Regression \\nStroke Dataset 5257 Heart \\nfailure Dataset 714 \\nOn Stroke Dataset'),\n",
       " Document(metadata={}, page_content=' are Naive Bayes, Logistic Regression, ANN, SVM, DT, RF, etc. Among them, ANN \\nand RF show more accuracy. \\n \\nTable 1: Comparison of previous works \\nReference Methodology Dataset Accuracy \\n[1] Support Vector Machine 42 CCTA Sensitivity- 93% \\nSpecificity-95% \\n[2] Naive Bayes SVM (Linear) \\nLogistic Regression \\nStroke Dataset 5257 Heart \\nfailure Dataset 714 \\nOn Stroke Dataset Naive \\nBayes- 0.7662(Accuracy) \\nSVM (Linear)-0.7827 \\nLogistic Regression- \\n0.7820 \\nOn Heart Failure Dataset \\nNaive Bayes- 0.8571 \\nSVM(Linear)-0.8595 \\nLogistic Regression- \\n0.8529 \\n[3] Signals were segmented into \\ntwo seconds (Set A) and five \\nseconds (Set B) duration. \\nThen applied GSVM. \\n1. Signals used are \\ni) Normal ECG database. \\nii) CAD ECG signals. \\nRaw ECG data from twenty \\nmales and twenty females and \\nCAD ECG from  6 females and \\none male. \\nGSVM -99.53% \\n[4] Cross-validation – stratified \\n10-fold. \\nMachine learning- KNN, \\nreglog, GaussNB, LDA, QDA, \\nRandomForest, MLP, SVM (3 \\ntypes, including C -SVC, nu-\\nSVC, and Linear SVM. \\n \\n303 patients annotated with \\nfifty-four factors. (CAD and \\nNormal, with 216 CAD and 87 \\nNormal (non-CAD) patients). \\nnuSVM method with GA  \\nand ACC fitness function  \\ntesting set shows an \\naccuracy of 93.08% \\n[7] Heart Index 400 normal images of 30 \\nsubjects and 400 CAD images \\nThe heart index for normal \\nis 2.52± 0.07 and for CAD. 80 \\n \\nof 30 affected subjects using \\nthe Vivid 7 Dimension \\nmodality for GE Health care. \\nThe normal group \\nage range was 20- 45, and the \\nCAD group age range was 35-\\n65.  \\n2.86± 0.11 \\n[8] Voting method \\nEliminated the sparse set \\ninput data columns. \\n1700 patients with \\nMyocardial Infarction. There \\nwere 1065 (62.6%) Men and \\n635(37.4%) \\nWomen. \\nNeural network -95% \\naccuracy for 3 out of 12 \\ndiagnoses with up to 98% \\nspecificity. \\n[11] Supervised machine \\nlearning algorithms \\n1) KNN \\n2) Random Forest \\n3) Decision Tree \\n4) Adaboost M1  \\n5)  Logistic Regression \\n6) Multilayer Perception  \\nKaggle Dataset Random Forest -100% \\naccuracy. \\n[12] Applied WARM  \\n Apriori Algorithm \\n \\nCleveland dataset from UCI \\nMachine Learning \\nRepository. \\nConfidence Score-98% \\n[13] Learning Algorithms \\n     a. Logistic Regression \\n     b. KNN \\n     c. SVM \\n     d. Naïve Bayes \\n     e. Hyper-parameter optimization \\n(Talos) \\n     f. Random Forest Classifier \\nUCI Heart Disease Dataset. \\n \\nTalos-90.78%  \\n[14]  Machine learning classifiers \\n Deep learning pseudocode \\nPublic health dataset. \\n4 Databases \\n1. Cleveland \\n2. Hungary \\n3. Switzerland and  \\n4. Long Beach V \\n \\nMachine learning \\nK neighbors – 84.8%   \\nDeep Learning \\n94.2% \\n[15] 9 Classifiers \\nSynthetic Minority Over Sampling \\ntechnique (SMOTE) \\n \\nUCI RF-.8889 \\nExtra Tree Classifier with \\nSMOTE- .9262 \\n \\n[17] IoT model \\nWBAN sensors \\nN-MCDM model \\nWearable sensors Returns Heart failure \\nratio. \\n6. Conclusion and Future Work \\nIn conclusion, the diagnosis of heart disease remains a paramount concern within our medical \\nsociety. Manual predictions, though rare, can still yield incorrect results due to the need for precise \\nimage assessment. Non -invasive methods provide an alternati ve for individuals concerned about 81 \\n \\ntraditional diagnostic approaches, enabling them to take proactive preventive measures. This study \\nhighlights various approaches such as machine learning, deep learning, data mining, and IoT tools for \\npredicting heart dis ease. However, the accuracy of these methods poses challenges, given the high \\nstakes involved in predicting human life. Even models achieving 100% accuracy during testing may \\nencounter failures when applied to real -time data. In this software -'),\n",
       " Document(metadata={}, page_content=' provide an alternati ve for individuals concerned about 81 \\n \\ntraditional diagnostic approaches, enabling them to take proactive preventive measures. This study \\nhighlights various approaches such as machine learning, deep learning, data mining, and IoT tools for \\npredicting heart dis ease. However, the accuracy of these methods poses challenges, given the high \\nstakes involved in predicting human life. Even models achieving 100% accuracy during testing may \\nencounter failures when applied to real -time data. In this software -driven era, it is crucial to develop \\nrobust and cost -effective solutions that deliver more accurate results. Further comprehensive studies \\nshould be conducted to advance our understanding and achieve better outcomes in this field. \\n7. References \\n[1] Oikonomou E K, Siddique M &  Antoniades C, Artificial Intelligence in Medical Imaging: a \\nradiomic guide to precision phenotyping of Cardiovascular disease, Cardiovascular Research, \\n116(13), 2040-2054. https:// doi:10.1093/cvr/cvaa021. \\n[2] Li, B, Ding S, Song G, Li J, Zhang Q. 2019. Compu ter-Aided Diagnosis and Clinical Trials of \\nCardiovascular Diseases Based on Artificial Intelligence Technologies for Risk -Early Warning \\nModel. J Med Syst 43, 228. https://doi.org/10.1007/s10916-019- 1346-x. \\n[3] Manish Sharma, U. Rajendra Acharya, 2019. A New Method to Identify Coronary Artery Disease \\nwith ECG Signals and Time-Frequency Concentrated Antisymmetric Biorthogonal Wavelet Filter \\nBank, Pattern Recognition Letters. S0167 -8655(19)30121- 7. \\nhttps://doi.org/10.1016/j.patrec.2019.04.014. \\n[4] Abdar M, Ksiazek W , Rajendra Acharya U, Tan R S, Makarenkov V, Plaviak P. 2019.A New \\nMachine Learning Technique for an Accurate Diagnosis of Coronary Artery Disease, Computer \\nMethods, and Programs in Biomedicine. S0169 -2607(18)31458-5. \\nhttps://doi.org/10.1016/j.cmpb.2019.104992. \\n[5] Romiti S, Vinciguerra M, Saade W et al.,2020. \"Artificial Intelligence (AI) and Cardiovascular \\nDiseases: An Unexpected Alliance\", Cardiology Research and Practice, vol. 2020, Article ID \\n4972346, 8 pages. https://doi.org/10.1155/2020/4972346 \\n[6] Johnson, K. W., Torres Soto, J., Glicksberg, B. S., Shameer, K., Miotto, R., Ali, M., ... & Dudley, \\nJ. T. (2018). Artificial intelligence in cardiology. Journal of the American College of \\nCardiology, 71(23), 2668-2679. https://www.jacc.org/doi/abs/10.1016/j.jacc.2018.03.521. \\n[7] Acharya U R, Sree S V, Krishnan M M R, Krishnananda N, Ranjan S, Umesh P & Suri J S, (2013). \\nAutomated classification of patients with coronary artery disease using grayscale features from left \\nventricle echocardiographic images, Computer Methods and Programs in Biomedicine,  Volume \\n112, Issue 3,2013, Pages 624-632. https://doi.org/10.1016/j.cmpb.2013.07.012. \\n[8] Golovenkin S E, Dorrer M G, Nikulina S Y, Orlova Y V, & Pelipeckaya E Y, (2020), Evaluation \\nof the effectiveness of using artificial intelligence to predict the response of the human body to \\ncardiovascular diseases. Journal of Physics: Conference Series, Vo lume 1679. No. 4, \\nhttps://iopscience.iop.org/article/10.1088/1742- 6596/1679/4/042017/meta. \\n[9] Babaoglu I, Findik O & Bayrak M, (2010). Effects of principle component analysis on assessment \\nof coronary artery diseases using support vector machine, Expert Syst ems with Applications, \\nVolume 37, Issue 3, 2010, Pages 2182-2185. https://doi.org/10.1016/j.eswa.2009.07.055. \\n'),\n",
       " Document(metadata={}, page_content='6/1679/4/042017/meta. \\n[9] Babaoglu I, Findik O & Bayrak M, (2010). Effects of principle component analysis on assessment \\nof coronary artery diseases using support vector machine, Expert Syst ems with Applications, \\nVolume 37, Issue 3, 2010, Pages 2182-2185. https://doi.org/10.1016/j.eswa.2009.07.055. \\n[10] Chen J I Z, &  Hengjinda P. (2021). Early Prediction of Coronary Artery Disease ( CAD) by \\nMachine Learning Method- A Comparative Study, Journal of A rtificial Intelligence and Capsule \\nNetworks, Vol.03/ No.01, Pages: 17-33. https://doi.org/10.36548/jaicn.2021.1.002. \\n[11] M M Ali, B K Paul, Kawsar Ahmed, Francis M B, Julian M W, Q M A Moni, (2021), Heart disease \\nprediction using supervised machine learning al gorithms: Performance analysis and comparison, \\nComputers in Biology and Medicine, Volume 136, \\nhttps://doi.org/10.1016/j.compbiomed.2021.104672. \\n[12] Yazdani A, Varathan K D, Chiam Y K, Malik A W, & Wan Ahmad, W A (2021). A novel approach \\nfor heart disease prediction using strength scores  with significant predictors. BMC Medical \\nInformatics and Decision Making 21(1). https://doi.org/10.1186/s12911-021-01527-5. \\n[13] Sumit Sharma, Mahesh Parmar (2020), Heart Diseases Prediction using Deep Learning  \\nNeural Network Model, International Journal of Innovative Technology and Exploring \\nEngineering (IJITEE), Volume-9, Issue-3. https://doi.org/10.35940/ijitee.C9009.019320. 82 \\n \\n[14] Bharti R, Khamparia A, Shabaz M, Dhiman G, Pande S, Singh P. Prediction of Heart Disease \\nUsing a Combination of Machine Learning and Deep Learning. Comput Intell Neurosci. 2021 Jul \\n1; 2021:8387680. doi- 10.1155/2021/8387680. PMID: 34306056; PMCID: PMC8266441. \\n[15] Abid Ishaq, Saima Sadiq, Muhammad Umer, Saleem Ullah, Seyedali Mirjalili, Vaibhav Rupapara, \\nand Michele Nappi, Improving the Prediction of Heart Failure Patients’ Survival Using SMOTE \\nand Effective Data Mining Techniques, IEEE Access, VOLUME 9, 2021, Pages 39707 -39716. \\n[16] Bhalla R, Amandeep. A comparative analysis of application of proposed and the existing \\nmethodologies on a mobile phone survey. In Futurist ic Trends in Networks and Computing \\nTechnologies: Second International Conference, FTNCT 2019, Chandigarh, India, November 22–\\n23, 2019, Revised Selected Papers 2 2020 (pp. 107-115). Springer Singapore. \\n[17] Abdel-Basset, M., Gamal, A., Manogaran, G., Son, L. H. , & Long, H. V. (2019).  A novel group \\ndecision-making model based on neutrosophic sets for heart disease diagnosis. Multimedia Tools \\nand Applications. doi:10.1007/s11042-019-07742-7. \\n[18] Bhalla R, Sharma A, Gupta J. An Ensemble -based Machine Learning Model for  Accurate \\nPredictions using Multiple Categorical Datasets. In2022 Second International Conference on \\nInterdisciplinary Cyber Physical Systems (ICPS) 2022 May 9 (pp. 1-4). IEEE. \\n[19] R. Bhalla, A. Sharma, and G. Ganesan, “A Bibliographic Survey of Sentiment Classification using \\nHybrid Ensemble-based Machine Learning Approaches,” in ceur workshop proceedings, 2022, \\nvol. 3146, pp. 33–38, [Online]. Available: https://ceur-ws.org/Vol-3146/PAPER_04.pdf. \\n[20] Sivagowry, S.; Durairaj, M.; Persia, A. (2013) . - An empirical study on applying data mining \\ntechniques for the analysis and prediction of heart disease., [IEEE 2013 International Conference'),\n",
       " Document(metadata={}, page_content='ur workshop proceedings, 2022, \\nvol. 3146, pp. 33–38, [Online]. Available: https://ceur-ws.org/Vol-3146/PAPER_04.pdf. \\n[20] Sivagowry, S.; Durairaj, M.; Persia, A. (2013) . - An empirical study on applying data mining \\ntechniques for the analysis and prediction of heart disease., [IEEE 2013 International Conference \\non Information Communication and Embed ded Systems (ICICES 2013) - \\ndoi:10.1109/ICICES.2013.6508204.  \\n \\nView publication stats')]"
      ]
     },
     "execution_count": 65,
     "metadata": {},
     "output_type": "execute_result"
    }
   ],
   "source": [
    "doc_ans_gen"
   ]
  },
  {
   "cell_type": "code",
   "execution_count": 66,
   "metadata": {},
   "outputs": [
    {
     "data": {
      "text/plain": [
       "10"
      ]
     },
     "execution_count": 66,
     "metadata": {},
     "output_type": "execute_result"
    }
   ],
   "source": [
    "len(doc_ans_gen)"
   ]
  },
  {
   "cell_type": "markdown",
   "metadata": {},
   "source": [
    "## LLM pipeline"
   ]
  },
  {
   "cell_type": "code",
   "execution_count": 50,
   "metadata": {},
   "outputs": [
    {
     "name": "stderr",
     "output_type": "stream",
     "text": [
      "C:\\Users\\kathi\\AppData\\Local\\Temp\\ipykernel_8484\\3097622622.py:2: LangChainDeprecationWarning: The class `ChatOpenAI` was deprecated in LangChain 0.0.10 and will be removed in 1.0. An updated version of the class exists in the :class:`~langchain-openai package and should be used instead. To use it run `pip install -U :class:`~langchain-openai` and import as `from :class:`~langchain_openai import ChatOpenAI``.\n",
      "  llm_ques_gen_pipeline = ChatOpenAI(\n"
     ]
    }
   ],
   "source": [
    "from langchain.chat_models import ChatOpenAI\n",
    "llm_ques_gen_pipeline = ChatOpenAI(\n",
    "    model = \"gpt-3.5-turbo\",\n",
    "    temperature = 0.3\n",
    ")"
   ]
  },
  {
   "cell_type": "code",
   "execution_count": 51,
   "metadata": {},
   "outputs": [],
   "source": [
    "prompt_template = \"\"\"\n",
    "You are an expert at creating an interview questions based on the documents.\n",
    "You can able to create a questions for small to large documents.\n",
    "Your goal is to prepare a user for their interview.\n",
    "You do this by asking questions about the text below:\n",
    "\n",
    "---------\n",
    "{text}\n",
    "---------\n",
    "\n",
    "Create questions that will prepare the user for their interviews.\n",
    "Make sure you are giving basic to advance level questions.\n",
    "Be aware not to lose any important information.\n",
    "\n",
    "Questions:\n",
    "\"\"\""
   ]
  },
  {
   "cell_type": "code",
   "execution_count": 52,
   "metadata": {},
   "outputs": [],
   "source": [
    "from langchain.prompts import PromptTemplate"
   ]
  },
  {
   "cell_type": "code",
   "execution_count": 75,
   "metadata": {},
   "outputs": [],
   "source": [
    "PROMPT_QUESTIONS = PromptTemplate(\n",
    "    template = prompt_template,\n",
    "    input_variables=['text'] # user's uploading document\n",
    ")"
   ]
  },
  {
   "cell_type": "markdown",
   "metadata": {},
   "source": [
    "Its an second layer verification, to get a better result.\n",
    "- This will work on previous prompt answer and it will give better result. \n",
    "- If the previous result is irrelavent it will handle that."
   ]
  },
  {
   "cell_type": "code",
   "execution_count": 76,
   "metadata": {},
   "outputs": [],
   "source": [
    "refine_template = (\"\"\"\n",
    "You are an expert at creating interview questions based on the  material and documentation.\n",
    "Your goal is to help a user to prepare for a  interview.\n",
    "We have received some interview questions to a certain extent: {existing_answer}.\n",
    "We have the option to refine the existing questions or add new ones.\n",
    "(only if necessary) with some more context below.\n",
    "------------\n",
    "{text}\n",
    "------------\n",
    "\n",
    "Given the new context, refine the original questions in English.\n",
    "If the context is not helpful, please provide the original questions.\n",
    "QUESTIONS:\n",
    "\"\"\"\n",
    ")"
   ]
  },
  {
   "cell_type": "code",
   "execution_count": null,
   "metadata": {},
   "outputs": [],
   "source": [
    "REFINE_PROMPT_QUESTIONS = PromptTemplate(\n",
    "    input_variables=['existing_answer',\"text\"], # previous ans and the input from user\n",
    "    template= refine_template\n",
    ")"
   ]
  },
  {
   "cell_type": "markdown",
   "metadata": {},
   "source": [
    "To create chain for creating question"
   ]
  },
  {
   "cell_type": "code",
   "execution_count": 56,
   "metadata": {},
   "outputs": [],
   "source": [
    "from langchain.chains.summarize import load_summarize_chain"
   ]
  },
  {
   "cell_type": "code",
   "execution_count": 78,
   "metadata": {},
   "outputs": [],
   "source": [
    "ques_gen_chain = load_summarize_chain(\n",
    "    llm=llm_ques_gen_pipeline,\n",
    "    chain_type=\"refine\", # here using refine temp so refine is a type\n",
    "    # verbose=True,\n",
    "    question_prompt = PROMPT_QUESTIONS,\n",
    "    refine_prompt = REFINE_PROMPT_QUESTIONS\n",
    ")"
   ]
  },
  {
   "cell_type": "code",
   "execution_count": 95,
   "metadata": {},
   "outputs": [
    {
     "data": {
      "text/plain": [
       "\"1. Can you elaborate on the significance of heart disease as the leading cause of disability in the human body, as mentioned in the abstract of the document?\\n2. What defines Coronary Artery Disease (CAD) and why is it considered the most prevalent form of heart disease according to the document?\\n3. What are some typical signs and symptoms of a heart attack, arrhythmia, and heart failure as outlined in the document?\\n4. Why is it crucial to accurately diagnose heart disease, and what are the risks associated with the current practice of using an angiogram for diagnosis as discussed in the document?\\n5. Which machine learning techniques are mentioned in the document for predicting heart disease?\\n6. Based on prior research, which machine learning methods tend to demonstrate higher levels of accuracy in predicting heart disease compared to others as discussed in the document?\\n7. How can the abundance of patient information available online be effectively utilized in predicting heart disease using machine learning according to the document?\\n8. What medical conditions and lifestyle factors can increase individuals' risk for heart disease as indicated in the document?\\n9. What risks are associated with individuals who have conditions like kidney failure or diabetes when undergoing an angiogram for diagnosing heart disease as discussed in the document?\\n10. Can you explain the significance of accurately predicting heart disease and the potential consequences of incorrect predictions on individuals' lives based on the information provided in the document?\""
      ]
     },
     "execution_count": 95,
     "metadata": {},
     "output_type": "execute_result"
    }
   ],
   "source": [
    "questions = ques_gen_chain.run(doc_ques_gen)\n",
    "questions"
   ]
  },
  {
   "cell_type": "code",
   "execution_count": 96,
   "metadata": {},
   "outputs": [
    {
     "data": {
      "text/plain": [
       "['1. Can you elaborate on the significance of heart disease as the leading cause of disability in the human body, as mentioned in the abstract of the document?',\n",
       " '2. What defines Coronary Artery Disease (CAD) and why is it considered the most prevalent form of heart disease according to the document?',\n",
       " '3. What are some typical signs and symptoms of a heart attack, arrhythmia, and heart failure as outlined in the document?',\n",
       " '4. Why is it crucial to accurately diagnose heart disease, and what are the risks associated with the current practice of using an angiogram for diagnosis as discussed in the document?',\n",
       " '5. Which machine learning techniques are mentioned in the document for predicting heart disease?',\n",
       " '6. Based on prior research, which machine learning methods tend to demonstrate higher levels of accuracy in predicting heart disease compared to others as discussed in the document?',\n",
       " '7. How can the abundance of patient information available online be effectively utilized in predicting heart disease using machine learning according to the document?',\n",
       " \"8. What medical conditions and lifestyle factors can increase individuals' risk for heart disease as indicated in the document?\",\n",
       " '9. What risks are associated with individuals who have conditions like kidney failure or diabetes when undergoing an angiogram for diagnosing heart disease as discussed in the document?',\n",
       " \"10. Can you explain the significance of accurately predicting heart disease and the potential consequences of incorrect predictions on individuals' lives based on the information provided in the document?\"]"
      ]
     },
     "execution_count": 96,
     "metadata": {},
     "output_type": "execute_result"
    }
   ],
   "source": [
    "questions_list = questions.split('\\n')\n",
    "questions_list"
   ]
  },
  {
   "cell_type": "markdown",
   "metadata": {},
   "source": [
    "# Embedding model"
   ]
  },
  {
   "cell_type": "code",
   "execution_count": 80,
   "metadata": {},
   "outputs": [],
   "source": [
    "from langchain.embeddings.openai import OpenAIEmbeddings"
   ]
  },
  {
   "cell_type": "code",
   "execution_count": 81,
   "metadata": {},
   "outputs": [],
   "source": [
    "embeddings = OpenAIEmbeddings()"
   ]
  },
  {
   "cell_type": "code",
   "execution_count": 82,
   "metadata": {},
   "outputs": [],
   "source": [
    "from langchain.vectorstores import FAISS"
   ]
  },
  {
   "cell_type": "code",
   "execution_count": 83,
   "metadata": {},
   "outputs": [],
   "source": [
    "vector_store = FAISS.from_documents(doc_ans_gen,embeddings)"
   ]
  },
  {
   "cell_type": "code",
   "execution_count": 84,
   "metadata": {},
   "outputs": [],
   "source": [
    "llm_ans_gen = ChatOpenAI(temperature =0.1,\n",
    "                         model = \"gpt-3.5-turbo\")"
   ]
  },
  {
   "cell_type": "markdown",
   "metadata": {},
   "source": [
    "To Generate Answer based on the question"
   ]
  },
  {
   "cell_type": "code",
   "execution_count": 88,
   "metadata": {},
   "outputs": [],
   "source": [
    "from langchain.chains import RetrievalQA"
   ]
  },
  {
   "cell_type": "code",
   "execution_count": 89,
   "metadata": {},
   "outputs": [],
   "source": [
    "answer_generation_chain = RetrievalQA.from_chain_type(llm=llm_ans_gen, \n",
    "                                               chain_type=\"stuff\", \n",
    "                                               retriever=vector_store.as_retriever())\n"
   ]
  },
  {
   "cell_type": "code",
   "execution_count": 97,
   "metadata": {},
   "outputs": [
    {
     "name": "stdout",
     "output_type": "stream",
     "text": [
      "Question:  1. Can you elaborate on the significance of heart disease as the leading cause of disability in the human body, as mentioned in the abstract of the document?\n",
      "Answer:  Heart disease is a significant health concern as it is the leading cause of disability in the human body. It primarily stems from the reduction or blockage of coronary arteries, leading to conditions like Coronary Artery Disease (CAD). Heart disease often remains asymptomatic until symptoms of a heart attack or heart failure arise, making it crucial to predict and diagnose accurately. The impact of heart disease on individuals can be severe, and incorrect predictions can have life-threatening consequences. Therefore, utilizing machine learning techniques for heart disease prediction is essential for expedient diagnosis and effective treatment.\n",
      "--------------------------------------------------\\n\\n\n",
      "Question:  2. What defines Coronary Artery Disease (CAD) and why is it considered the most prevalent form of heart disease according to the document?\n",
      "Answer:  Coronary Artery Disease (CAD) is defined as a condition that arises from the reduction or blockage of coronary arteries, leading to a decrease in blood flow to the heart muscle. It is considered the most prevalent form of heart disease because it is the main cause of congestive heart failure and is associated with various symptoms such as chest pain, body discomfort, and shortness of breath. CAD often remains asymptomatic until symptoms of a heart attack or heart failure manifest, making it a significant health concern.\n",
      "--------------------------------------------------\\n\\n\n",
      "Question:  3. What are some typical signs and symptoms of a heart attack, arrhythmia, and heart failure as outlined in the document?\n",
      "Answer:  Some typical signs and symptoms of a heart attack, arrhythmia, and heart failure as outlined in the document are:\n",
      "\n",
      "1. **Heart Attack**:\n",
      "   - Chest pain\n",
      "   - Body discomfort\n",
      "   - Shortness of breath\n",
      "\n",
      "2. **Arrhythmia**:\n",
      "   - Fluttering feelings in the chest (Palpitations)\n",
      "\n",
      "3. **Heart Failure**:\n",
      "   - Shortness of breath\n",
      "   - Fatigue\n",
      "   - Swelling in the legs, feet, ankles, neck veins, or abdomen\n",
      "--------------------------------------------------\\n\\n\n",
      "Question:  4. Why is it crucial to accurately diagnose heart disease, and what are the risks associated with the current practice of using an angiogram for diagnosis as discussed in the document?\n",
      "Answer:  It is crucial to accurately diagnose heart disease because incorrect predictions can have severe consequences on individuals' lives. Heart disease is a leading cause of disability and can lead to serious conditions like heart attacks, heart failure, and stroke. Accurate diagnosis is essential for timely treatment and preventive measures.\n",
      "\n",
      "The risks associated with the current practice of using an angiogram for diagnosis include allergic reactions to the dye used to see the coronary arteries, bleeding at the site where the catheter is placed, and potential damage to the kidney from the dye. Additionally, individuals with conditions like kidney failure or diabetes may be at higher risk after undergoing an angiogram due to potential complications like allergic reactions to anesthesia and contrast dye.\n",
      "--------------------------------------------------\\n\\n\n",
      "Question:  5. Which machine learning techniques are mentioned in the document for predicting heart disease?\n",
      "Answer:  The machine learning techniques mentioned in the document for predicting heart disease include:\n",
      "1. K Nearest Neighbor Algorithm (KNN)\n",
      "2. Support Vector Machine (SVM)\n",
      "3. Neural Network\n",
      "4. Logistic Regression (LR)\n",
      "5. Decision Tree (DT)\n",
      "6. Random Forest (RF)\n",
      "--------------------------------------------------\\n\\n\n",
      "Question:  6. Based on prior research, which machine learning methods tend to demonstrate higher levels of accuracy in predicting heart disease compared to others as discussed in the document?\n",
      "Answer:  Based on the prior research discussed in the document, Support Vector Machine (SVM) and Random Forest (RF) methods often exhibit higher levels of accuracy compared to other machine learning approaches in predicting heart disease.\n",
      "--------------------------------------------------\\n\\n\n",
      "Question:  7. How can the abundance of patient information available online be effectively utilized in predicting heart disease using machine learning according to the document?\n",
      "Answer:  The document suggests that the availability of vast amounts of patient information online presents an opportunity for effective utilization in predicting heart disease using machine learning. By leveraging this data, machine learning techniques can be applied to support expedient diagnosis in the medical field. The document emphasizes the importance of accurate diagnosis in heart disease prediction, as incorrect predictions can have severe consequences on individuals' lives.\n",
      "--------------------------------------------------\\n\\n\n",
      "Question:  8. What medical conditions and lifestyle factors can increase individuals' risk for heart disease as indicated in the document?\n",
      "Answer:  The medical conditions and lifestyle factors that can increase individuals' risk for heart disease as indicated in the document are:\n",
      "- Diabetes\n",
      "- Obesity\n",
      "- Unbalanced diet\n",
      "- Physical incapacity or inactivity\n",
      "- Excessive usage of alcohol\n",
      "--------------------------------------------------\\n\\n\n",
      "Question:  9. What risks are associated with individuals who have conditions like kidney failure or diabetes when undergoing an angiogram for diagnosing heart disease as discussed in the document?\n",
      "Answer:  Individuals with conditions like kidney failure or diabetes who undergo an angiogram for diagnosing heart disease face risks such as being allergic to anesthesia and contrast dye used during the procedure. Additionally, they may experience bleeding at the insertion point of the catheter and there is a risk of blood clots or injury to an artery or vein.\n",
      "--------------------------------------------------\\n\\n\n",
      "Question:  10. Can you explain the significance of accurately predicting heart disease and the potential consequences of incorrect predictions on individuals' lives based on the information provided in the document?\n",
      "Answer:  Accurately predicting heart disease is crucial because one error in prediction can lead to severe consequences, including the death of the individual. The document highlights that heart disease is the leading cause of disability in the human body, primarily stemming from the reduction or blockage of coronary arteries. It mentions that coronary artery disease (CAD) is the most prevalent form of heart disease and often remains asymptomatic until symptoms of a heart attack or heart failure arise. \n",
      "\n",
      "The potential consequences of incorrect predictions on individuals' lives can be dire. For instance, if a patient with underlying conditions like kidney failure or diabetes undergoes an incorrect prediction, they may face higher risks after procedures like an angiogram. The risks associated with traditional diagnostic approaches, such as allergic reactions to dyes, bleeding, or kidney damage, can be avoided by using non-invasive methods for prediction. \n",
      "\n",
      "Therefore, accurate prediction of heart disease is essential to ensure timely intervention and appropriate treatment. Incorrect predictions can lead to delayed or inappropriate medical care, potentially resulting in life-threatening situations for individuals.\n",
      "--------------------------------------------------\\n\\n\n"
     ]
    }
   ],
   "source": [
    "# Answer each question and save to a file\n",
    "for que in questions_list:\n",
    "    print(\"Question: \", que)\n",
    "    answer = answer_generation_chain.run(que)\n",
    "    print(\"Answer: \", answer)\n",
    "    print(\"--------------------------------------------------\\\\n\\\\n\")\n",
    "    # Save answer to file\n",
    "    with open(\"answers.txt\", \"a\") as f:\n",
    "        f.write(\"Question: \" + que + \"\\\\n\")\n",
    "        f.write(\"Answer: \" + answer + \"\\\\n\")\n",
    "        f.write(\"--------------------------------------------------\\\\n\\\\n\")\n",
    "\n",
    "\n"
   ]
  },
  {
   "cell_type": "code",
   "execution_count": null,
   "metadata": {},
   "outputs": [],
   "source": []
  }
 ],
 "metadata": {
  "kernelspec": {
   "display_name": "interviewapp",
   "language": "python",
   "name": "python3"
  },
  "language_info": {
   "codemirror_mode": {
    "name": "ipython",
    "version": 3
   },
   "file_extension": ".py",
   "mimetype": "text/x-python",
   "name": "python",
   "nbconvert_exporter": "python",
   "pygments_lexer": "ipython3",
   "version": "3.10.15"
  }
 },
 "nbformat": 4,
 "nbformat_minor": 2
}
